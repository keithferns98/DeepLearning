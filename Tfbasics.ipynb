{
  "nbformat": 4,
  "nbformat_minor": 0,
  "metadata": {
    "colab": {
      "name": "Tfbasics.ipynb",
      "provenance": [],
      "collapsed_sections": [],
      "authorship_tag": "ABX9TyOmYbAZArY+bdtbIR3oeDSC",
      "include_colab_link": true
    },
    "kernelspec": {
      "name": "python3",
      "display_name": "Python 3"
    },
    "language_info": {
      "name": "python"
    }
  },
  "cells": [
    {
      "cell_type": "markdown",
      "metadata": {
        "id": "view-in-github",
        "colab_type": "text"
      },
      "source": [
        "<a href=\"https://colab.research.google.com/github/keithferns98/DeepLearning/blob/main/Tfbasics.ipynb\" target=\"_parent\"><img src=\"https://colab.research.google.com/assets/colab-badge.svg\" alt=\"Open In Colab\"/></a>"
      ]
    },
    {
      "cell_type": "code",
      "metadata": {
        "id": "I1c4eh_aaTIF"
      },
      "source": [
        "import tensorflow as tf"
      ],
      "execution_count": 29,
      "outputs": []
    },
    {
      "cell_type": "code",
      "metadata": {
        "id": "KKGMbTLyajBb"
      },
      "source": [
        "const=tf.constant(43)"
      ],
      "execution_count": 30,
      "outputs": []
    },
    {
      "cell_type": "code",
      "metadata": {
        "colab": {
          "base_uri": "https://localhost:8080/"
        },
        "id": "rt7ExhZNOTUJ",
        "outputId": "597d9e07-5d05-493b-ebdf-c4d21861835e"
      },
      "source": [
        "const"
      ],
      "execution_count": 31,
      "outputs": [
        {
          "output_type": "execute_result",
          "data": {
            "text/plain": [
              "<tf.Tensor: shape=(), dtype=int32, numpy=43>"
            ]
          },
          "metadata": {},
          "execution_count": 31
        }
      ]
    },
    {
      "cell_type": "code",
      "metadata": {
        "colab": {
          "base_uri": "https://localhost:8080/"
        },
        "id": "gTypQH0xOURx",
        "outputId": "5172dc8f-01ad-46b3-ab15-3da703ef3fd4"
      },
      "source": [
        "const.shape"
      ],
      "execution_count": 32,
      "outputs": [
        {
          "output_type": "execute_result",
          "data": {
            "text/plain": [
              "TensorShape([])"
            ]
          },
          "metadata": {},
          "execution_count": 32
        }
      ]
    },
    {
      "cell_type": "code",
      "metadata": {
        "colab": {
          "base_uri": "https://localhost:8080/"
        },
        "id": "Z2g_ysucOaS9",
        "outputId": "da783ca2-8188-4af0-c5a3-4a74ab839ea4"
      },
      "source": [
        "const.numpy()"
      ],
      "execution_count": 33,
      "outputs": [
        {
          "output_type": "execute_result",
          "data": {
            "text/plain": [
              "43"
            ]
          },
          "metadata": {},
          "execution_count": 33
        }
      ]
    },
    {
      "cell_type": "code",
      "metadata": {
        "id": "CVlzGNFHOcoS"
      },
      "source": [
        "const=tf.constant(43,dtype=float)"
      ],
      "execution_count": 34,
      "outputs": []
    },
    {
      "cell_type": "code",
      "metadata": {
        "colab": {
          "base_uri": "https://localhost:8080/"
        },
        "id": "hWsek7EFO4hl",
        "outputId": "77b5d3ca-a730-40c7-d1b9-037d94e6f230"
      },
      "source": [
        "const"
      ],
      "execution_count": 8,
      "outputs": [
        {
          "output_type": "execute_result",
          "data": {
            "text/plain": [
              "<tf.Tensor: shape=(), dtype=float32, numpy=43.0>"
            ]
          },
          "metadata": {},
          "execution_count": 8
        }
      ]
    },
    {
      "cell_type": "code",
      "metadata": {
        "id": "eup8RLsmO5m5"
      },
      "source": [
        "const_mat=tf.constant([[4,2],[3,5]])"
      ],
      "execution_count": 35,
      "outputs": []
    },
    {
      "cell_type": "code",
      "metadata": {
        "colab": {
          "base_uri": "https://localhost:8080/"
        },
        "id": "wROb6QsuPTfW",
        "outputId": "95ff8625-f432-47db-f111-875e194010af"
      },
      "source": [
        "const_mat"
      ],
      "execution_count": 10,
      "outputs": [
        {
          "output_type": "execute_result",
          "data": {
            "text/plain": [
              "<tf.Tensor: shape=(2, 2), dtype=int32, numpy=\n",
              "array([[4, 2],\n",
              "       [3, 5]], dtype=int32)>"
            ]
          },
          "metadata": {},
          "execution_count": 10
        }
      ]
    },
    {
      "cell_type": "code",
      "metadata": {
        "colab": {
          "base_uri": "https://localhost:8080/"
        },
        "id": "9f0omiB_Peyq",
        "outputId": "5f35ab8f-7c91-44f8-a64e-ea20f2777369"
      },
      "source": [
        "const_mat.shape"
      ],
      "execution_count": 11,
      "outputs": [
        {
          "output_type": "execute_result",
          "data": {
            "text/plain": [
              "TensorShape([2, 2])"
            ]
          },
          "metadata": {},
          "execution_count": 11
        }
      ]
    },
    {
      "cell_type": "code",
      "metadata": {
        "colab": {
          "base_uri": "https://localhost:8080/"
        },
        "id": "wP7chi3jPtI6",
        "outputId": "03b7959c-9cf7-4adf-b209-c650f904cb91"
      },
      "source": [
        "const_mat.shape"
      ],
      "execution_count": 12,
      "outputs": [
        {
          "output_type": "execute_result",
          "data": {
            "text/plain": [
              "TensorShape([2, 2])"
            ]
          },
          "metadata": {},
          "execution_count": 12
        }
      ]
    },
    {
      "cell_type": "code",
      "metadata": {
        "colab": {
          "base_uri": "https://localhost:8080/"
        },
        "id": "ETr_FFbJQO0_",
        "outputId": "5f10f3a1-c462-4cf4-d8ae-8f947c6df2a0"
      },
      "source": [
        "const_mat.dtype"
      ],
      "execution_count": 13,
      "outputs": [
        {
          "output_type": "execute_result",
          "data": {
            "text/plain": [
              "tf.int32"
            ]
          },
          "metadata": {},
          "execution_count": 13
        }
      ]
    },
    {
      "cell_type": "code",
      "metadata": {
        "colab": {
          "base_uri": "https://localhost:8080/"
        },
        "id": "7I5jUX7pQeMu",
        "outputId": "23b45c77-9170-4016-eaae-9195ffe29dff"
      },
      "source": [
        "tf.ones(shape=(2,3))*5"
      ],
      "execution_count": 14,
      "outputs": [
        {
          "output_type": "execute_result",
          "data": {
            "text/plain": [
              "<tf.Tensor: shape=(2, 3), dtype=float32, numpy=\n",
              "array([[5., 5., 5.],\n",
              "       [5., 5., 5.]], dtype=float32)>"
            ]
          },
          "metadata": {},
          "execution_count": 14
        }
      ]
    },
    {
      "cell_type": "code",
      "metadata": {
        "colab": {
          "base_uri": "https://localhost:8080/"
        },
        "id": "QY08qp6-R5Wa",
        "outputId": "5d0b634f-bc8b-429a-a77d-cb8c1ce1e0ac"
      },
      "source": [
        "tf.zeros(shape=(2,3))"
      ],
      "execution_count": 15,
      "outputs": [
        {
          "output_type": "execute_result",
          "data": {
            "text/plain": [
              "<tf.Tensor: shape=(2, 3), dtype=float32, numpy=\n",
              "array([[0., 0., 0.],\n",
              "       [0., 0., 0.]], dtype=float32)>"
            ]
          },
          "metadata": {},
          "execution_count": 15
        }
      ]
    },
    {
      "cell_type": "code",
      "metadata": {
        "id": "66_mEzSHSaEJ"
      },
      "source": [
        "const1=tf.constant([[11,22,33],[3,4,5]])\n",
        "const2=tf.constant([[7,9,5],[3,4,5]])"
      ],
      "execution_count": 36,
      "outputs": []
    },
    {
      "cell_type": "code",
      "metadata": {
        "colab": {
          "base_uri": "https://localhost:8080/"
        },
        "id": "utvtZyncS64I",
        "outputId": "fb302ac4-11ee-4bba-ba3b-fb1f0e3c7d0e"
      },
      "source": [
        "const1+const2"
      ],
      "execution_count": 17,
      "outputs": [
        {
          "output_type": "execute_result",
          "data": {
            "text/plain": [
              "<tf.Tensor: shape=(2, 3), dtype=int32, numpy=\n",
              "array([[18, 31, 38],\n",
              "       [ 6,  8, 10]], dtype=int32)>"
            ]
          },
          "metadata": {},
          "execution_count": 17
        }
      ]
    },
    {
      "cell_type": "code",
      "metadata": {
        "colab": {
          "base_uri": "https://localhost:8080/"
        },
        "id": "vjIVSgykTH9q",
        "outputId": "c2f5d847-2bfa-4da5-d320-be97da7955fe"
      },
      "source": [
        "tf.add(const1,const2)"
      ],
      "execution_count": 18,
      "outputs": [
        {
          "output_type": "execute_result",
          "data": {
            "text/plain": [
              "<tf.Tensor: shape=(2, 3), dtype=int32, numpy=\n",
              "array([[18, 31, 38],\n",
              "       [ 6,  8, 10]], dtype=int32)>"
            ]
          },
          "metadata": {},
          "execution_count": 18
        }
      ]
    },
    {
      "cell_type": "code",
      "metadata": {
        "id": "70WQZZPHTcn3"
      },
      "source": [
        "X=tf.random.normal(shape=(2,3),mean=0,stddev=1)"
      ],
      "execution_count": 37,
      "outputs": []
    },
    {
      "cell_type": "code",
      "metadata": {
        "colab": {
          "base_uri": "https://localhost:8080/"
        },
        "id": "Is9De5g0iMMW",
        "outputId": "5c6ea676-30a9-4572-882c-1275fa71c270"
      },
      "source": [
        "X"
      ],
      "execution_count": 20,
      "outputs": [
        {
          "output_type": "execute_result",
          "data": {
            "text/plain": [
              "<tf.Tensor: shape=(2, 3), dtype=float32, numpy=\n",
              "array([[-0.19634494,  0.7826794 , -0.35831624],\n",
              "       [ 1.0085917 , -1.2473623 , -0.669345  ]], dtype=float32)>"
            ]
          },
          "metadata": {},
          "execution_count": 20
        }
      ]
    },
    {
      "cell_type": "code",
      "metadata": {
        "id": "YNOy107yiM2x"
      },
      "source": [
        "X=tf.random.uniform(shape=(2,3),maxval=10,minval=0)"
      ],
      "execution_count": 21,
      "outputs": []
    },
    {
      "cell_type": "code",
      "metadata": {
        "colab": {
          "base_uri": "https://localhost:8080/"
        },
        "id": "Y-WTzpKEigZL",
        "outputId": "3293a963-90df-4b5e-91ac-27f487255b00"
      },
      "source": [
        "X"
      ],
      "execution_count": 22,
      "outputs": [
        {
          "output_type": "execute_result",
          "data": {
            "text/plain": [
              "<tf.Tensor: shape=(2, 3), dtype=float32, numpy=\n",
              "array([[8.871942 , 9.819616 , 0.3384769],\n",
              "       [7.0093145, 6.5518703, 6.710782 ]], dtype=float32)>"
            ]
          },
          "metadata": {},
          "execution_count": 22
        }
      ]
    },
    {
      "cell_type": "code",
      "metadata": {
        "id": "P7OTp3ogig_c"
      },
      "source": [
        "var1=tf.Variable(45)"
      ],
      "execution_count": 23,
      "outputs": []
    },
    {
      "cell_type": "code",
      "metadata": {
        "colab": {
          "base_uri": "https://localhost:8080/"
        },
        "id": "sLP6bwOcjsr-",
        "outputId": "3aa8fc3e-69e3-4b18-daa0-99517104909f"
      },
      "source": [
        "var1"
      ],
      "execution_count": 24,
      "outputs": [
        {
          "output_type": "execute_result",
          "data": {
            "text/plain": [
              "<tf.Variable 'Variable:0' shape=() dtype=int32, numpy=45>"
            ]
          },
          "metadata": {},
          "execution_count": 24
        }
      ]
    },
    {
      "cell_type": "code",
      "metadata": {
        "id": "fEwKIonljt78"
      },
      "source": [
        "var1=tf.Variable(45.4)"
      ],
      "execution_count": 25,
      "outputs": []
    },
    {
      "cell_type": "code",
      "metadata": {
        "colab": {
          "base_uri": "https://localhost:8080/"
        },
        "id": "UnFnTx1GtIoy",
        "outputId": "fd0c3c19-005f-4da7-f456-66ed54c8e156"
      },
      "source": [
        "var1"
      ],
      "execution_count": 26,
      "outputs": [
        {
          "output_type": "execute_result",
          "data": {
            "text/plain": [
              "<tf.Variable 'Variable:0' shape=() dtype=float32, numpy=45.4>"
            ]
          },
          "metadata": {},
          "execution_count": 26
        }
      ]
    },
    {
      "cell_type": "code",
      "metadata": {
        "id": "bsDdcb-jtJU_"
      },
      "source": [
        "var1=4"
      ],
      "execution_count": 27,
      "outputs": []
    },
    {
      "cell_type": "code",
      "metadata": {
        "colab": {
          "base_uri": "https://localhost:8080/",
          "height": 163
        },
        "id": "PCeYtYTgtLxD",
        "outputId": "526c21f8-60ed-4075-cad0-7772a8fcf49d"
      },
      "source": [
        "var1.assign(4)"
      ],
      "execution_count": 28,
      "outputs": [
        {
          "output_type": "error",
          "ename": "AttributeError",
          "evalue": "ignored",
          "traceback": [
            "\u001b[0;31m---------------------------------------------------------------------------\u001b[0m",
            "\u001b[0;31mAttributeError\u001b[0m                            Traceback (most recent call last)",
            "\u001b[0;32m<ipython-input-28-315c57472827>\u001b[0m in \u001b[0;36m<module>\u001b[0;34m()\u001b[0m\n\u001b[0;32m----> 1\u001b[0;31m \u001b[0mvar1\u001b[0m\u001b[0;34m.\u001b[0m\u001b[0massign\u001b[0m\u001b[0;34m(\u001b[0m\u001b[0;36m4\u001b[0m\u001b[0;34m)\u001b[0m\u001b[0;34m\u001b[0m\u001b[0;34m\u001b[0m\u001b[0m\n\u001b[0m",
            "\u001b[0;31mAttributeError\u001b[0m: 'int' object has no attribute 'assign'"
          ]
        }
      ]
    },
    {
      "cell_type": "code",
      "metadata": {
        "id": "gaH_PUQqtNFT"
      },
      "source": [
        "tensor=tf.Variable([[[10,11,12],[13,14,15]],[[10,11,12],[13,14,15]],[[10,11,12],[13,14,15]]])"
      ],
      "execution_count": 38,
      "outputs": []
    },
    {
      "cell_type": "code",
      "metadata": {
        "colab": {
          "base_uri": "https://localhost:8080/"
        },
        "id": "Eh8DLWO_tplK",
        "outputId": "e6519ec2-ee5a-42a3-809f-35992e487f2d"
      },
      "source": [
        "tensor"
      ],
      "execution_count": 39,
      "outputs": [
        {
          "output_type": "execute_result",
          "data": {
            "text/plain": [
              "<tf.Variable 'Variable:0' shape=(3, 2, 3) dtype=int32, numpy=\n",
              "array([[[10, 11, 12],\n",
              "        [13, 14, 15]],\n",
              "\n",
              "       [[10, 11, 12],\n",
              "        [13, 14, 15]],\n",
              "\n",
              "       [[10, 11, 12],\n",
              "        [13, 14, 15]]], dtype=int32)>"
            ]
          },
          "metadata": {},
          "execution_count": 39
        }
      ]
    },
    {
      "cell_type": "code",
      "metadata": {
        "id": "sCgZ7-cXtrZb"
      },
      "source": [
        "reshape=tf.reshape(tensor,[6,3])"
      ],
      "execution_count": 40,
      "outputs": []
    },
    {
      "cell_type": "code",
      "metadata": {
        "colab": {
          "base_uri": "https://localhost:8080/"
        },
        "id": "01Ogz1zjuHfh",
        "outputId": "e54a3ca9-6588-41a5-9cc0-4dce2fc7ccf4"
      },
      "source": [
        "reshape"
      ],
      "execution_count": 41,
      "outputs": [
        {
          "output_type": "execute_result",
          "data": {
            "text/plain": [
              "<tf.Tensor: shape=(6, 3), dtype=int32, numpy=\n",
              "array([[10, 11, 12],\n",
              "       [13, 14, 15],\n",
              "       [10, 11, 12],\n",
              "       [13, 14, 15],\n",
              "       [10, 11, 12],\n",
              "       [13, 14, 15]], dtype=int32)>"
            ]
          },
          "metadata": {},
          "execution_count": 41
        }
      ]
    },
    {
      "cell_type": "code",
      "metadata": {
        "id": "A26OlvdouIRI"
      },
      "source": [
        "reshape=tf.reshape(tensor,[1,18])"
      ],
      "execution_count": 42,
      "outputs": []
    },
    {
      "cell_type": "code",
      "metadata": {
        "colab": {
          "base_uri": "https://localhost:8080/"
        },
        "id": "AIcN5MZIvoBy",
        "outputId": "a8d18061-da90-47de-e2f3-334ec338ba43"
      },
      "source": [
        "reshape"
      ],
      "execution_count": 43,
      "outputs": [
        {
          "output_type": "execute_result",
          "data": {
            "text/plain": [
              "<tf.Tensor: shape=(1, 18), dtype=int32, numpy=\n",
              "array([[10, 11, 12, 13, 14, 15, 10, 11, 12, 13, 14, 15, 10, 11, 12, 13,\n",
              "        14, 15]], dtype=int32)>"
            ]
          },
          "metadata": {},
          "execution_count": 43
        }
      ]
    },
    {
      "cell_type": "code",
      "metadata": {
        "colab": {
          "base_uri": "https://localhost:8080/"
        },
        "id": "yIX5zHhkvo77",
        "outputId": "dc130337-cd7f-4178-a3bf-e9aa388f51fe"
      },
      "source": [
        "tf.rank(tensor)"
      ],
      "execution_count": 44,
      "outputs": [
        {
          "output_type": "execute_result",
          "data": {
            "text/plain": [
              "<tf.Tensor: shape=(), dtype=int32, numpy=3>"
            ]
          },
          "metadata": {},
          "execution_count": 44
        }
      ]
    },
    {
      "cell_type": "code",
      "metadata": {
        "colab": {
          "base_uri": "https://localhost:8080/"
        },
        "id": "kCI6u0MoxsId",
        "outputId": "f5c24616-bf40-4c8d-a968-7fc2b4767b96"
      },
      "source": [
        "tensor[1][1][2]"
      ],
      "execution_count": 45,
      "outputs": [
        {
          "output_type": "execute_result",
          "data": {
            "text/plain": [
              "<tf.Tensor: shape=(), dtype=int32, numpy=15>"
            ]
          },
          "metadata": {},
          "execution_count": 45
        }
      ]
    },
    {
      "cell_type": "code",
      "metadata": {
        "colab": {
          "base_uri": "https://localhost:8080/"
        },
        "id": "NWpZ5pMzx-MR",
        "outputId": "05789a44-d45e-4040-d0a5-2fe5195e4097"
      },
      "source": [
        "tensor[0,:,1:3]"
      ],
      "execution_count": 46,
      "outputs": [
        {
          "output_type": "execute_result",
          "data": {
            "text/plain": [
              "<tf.Tensor: shape=(2, 2), dtype=int32, numpy=\n",
              "array([[11, 12],\n",
              "       [14, 15]], dtype=int32)>"
            ]
          },
          "metadata": {},
          "execution_count": 46
        }
      ]
    },
    {
      "cell_type": "code",
      "metadata": {
        "id": "gS-BgFoPzUpO"
      },
      "source": [
        "mat_u=tf.constant([[6,7,7]])\n",
        "mat_v=tf.constant([[3,4,3]])"
      ],
      "execution_count": 47,
      "outputs": []
    },
    {
      "cell_type": "code",
      "metadata": {
        "colab": {
          "base_uri": "https://localhost:8080/"
        },
        "id": "fG2eGuUF4etE",
        "outputId": "d5ccf55b-12bc-4537-beff-6dfaba946e1d"
      },
      "source": [
        "mat_u*mat_v"
      ],
      "execution_count": 48,
      "outputs": [
        {
          "output_type": "execute_result",
          "data": {
            "text/plain": [
              "<tf.Tensor: shape=(1, 3), dtype=int32, numpy=array([[18, 28, 21]], dtype=int32)>"
            ]
          },
          "metadata": {},
          "execution_count": 48
        }
      ]
    },
    {
      "cell_type": "code",
      "metadata": {
        "colab": {
          "base_uri": "https://localhost:8080/"
        },
        "id": "SajqJFh_4mjJ",
        "outputId": "b1e498cc-b900-438e-de3c-9709c789a8f3"
      },
      "source": [
        "tf.matmul(tf.transpose(mat_u),mat_v)"
      ],
      "execution_count": 49,
      "outputs": [
        {
          "output_type": "execute_result",
          "data": {
            "text/plain": [
              "<tf.Tensor: shape=(3, 3), dtype=int32, numpy=\n",
              "array([[18, 24, 18],\n",
              "       [21, 28, 21],\n",
              "       [21, 28, 21]], dtype=int32)>"
            ]
          },
          "metadata": {},
          "execution_count": 49
        }
      ]
    },
    {
      "cell_type": "code",
      "metadata": {
        "colab": {
          "base_uri": "https://localhost:8080/"
        },
        "id": "wKNDF7eE4w-q",
        "outputId": "b631d5ba-4410-48a3-afa1-44af85c7b22d"
      },
      "source": [
        "ragged=tf.ragged.constant([[1,2,3,4,5],[],[1,2,3]])\n",
        "ragged"
      ],
      "execution_count": 50,
      "outputs": [
        {
          "output_type": "execute_result",
          "data": {
            "text/plain": [
              "<tf.RaggedTensor [[1, 2, 3, 4, 5], [], [1, 2, 3]]>"
            ]
          },
          "metadata": {},
          "execution_count": 50
        }
      ]
    },
    {
      "cell_type": "code",
      "metadata": {
        "colab": {
          "base_uri": "https://localhost:8080/"
        },
        "id": "IDekbVQau9ew",
        "outputId": "c78fc835-25a6-432f-e57f-96e079a4eb4e"
      },
      "source": [
        "ragged.shape"
      ],
      "execution_count": 51,
      "outputs": [
        {
          "output_type": "execute_result",
          "data": {
            "text/plain": [
              "TensorShape([3, None])"
            ]
          },
          "metadata": {},
          "execution_count": 51
        }
      ]
    },
    {
      "cell_type": "code",
      "metadata": {
        "colab": {
          "base_uri": "https://localhost:8080/"
        },
        "id": "VB5RteotvIQK",
        "outputId": "eb105fd3-3747-4e4e-a0e5-feb27bffca76"
      },
      "source": [
        "var1=[1,2,3,4,5]\n",
        "var2=[1,2,4,4,5]\n",
        "tf.math.squared_difference(var1,var2) #first negate and the squared "
      ],
      "execution_count": 52,
      "outputs": [
        {
          "output_type": "execute_result",
          "data": {
            "text/plain": [
              "<tf.Tensor: shape=(5,), dtype=int32, numpy=array([0, 0, 1, 0, 0], dtype=int32)>"
            ]
          },
          "metadata": {},
          "execution_count": 52
        }
      ]
    },
    {
      "cell_type": "code",
      "metadata": {
        "colab": {
          "base_uri": "https://localhost:8080/"
        },
        "id": "dU97BhuWw5cm",
        "outputId": "fbe2acb8-66a3-49a1-8af9-18b42741e0ec"
      },
      "source": [
        "num1=tf.constant([[1,2],[3,4]],dtype=tf.float32)\n",
        "num1"
      ],
      "execution_count": 53,
      "outputs": [
        {
          "output_type": "execute_result",
          "data": {
            "text/plain": [
              "<tf.Tensor: shape=(2, 2), dtype=float32, numpy=\n",
              "array([[1., 2.],\n",
              "       [3., 4.]], dtype=float32)>"
            ]
          },
          "metadata": {},
          "execution_count": 53
        }
      ]
    },
    {
      "cell_type": "code",
      "metadata": {
        "colab": {
          "base_uri": "https://localhost:8080/"
        },
        "id": "JQkj5PaNxoDw",
        "outputId": "f92f5bb2-a5d2-420c-be8b-401401fa1be8"
      },
      "source": [
        "tf.reduce_mean(num1)#row mean"
      ],
      "execution_count": 54,
      "outputs": [
        {
          "output_type": "execute_result",
          "data": {
            "text/plain": [
              "<tf.Tensor: shape=(), dtype=float32, numpy=2.5>"
            ]
          },
          "metadata": {},
          "execution_count": 54
        }
      ]
    },
    {
      "cell_type": "code",
      "metadata": {
        "colab": {
          "base_uri": "https://localhost:8080/"
        },
        "id": "aNNK0IW6xsJo",
        "outputId": "e788b19f-0dd3-4d32-e768-5c3c277518ab"
      },
      "source": [
        "tf.reduce_mean(num1,axis=1)#col mean"
      ],
      "execution_count": 55,
      "outputs": [
        {
          "output_type": "execute_result",
          "data": {
            "text/plain": [
              "<tf.Tensor: shape=(2,), dtype=float32, numpy=array([1.5, 3.5], dtype=float32)>"
            ]
          },
          "metadata": {},
          "execution_count": 55
        }
      ]
    },
    {
      "cell_type": "code",
      "metadata": {
        "colab": {
          "base_uri": "https://localhost:8080/"
        },
        "id": "8OIWsdlRC3MS",
        "outputId": "de979978-2206-41c0-cee5-0df8fe2c426f"
      },
      "source": [
        "tf.random.uniform([10,1],minval=1,maxval=7)"
      ],
      "execution_count": 56,
      "outputs": [
        {
          "output_type": "execute_result",
          "data": {
            "text/plain": [
              "<tf.Tensor: shape=(10, 1), dtype=float32, numpy=\n",
              "array([[1.5928419],\n",
              "       [5.1472893],\n",
              "       [6.499671 ],\n",
              "       [4.345354 ],\n",
              "       [1.7321587],\n",
              "       [1.5751722],\n",
              "       [2.153578 ],\n",
              "       [1.4929757],\n",
              "       [1.5500245],\n",
              "       [5.1119695]], dtype=float32)>"
            ]
          },
          "metadata": {},
          "execution_count": 56
        }
      ]
    },
    {
      "cell_type": "code",
      "metadata": {
        "colab": {
          "base_uri": "https://localhost:8080/"
        },
        "id": "kbU1_DkGx4eR",
        "outputId": "5c6a61da-7b3e-4bc7-c43c-43ece92e2462"
      },
      "source": [
        "SEED=42\n",
        "tf.random.set_seed(SEED)\n",
        "dice1=tf.Variable(tf.random.uniform([10,1],minval=1,maxval=7,dtype=tf.int32))\n",
        "dice2=tf.Variable(tf.random.uniform([10,1],minval=1,maxval=7,dtype=tf.int32))\n",
        "\n",
        "result=dice1+dice2\n",
        "result"
      ],
      "execution_count": 59,
      "outputs": [
        {
          "output_type": "execute_result",
          "data": {
            "text/plain": [
              "<tf.Tensor: shape=(10, 1), dtype=int32, numpy=\n",
              "array([[ 5],\n",
              "       [ 8],\n",
              "       [12],\n",
              "       [ 2],\n",
              "       [10],\n",
              "       [ 7],\n",
              "       [ 7],\n",
              "       [ 5],\n",
              "       [ 5],\n",
              "       [ 9]], dtype=int32)>"
            ]
          },
          "metadata": {},
          "execution_count": 59
        }
      ]
    },
    {
      "cell_type": "code",
      "metadata": {
        "id": "KQjdo5fMDTY8"
      },
      "source": [
        "idx=tf.argmax(result)"
      ],
      "execution_count": 61,
      "outputs": []
    },
    {
      "cell_type": "code",
      "metadata": {
        "colab": {
          "base_uri": "https://localhost:8080/"
        },
        "id": "vhu2KowuDe5O",
        "outputId": "a7a187b0-892d-4573-8035-3329a6410f26"
      },
      "source": [
        "result.numpy()[idx][0]"
      ],
      "execution_count": 65,
      "outputs": [
        {
          "output_type": "stream",
          "name": "stderr",
          "text": [
            "/usr/local/lib/python3.7/dist-packages/ipykernel_launcher.py:1: FutureWarning: Using a non-tuple sequence for multidimensional indexing is deprecated; use `arr[tuple(seq)]` instead of `arr[seq]`. In the future this will be interpreted as an array index, `arr[np.array(seq)]`, which will result either in an error or a different result.\n",
            "  \"\"\"Entry point for launching an IPython kernel.\n"
          ]
        },
        {
          "output_type": "execute_result",
          "data": {
            "text/plain": [
              "12"
            ]
          },
          "metadata": {},
          "execution_count": 65
        }
      ]
    },
    {
      "cell_type": "code",
      "metadata": {
        "colab": {
          "base_uri": "https://localhost:8080/"
        },
        "id": "ACwz1DWjDj_h",
        "outputId": "f5c99d62-9cb7-4d56-cc79-b881cbd68a9e"
      },
      "source": [
        "result.numpy()[idx][0]"
      ],
      "execution_count": 66,
      "outputs": [
        {
          "output_type": "stream",
          "name": "stderr",
          "text": [
            "/usr/local/lib/python3.7/dist-packages/ipykernel_launcher.py:1: FutureWarning: Using a non-tuple sequence for multidimensional indexing is deprecated; use `arr[tuple(seq)]` instead of `arr[seq]`. In the future this will be interpreted as an array index, `arr[np.array(seq)]`, which will result either in an error or a different result.\n",
            "  \"\"\"Entry point for launching an IPython kernel.\n"
          ]
        },
        {
          "output_type": "execute_result",
          "data": {
            "text/plain": [
              "12"
            ]
          },
          "metadata": {},
          "execution_count": 66
        }
      ]
    },
    {
      "cell_type": "code",
      "metadata": {
        "colab": {
          "base_uri": "https://localhost:8080/"
        },
        "id": "zWBvQ_b0D3RU",
        "outputId": "6584feb2-50bd-4497-f97a-6eaad494cc40"
      },
      "source": [
        "var1=tf.Variable(tf.ones((5,5))*5)\n",
        "var1"
      ],
      "execution_count": 71,
      "outputs": [
        {
          "output_type": "execute_result",
          "data": {
            "text/plain": [
              "<tf.Variable 'Variable:0' shape=(5, 5) dtype=float32, numpy=\n",
              "array([[5., 5., 5., 5., 5.],\n",
              "       [5., 5., 5., 5., 5.],\n",
              "       [5., 5., 5., 5., 5.],\n",
              "       [5., 5., 5., 5., 5.],\n",
              "       [5., 5., 5., 5., 5.]], dtype=float32)>"
            ]
          },
          "metadata": {},
          "execution_count": 71
        }
      ]
    },
    {
      "cell_type": "code",
      "metadata": {
        "id": "Wd4heZlvErMJ"
      },
      "source": [
        "ckpt=tf.train.Checkpoint(var=var1)\n",
        "savepoint=ckpt.save('./vars.ckpt')"
      ],
      "execution_count": 72,
      "outputs": []
    },
    {
      "cell_type": "code",
      "metadata": {
        "colab": {
          "base_uri": "https://localhost:8080/"
        },
        "id": "W_KUFg54FK1L",
        "outputId": "ff64bf89-b2bc-404a-b5c9-7d5118d8cec2"
      },
      "source": [
        "var1.assign(tf.zeros((5,5)))"
      ],
      "execution_count": 73,
      "outputs": [
        {
          "output_type": "execute_result",
          "data": {
            "text/plain": [
              "<tf.Variable 'UnreadVariable' shape=(5, 5) dtype=float32, numpy=\n",
              "array([[0., 0., 0., 0., 0.],\n",
              "       [0., 0., 0., 0., 0.],\n",
              "       [0., 0., 0., 0., 0.],\n",
              "       [0., 0., 0., 0., 0.],\n",
              "       [0., 0., 0., 0., 0.]], dtype=float32)>"
            ]
          },
          "metadata": {},
          "execution_count": 73
        }
      ]
    },
    {
      "cell_type": "code",
      "metadata": {
        "colab": {
          "base_uri": "https://localhost:8080/",
          "height": 35
        },
        "id": "kVNAEhAaJ90Z",
        "outputId": "28775de7-bbf4-44f9-8647-d983b0ca09b9"
      },
      "source": [
        "savepoint"
      ],
      "execution_count": 74,
      "outputs": [
        {
          "output_type": "execute_result",
          "data": {
            "application/vnd.google.colaboratory.intrinsic+json": {
              "type": "string"
            },
            "text/plain": [
              "'./vars.ckpt-1'"
            ]
          },
          "metadata": {},
          "execution_count": 74
        }
      ]
    },
    {
      "cell_type": "code",
      "metadata": {
        "colab": {
          "base_uri": "https://localhost:8080/",
          "height": 163
        },
        "id": "aq5hZWLqJ_xF",
        "outputId": "929c52ca-984a-42c9-bd10-f62f28b23c12"
      },
      "source": [
        "vars.ckpt"
      ],
      "execution_count": 76,
      "outputs": [
        {
          "output_type": "error",
          "ename": "AttributeError",
          "evalue": "ignored",
          "traceback": [
            "\u001b[0;31m---------------------------------------------------------------------------\u001b[0m",
            "\u001b[0;31mAttributeError\u001b[0m                            Traceback (most recent call last)",
            "\u001b[0;32m<ipython-input-76-d0ff1c31e241>\u001b[0m in \u001b[0;36m<module>\u001b[0;34m()\u001b[0m\n\u001b[0;32m----> 1\u001b[0;31m \u001b[0mvars\u001b[0m\u001b[0;34m.\u001b[0m\u001b[0mckpt\u001b[0m\u001b[0;34m\u001b[0m\u001b[0;34m\u001b[0m\u001b[0m\n\u001b[0m",
            "\u001b[0;31mAttributeError\u001b[0m: 'builtin_function_or_method' object has no attribute 'ckpt'"
          ]
        }
      ]
    },
    {
      "cell_type": "code",
      "metadata": {
        "colab": {
          "base_uri": "https://localhost:8080/"
        },
        "id": "o6dwdFe_KC3U",
        "outputId": "71891ed4-e441-41a0-ad68-89d58eca2bd5"
      },
      "source": [
        "ckpt.restore(savepoint)"
      ],
      "execution_count": 78,
      "outputs": [
        {
          "output_type": "execute_result",
          "data": {
            "text/plain": [
              "<tensorflow.python.training.tracking.util.CheckpointLoadStatus at 0x7f1c584863d0>"
            ]
          },
          "metadata": {},
          "execution_count": 78
        }
      ]
    },
    {
      "cell_type": "code",
      "metadata": {
        "colab": {
          "base_uri": "https://localhost:8080/"
        },
        "id": "jKPAkvkdKMvW",
        "outputId": "955c46f4-1d9f-46a9-a463-223aa8acea87"
      },
      "source": [
        "var1"
      ],
      "execution_count": 79,
      "outputs": [
        {
          "output_type": "execute_result",
          "data": {
            "text/plain": [
              "<tf.Variable 'Variable:0' shape=(5, 5) dtype=float32, numpy=\n",
              "array([[5., 5., 5., 5., 5.],\n",
              "       [5., 5., 5., 5., 5.],\n",
              "       [5., 5., 5., 5., 5.],\n",
              "       [5., 5., 5., 5., 5.],\n",
              "       [5., 5., 5., 5., 5.]], dtype=float32)>"
            ]
          },
          "metadata": {},
          "execution_count": 79
        }
      ]
    },
    {
      "cell_type": "code",
      "metadata": {
        "id": "SVlvTTciKNLH"
      },
      "source": [
        "def f1(x,y):\n",
        "    return tf.reduce_mean(input_tensor=tf.multiply(x**3,6)+y**3)"
      ],
      "execution_count": 83,
      "outputs": []
    },
    {
      "cell_type": "code",
      "metadata": {
        "id": "_MJ7ioFCdPK5"
      },
      "source": [
        "func=tf.function(f1)"
      ],
      "execution_count": 84,
      "outputs": []
    },
    {
      "cell_type": "code",
      "metadata": {
        "colab": {
          "base_uri": "https://localhost:8080/"
        },
        "id": "3Su2wwmzdV7P",
        "outputId": "7a861814-296a-4aa7-8f31-0e4b5ed7b1b4"
      },
      "source": [
        "x=tf.constant([3,4])\n",
        "y=tf.constant([2,4])\n",
        "func(x,y).numpy()"
      ],
      "execution_count": 85,
      "outputs": [
        {
          "output_type": "execute_result",
          "data": {
            "text/plain": [
              "309"
            ]
          },
          "metadata": {},
          "execution_count": 85
        }
      ]
    },
    {
      "cell_type": "code",
      "metadata": {
        "id": "SAn04Odldgr2"
      },
      "source": [
        "@tf.function\n",
        "def f1(x,y):\n",
        "    return tf.reduce_mean(input_tensor=tf.multiply(x**3,6)+y**3)"
      ],
      "execution_count": 86,
      "outputs": []
    },
    {
      "cell_type": "code",
      "metadata": {
        "colab": {
          "base_uri": "https://localhost:8080/"
        },
        "id": "1fX67FxHehaS",
        "outputId": "cd305010-07e4-42ed-96a2-fa931c052f8d"
      },
      "source": [
        "f1(x,y)"
      ],
      "execution_count": 87,
      "outputs": [
        {
          "output_type": "execute_result",
          "data": {
            "text/plain": [
              "<tf.Tensor: shape=(), dtype=int32, numpy=309>"
            ]
          },
          "metadata": {},
          "execution_count": 87
        }
      ]
    },
    {
      "cell_type": "code",
      "metadata": {
        "id": "vLT4LGgyejGu"
      },
      "source": [
        "def decorate_it(input_func):\n",
        "  def decor():\n",
        "    print('#'*10)\n",
        "    input_func()\n",
        "    print('#'*10)\n",
        "  return decor\n",
        "def hi():\n",
        "  print(\"hello_world\")"
      ],
      "execution_count": 111,
      "outputs": []
    },
    {
      "cell_type": "code",
      "metadata": {
        "id": "FTOy4zrDgDk5"
      },
      "source": [
        "@decorate_it\n",
        "def print_me():\n",
        "  print('hi there')"
      ],
      "execution_count": 115,
      "outputs": []
    },
    {
      "cell_type": "code",
      "metadata": {
        "colab": {
          "base_uri": "https://localhost:8080/"
        },
        "id": "pG30uIHthqBc",
        "outputId": "521a17a2-f117-4215-fada-e55e527976fe"
      },
      "source": [
        "print_me()"
      ],
      "execution_count": 116,
      "outputs": [
        {
          "output_type": "stream",
          "name": "stdout",
          "text": [
            "##########\n",
            "hi there\n",
            "##########\n"
          ]
        }
      ]
    },
    {
      "cell_type": "code",
      "metadata": {
        "id": "6QuMxoiShtJ1"
      },
      "source": [
        "x=tf.random.normal(shape=(2,2))\n",
        "y=tf.random.normal(shape=(2,2))"
      ],
      "execution_count": 117,
      "outputs": []
    },
    {
      "cell_type": "code",
      "metadata": {
        "colab": {
          "base_uri": "https://localhost:8080/"
        },
        "id": "pwNGdN2HlEKF",
        "outputId": "4a06e9fd-9519-4f5c-b341-d70b6c7d716d"
      },
      "source": [
        "with tf.GradientTape() as tape:\n",
        "    tape.watch(x)\n",
        "    f=tf.sqrt(tf.square(x)+tf.square(y))\n",
        "    df_dx=tape.gradient(f,x)\n",
        "    print(df_dx)\n"
      ],
      "execution_count": 118,
      "outputs": [
        {
          "output_type": "stream",
          "name": "stdout",
          "text": [
            "tf.Tensor(\n",
            "[[-0.64837766 -0.79138666]\n",
            " [ 0.9898927  -0.8424738 ]], shape=(2, 2), dtype=float32)\n"
          ]
        }
      ]
    },
    {
      "cell_type": "code",
      "metadata": {
        "colab": {
          "base_uri": "https://localhost:8080/"
        },
        "id": "kkZQtPT3oRdK",
        "outputId": "8eb246e1-c154-4a4d-bea5-733151102dd5"
      },
      "source": [
        "with tf.GradientTape() as tape:\n",
        "  tape.watch(x)\n",
        "  tape.watch(y)\n",
        "  f=tf.sqrt(tf.square(x)+tf.square(y))\n",
        "  df_x,df_y=tape.gradient(f,[x,y])\n",
        "  print(df_x)\n",
        "  print(df_y)"
      ],
      "execution_count": 120,
      "outputs": [
        {
          "output_type": "stream",
          "name": "stdout",
          "text": [
            "tf.Tensor(\n",
            "[[-0.64837766 -0.79138666]\n",
            " [ 0.9898927  -0.8424738 ]], shape=(2, 2), dtype=float32)\n",
            "tf.Tensor(\n",
            "[[ 0.76131886 -0.6113158 ]\n",
            " [ 0.141818   -0.5387373 ]], shape=(2, 2), dtype=float32)\n"
          ]
        }
      ]
    },
    {
      "cell_type": "code",
      "metadata": {
        "colab": {
          "base_uri": "https://localhost:8080/"
        },
        "id": "UvAIqHwFsQT9",
        "outputId": "517eb722-84f8-4092-db76-01805436a969"
      },
      "source": [
        "True_W=3.0\n",
        "True_B=2.0\n",
        "\n",
        "Num_Examples=1000\n",
        "\n",
        "x=tf.random.normal(shape=[Num_Examples])\n",
        "x"
      ],
      "execution_count": 121,
      "outputs": [
        {
          "output_type": "execute_result",
          "data": {
            "text/plain": [
              "<tf.Tensor: shape=(1000,), dtype=float32, numpy=\n",
              "array([ 9.24649369e-03, -6.62062764e-01, -7.41026878e-01,  1.19852614e+00,\n",
              "        8.63620818e-01,  3.92575622e-01,  9.34574962e-01, -1.60174653e-01,\n",
              "       -2.10505342e+00,  1.37697184e+00,  4.36832577e-01,  7.60811046e-02,\n",
              "       -3.78042489e-01, -1.55504063e-01, -9.03932333e-01,  9.40535128e-01,\n",
              "        1.82766691e-01, -8.34279537e-01,  9.87892151e-01, -5.44636428e-01,\n",
              "        1.72389877e+00,  1.07083571e+00,  4.07543689e-01, -1.08923566e+00,\n",
              "       -8.71827662e-01,  1.15231538e+00, -1.66073132e+00,  1.38927922e-01,\n",
              "        2.79677421e-01,  4.74257320e-01,  1.73066831e+00, -4.26890761e-01,\n",
              "       -8.97730350e-01, -2.26443291e-01,  5.27190149e-01,  4.16538455e-02,\n",
              "       -8.70788097e-01, -2.14466244e-01, -1.72868896e+00,  2.21466854e-01,\n",
              "       -3.52802038e-01,  1.21246660e+00, -5.40104471e-02,  8.13974917e-01,\n",
              "        7.42906272e-01,  1.79653287e+00, -5.82560524e-02,  1.93986440e+00,\n",
              "        4.27140653e-01,  5.53830445e-01,  3.89704973e-01,  1.28463662e+00,\n",
              "       -4.75283146e-01,  3.79325956e-01,  1.54603267e+00, -3.49785715e-01,\n",
              "       -1.35538554e+00, -5.81535518e-01, -9.95664895e-01, -7.46565700e-01,\n",
              "        8.49098146e-01, -3.69324118e-01,  6.87234044e-01,  1.98897886e+00,\n",
              "        1.56616163e+00,  1.81964707e+00, -6.55460805e-02, -1.61786985e+00,\n",
              "        3.00907969e-01, -7.40657270e-01, -7.16834903e-01, -8.86884093e-01,\n",
              "        2.10725093e+00, -8.53371441e-01,  1.04983687e+00,  9.84376371e-01,\n",
              "        1.12689328e+00, -6.93921804e-01, -1.34835315e+00,  1.48963428e+00,\n",
              "        4.49101031e-01,  4.43375669e-02, -7.80381083e-01, -1.00746727e+00,\n",
              "       -1.39634789e-03, -1.76683277e-01, -3.71413469e-01,  2.51781762e-01,\n",
              "        1.18837285e+00,  2.22272724e-01, -4.86714870e-01, -1.46669865e+00,\n",
              "        1.18891144e+00, -8.52644220e-02, -6.34540737e-01, -6.28462553e-01,\n",
              "       -2.60182118e+00, -2.89503746e-02, -1.22141719e+00,  3.27438146e-01,\n",
              "       -1.44625008e-01, -8.87099624e-01, -4.42353994e-01,  1.26479091e-02,\n",
              "        1.55973125e+00,  5.47812469e-02, -6.91008031e-01,  6.79092288e-01,\n",
              "        3.49771343e-02, -2.28532806e-01, -2.18057466e+00,  5.30794442e-01,\n",
              "        5.37805893e-02,  2.54410088e-01, -4.64058578e-01,  9.00503755e-01,\n",
              "       -6.60764992e-01, -9.06350076e-01, -2.01917911e+00,  2.60747463e-01,\n",
              "       -6.23989999e-01, -9.70866624e-03, -6.66588664e-01, -8.97771046e-02,\n",
              "        2.51878071e+00, -8.16302896e-01,  1.06620800e+00, -9.99177635e-01,\n",
              "       -3.86045486e-01,  5.47378480e-01,  1.61335558e-01,  8.97013187e-01,\n",
              "       -1.82929540e+00, -1.33817220e+00,  1.35401368e+00,  3.66488427e-01,\n",
              "       -4.27014828e-01,  1.35062575e-01,  7.06224069e-02, -5.78955054e-01,\n",
              "       -7.66577542e-01, -1.53782761e+00, -1.18344760e+00,  3.21641326e-01,\n",
              "        4.06544000e-01,  3.66638243e-01, -9.44699347e-01,  2.70632219e+00,\n",
              "        1.01113033e+00,  1.39576626e+00, -8.01628828e-01, -1.01591504e+00,\n",
              "       -2.00645900e+00,  5.26833571e-02, -1.67579520e+00, -1.12904453e+00,\n",
              "       -1.49524498e+00, -1.18082285e+00, -1.46140349e+00, -7.80321807e-02,\n",
              "       -3.41503978e-01, -1.35201132e+00, -3.75128925e-01, -1.13374054e+00,\n",
              "       -5.28598905e-01,  7.58812726e-02, -5.52280903e-01, -1.35163113e-01,\n",
              "        1.42144394e+00,  4.11792189e-01,  5.03517509e-01,  8.71969700e-01,\n",
              "        2.49947622e-01,  2.14798999e+00,  7.37281442e-02, -1.47124374e+00,\n",
              "       -8.06811631e-01,  6.59557521e-01,  1.55421090e+00,  2.06476378e+00,\n",
              "        3.41611728e-02, -1.15412652e+00,  9.22768772e-01,  5.28212823e-02,\n",
              "        3.57374758e-01, -2.46243405e+00,  1.40600502e+00, -1.65050939e-01,\n",
              "       -1.00579762e+00, -9.22009125e-02,  9.15323973e-01,  1.94973028e+00,\n",
              "        1.80493331e+00,  4.26217943e-01,  1.24173105e+00, -5.66184402e-01,\n",
              "        1.52195632e+00, -1.42295027e+00, -1.17804909e+00, -8.05914462e-01,\n",
              "        1.34581959e+00,  3.12109977e-01,  1.21602297e-01,  2.39769757e-01,\n",
              "        7.12391913e-01, -7.68593669e-01, -1.51518512e+00,  6.10162973e-01,\n",
              "       -4.75849122e-01, -9.94770229e-01,  8.32128108e-01,  1.67535508e+00,\n",
              "        6.31106794e-01, -5.17522335e-01,  1.22874308e+00, -7.75968313e-01,\n",
              "       -5.13996005e-01,  8.45268190e-01,  3.04206342e-01, -3.30266476e+00,\n",
              "       -2.15786242e+00,  1.61640799e+00, -3.45240802e-01, -9.09612179e-01,\n",
              "       -6.19576931e-01, -3.28493088e-01,  9.40015137e-01,  9.16665792e-01,\n",
              "       -3.64071399e-01,  1.70127308e+00, -1.06324089e+00,  3.66145277e+00,\n",
              "       -3.37277651e-01, -4.18129116e-01, -2.21209332e-01,  1.05083251e+00,\n",
              "        8.98576915e-01,  8.90050605e-02,  3.05387914e-01, -2.45608851e-01,\n",
              "       -3.69256586e-01, -2.38146472e+00, -1.36730671e+00,  1.04093564e+00,\n",
              "        3.40710729e-01,  1.38546038e+00, -1.25347877e+00, -7.34329760e-01,\n",
              "       -3.76595378e-01, -9.45152581e-01,  8.80107880e-01,  1.20162815e-01,\n",
              "       -7.80586243e-01, -1.34960425e+00,  2.01967672e-01,  5.39602675e-02,\n",
              "       -5.59733450e-01,  2.59273195e+00, -4.30498362e-01,  4.20689315e-01,\n",
              "        2.54372209e-01, -8.91998649e-01, -1.16483605e+00, -5.06179452e-01,\n",
              "       -1.03128695e+00, -1.79759991e+00, -1.47336447e+00,  3.68167579e-01,\n",
              "       -1.29668921e-01, -4.47408110e-01, -3.51205856e-01,  6.21590436e-01,\n",
              "        3.33937138e-01, -1.21095872e+00,  2.01947451e+00,  9.05466974e-01,\n",
              "        6.71165809e-02, -2.41293058e-01, -8.87880921e-01,  1.67158401e+00,\n",
              "       -5.63185930e-01, -1.08676755e+00,  2.06253386e+00, -4.91777003e-01,\n",
              "       -1.29979873e+00, -6.92076862e-01,  1.51164329e+00, -1.87966660e-01,\n",
              "       -6.19397402e-01, -7.19977081e-01, -6.26536250e-01,  3.05830181e-01,\n",
              "       -1.69505560e+00,  4.29070413e-01, -7.59489238e-01,  6.16128743e-01,\n",
              "        7.43046641e-01, -1.55204332e+00,  7.42141485e-01, -9.31999207e-01,\n",
              "       -1.94352376e+00, -2.86975116e-01,  5.65186322e-01, -3.52498025e-01,\n",
              "       -3.46457124e-01,  5.04944503e-01,  2.66851217e-01,  1.80656210e-01,\n",
              "        1.06532872e+00,  9.39401031e-01, -7.28131175e-01,  9.95977879e-01,\n",
              "       -1.45555961e+00,  7.70660877e-01,  5.83966315e-01,  3.84924650e-01,\n",
              "       -6.82857037e-02, -3.85042399e-01,  5.22875905e-01,  3.01530808e-01,\n",
              "       -4.03641999e-01, -2.78062606e+00,  1.10788834e+00, -1.47401690e-01,\n",
              "       -1.14011419e+00, -9.93317366e-01, -2.75240064e-01, -5.59516370e-01,\n",
              "        7.65894473e-01, -6.34406447e-01, -5.33524752e-01, -1.77387571e+00,\n",
              "        1.24682748e+00, -5.72557271e-01, -2.16417968e-01,  3.07842195e-02,\n",
              "       -2.50988305e-01, -8.95048678e-01, -8.00039709e-01,  1.18714821e+00,\n",
              "       -2.98426133e-02, -1.57683238e-01,  2.56599396e-01, -2.88608938e-01,\n",
              "       -5.46438038e-01,  9.81558859e-01,  1.03614211e+00,  2.01337600e+00,\n",
              "        7.25445628e-01, -1.47431567e-01, -8.91787112e-01,  1.11731863e+00,\n",
              "       -2.05932951e+00,  1.22110717e-01,  8.98634851e-01,  8.87619495e-01,\n",
              "       -1.43415487e+00,  1.17926657e-01,  2.65054494e-01, -1.26226676e+00,\n",
              "       -9.81566429e-01, -1.69937551e-01, -6.12857699e-01,  2.29288023e-02,\n",
              "        3.69307280e-01, -6.38779998e-01, -7.63654411e-01,  1.15572858e+00,\n",
              "       -1.47752956e-01,  3.31514895e-01, -3.88401091e-01, -1.01505354e-01,\n",
              "       -5.33887139e-03, -1.86689466e-01,  9.32817936e-01, -2.03411484e+00,\n",
              "        1.05278480e+00,  3.86198372e-01, -7.51642168e-01,  1.55874336e+00,\n",
              "       -4.06395234e-02, -4.23391700e-01,  1.15260684e+00, -1.85653508e+00,\n",
              "       -5.16325355e-01,  5.38535006e-02,  9.25656617e-01,  6.58366189e-05,\n",
              "        1.20633948e+00,  1.34965587e+00,  5.46953261e-01, -6.87305748e-01,\n",
              "        3.49199831e-01,  1.77308595e+00,  5.38836777e-01,  3.60701621e-01,\n",
              "       -1.81713831e+00, -9.78897095e-01, -2.20441520e-01,  7.78253555e-01,\n",
              "       -3.24034840e-02, -1.49127686e+00,  3.04435819e-01, -4.06390339e-01,\n",
              "        1.01265267e-01,  1.45218968e+00, -6.34587526e-01, -1.34655738e+00,\n",
              "       -1.03506282e-01, -1.26456225e+00, -8.36547494e-01, -1.46377778e+00,\n",
              "        1.41036618e+00, -6.88866615e-01, -9.17972326e-01, -1.05731595e+00,\n",
              "        2.64048308e-01, -2.38875985e+00, -5.60493946e-01, -2.84558356e-01,\n",
              "        4.33004379e-01,  5.94800770e-01, -2.87092337e-03, -6.42574847e-01,\n",
              "       -5.78326471e-02,  3.78335655e-01,  1.63621616e+00,  1.42829847e+00,\n",
              "       -7.55163670e-01, -6.64974570e-01, -1.18781470e-01,  1.76246107e+00,\n",
              "       -2.56307453e-01, -1.09433755e-01,  7.03003883e-01, -5.40636659e-01,\n",
              "        1.34006873e-01,  3.88335556e-01,  9.61134017e-01,  3.66758853e-01,\n",
              "        6.74520612e-01, -3.94930542e-02, -1.56170440e+00,  9.07453120e-01,\n",
              "       -2.60314375e-01, -1.83578253e+00, -1.61878610e+00, -7.66893566e-01,\n",
              "       -4.88249898e-01, -2.44541669e+00, -5.87440729e-01,  1.68351769e+00,\n",
              "       -8.18187058e-01,  1.10560872e-01, -1.73368359e+00,  2.66027689e-01,\n",
              "        5.19474223e-03,  8.03111419e-02, -5.91796637e-01, -9.25646424e-01,\n",
              "       -9.54161048e-01, -5.15673876e-01, -4.42432851e-01,  1.38746607e+00,\n",
              "        8.31944466e-01,  8.81534159e-01,  2.45840049e+00,  1.76558709e+00,\n",
              "       -1.37218714e+00,  7.24243045e-01, -1.15493941e+00,  6.25381351e-01,\n",
              "        9.83412981e-01,  3.77363190e-02, -1.83219206e+00, -4.43694085e-01,\n",
              "       -3.30457479e-01,  4.47780132e-01, -1.17560065e+00,  4.67295060e-03,\n",
              "        9.06821966e-01, -2.84796774e-01, -1.27096176e+00, -5.94063044e-01,\n",
              "        2.60431081e-01, -2.03121352e+00, -1.61902651e-01, -1.20863855e+00,\n",
              "        4.67076510e-01,  7.21963763e-01,  3.03927958e-01,  5.75331710e-02,\n",
              "        3.22632194e-01,  6.06538773e-01,  6.86511844e-02, -1.26117659e+00,\n",
              "       -5.78257501e-01,  7.37391114e-01, -1.77121735e+00, -2.58652866e-01,\n",
              "       -9.27606821e-01,  2.31730914e+00, -1.25282133e+00,  4.44007665e-01,\n",
              "        1.15960550e+00, -1.45246238e-01, -9.72231388e-01, -1.78960526e+00,\n",
              "        1.27359653e+00,  8.39944601e-01, -8.36749136e-01,  2.54960448e-01,\n",
              "       -1.40111578e+00, -2.01306653e+00, -5.67184091e-01,  1.27146244e-01,\n",
              "       -4.01155889e-01, -9.34381485e-01, -4.95700270e-01, -5.66327751e-01,\n",
              "       -1.17965925e+00, -2.96425849e-01, -3.19728047e-01,  1.28772366e+00,\n",
              "        9.70847487e-01, -1.20145726e+00,  9.87605810e-01, -7.16744542e-01,\n",
              "        1.40067148e+00,  8.14392984e-01,  3.71128380e-01, -3.54128778e-01,\n",
              "        8.43814492e-01,  3.41034055e-01, -8.92255366e-01,  9.19709444e-01,\n",
              "       -1.87693548e+00, -1.57051468e+00, -5.39846420e-01, -1.38951838e+00,\n",
              "        1.32809162e+00,  3.73052657e-01, -8.83583844e-01, -3.73431832e-01,\n",
              "       -1.02479458e+00, -7.01652050e-01, -9.64860380e-01, -1.70709372e+00,\n",
              "       -2.43454166e-02, -1.54371008e-01, -9.30590510e-01, -2.54927635e-01,\n",
              "        2.42381975e-01, -7.82629400e-02,  1.33133566e+00,  4.13224399e-01,\n",
              "       -1.72504163e+00,  1.14504671e+00,  1.29912019e-01, -1.61885345e+00,\n",
              "       -8.90637219e-01, -9.41098154e-01,  2.42219359e-01,  9.12535191e-02,\n",
              "        1.15232885e+00, -1.34103584e+00, -1.67856288e+00, -3.48171413e-01,\n",
              "       -4.54840243e-01,  1.54104710e+00, -7.88559020e-01, -2.61213899e+00,\n",
              "       -9.22733784e-01,  8.51842284e-01, -1.53733507e-01,  1.33560133e+00,\n",
              "       -4.87829179e-01,  6.38087690e-02,  3.91069531e-01,  1.11526382e+00,\n",
              "       -1.39537907e+00,  5.98896742e-01,  1.76036096e+00, -7.12233543e-01,\n",
              "        1.56655800e+00,  8.91871452e-01,  7.74365842e-01,  1.15920424e+00,\n",
              "       -2.67353117e-01, -1.69464886e+00,  8.83240998e-01,  3.27530086e-01,\n",
              "        4.47869122e-01, -3.58713686e-01, -1.16145289e+00,  7.62880862e-01,\n",
              "       -8.81971359e-01,  5.05280793e-01,  8.95297527e-01, -2.48725533e-01,\n",
              "       -1.17773247e+00, -5.82997799e-01,  8.69232476e-01, -6.27794862e-01,\n",
              "       -1.05923975e+00, -1.66717827e-01,  1.42896473e-01, -1.06044447e+00,\n",
              "        4.24493760e-01,  1.07107401e+00,  8.93363059e-02,  1.16483018e-01,\n",
              "        5.05909324e-01,  1.84124339e+00, -8.58346522e-01,  1.05324543e+00,\n",
              "        9.22569394e-01,  1.23006356e+00, -3.05921793e-01,  1.23893118e+00,\n",
              "       -1.58598411e+00, -1.31403828e+00,  1.23740542e+00,  1.82200134e+00,\n",
              "        9.81970131e-01, -1.67061552e-01, -1.37464392e+00, -9.97229666e-02,\n",
              "       -4.31344837e-01,  8.72992992e-01, -4.19112235e-01, -3.38449934e-03,\n",
              "        3.71345997e-01,  1.07269561e+00, -5.90927780e-01, -8.23346913e-01,\n",
              "        2.12363744e+00, -1.12104166e+00,  1.68233311e+00, -1.80589962e+00,\n",
              "       -1.58790183e+00, -5.63817561e-01,  2.23972023e-01,  1.20154119e+00,\n",
              "       -3.50924283e-01, -4.23142284e-01,  2.89857507e-01,  5.20938337e-01,\n",
              "       -1.38184249e+00, -1.25881946e+00, -1.38242352e+00,  1.07546699e+00,\n",
              "        9.02839780e-01, -3.14354748e-01, -2.60045916e-01, -2.98266363e+00,\n",
              "        5.84443569e-01,  1.76057499e-02,  1.58906817e-01, -1.80405390e+00,\n",
              "       -1.03783727e+00,  1.26130855e+00,  1.17163944e+00,  1.44734144e+00,\n",
              "        1.24531674e+00, -5.60836568e-02,  4.80702281e-01,  2.10389465e-01,\n",
              "        5.69335222e-01,  1.13299072e+00, -1.00741990e-01, -4.26291823e-01,\n",
              "       -1.00176203e+00, -4.13007468e-01,  1.97090209e+00,  1.12615943e+00,\n",
              "        8.03044558e-01, -1.34559184e-01,  1.45538139e+00, -7.07732916e-01,\n",
              "       -1.46736249e-01, -4.78571177e-01, -9.44111571e-02, -7.01886237e-01,\n",
              "        1.47260696e-01,  1.51063538e+00, -9.59474742e-01,  4.84497815e-01,\n",
              "        1.82227850e+00, -1.42713606e+00, -1.26664925e+00,  3.65507150e+00,\n",
              "       -2.23610699e-01, -9.69362497e-01, -2.25590301e+00,  6.31527901e-01,\n",
              "       -6.19762018e-02, -5.37684783e-02,  7.84906089e-01,  1.91479814e+00,\n",
              "        8.24506953e-02, -7.97772780e-03,  1.90924835e+00,  8.20483193e-02,\n",
              "       -3.22558694e-02, -9.97042283e-02, -9.09584403e-01,  9.85331014e-02,\n",
              "        5.16428173e-01,  4.05999750e-01, -1.16996026e+00, -7.36303627e-01,\n",
              "       -2.72546470e-01,  1.40790212e+00,  1.25317574e+00, -1.72481239e+00,\n",
              "        2.07114911e+00,  1.42563176e+00,  6.47171736e-01, -3.19844604e-01,\n",
              "       -7.07867146e-01,  1.51144552e+00, -1.04253352e+00, -1.23194313e+00,\n",
              "        3.52672577e-01, -1.77478945e+00, -6.02150500e-01, -7.54922390e-01,\n",
              "       -6.28952757e-02,  2.24187896e-01,  1.40615344e+00,  1.04166768e-01,\n",
              "        1.16357118e-01,  1.71328521e+00,  8.27584982e-01, -8.70575905e-01,\n",
              "       -8.94911766e-01, -1.18813896e+00,  4.45770025e-01, -7.23783746e-02,\n",
              "       -1.85423446e+00, -5.00162169e-02, -7.54174292e-01, -2.24195033e-01,\n",
              "        9.17370617e-03, -1.53168321e+00,  1.56281400e+00, -8.02602112e-01,\n",
              "       -4.89369750e-01,  1.03999329e+00,  5.30083835e-01, -1.06773186e+00,\n",
              "       -9.03315365e-01, -3.36159110e-01,  1.46812499e+00,  6.15990877e-01,\n",
              "        2.84733355e-01, -1.74550414e-01,  7.71392763e-01, -5.96130192e-01,\n",
              "       -4.66448337e-01,  1.59771621e-01,  1.89479351e+00,  3.89287591e-01,\n",
              "       -3.64998937e-01, -5.99981546e-01, -4.35186028e-01, -5.68197191e-01,\n",
              "        7.32994080e-01,  1.71483010e-01,  4.88689840e-01,  4.24525589e-01,\n",
              "       -6.28988683e-01,  2.04524016e+00,  1.36442274e-01, -3.43198627e-02,\n",
              "       -3.50073665e-01, -8.84693444e-01, -5.74242361e-02, -1.22136354e+00,\n",
              "       -1.97749451e-01, -2.38253400e-02,  1.62234938e+00,  1.35919169e-01,\n",
              "        4.01502192e-01, -1.30640864e+00,  1.11483514e-01, -3.59043300e-01,\n",
              "       -1.86934745e+00,  6.63357317e-01,  1.30329758e-01, -6.02877080e-01,\n",
              "        5.67015290e-01,  3.17078978e-01, -9.05988812e-02,  4.86599594e-01,\n",
              "       -1.88898194e+00, -9.82585490e-01, -1.01253486e+00,  1.11538768e+00,\n",
              "       -1.20791030e+00, -4.63622838e-01,  2.10715249e-01,  3.48484337e-01,\n",
              "       -3.50550383e-01, -4.73386765e-01,  9.38820243e-01,  7.08854616e-01,\n",
              "       -1.75038323e-01, -1.16044176e+00, -4.20342922e-01, -1.72881174e+00,\n",
              "        8.08153391e-01,  7.74827480e-01, -1.13014840e-01,  1.85264885e+00,\n",
              "        2.06135249e+00, -2.34036732e+00,  2.20326073e-02,  1.02806818e+00,\n",
              "       -7.55922139e-01,  7.22473979e-01, -1.59944701e+00, -4.22625810e-01,\n",
              "       -4.93486732e-01,  1.51206148e+00, -2.30981261e-01, -2.31221938e+00,\n",
              "        1.63282013e+00, -5.44566274e-01,  1.20153773e+00, -8.48147869e-01,\n",
              "       -8.64704847e-01, -1.52364087e+00, -3.21268439e-01, -1.11901492e-01,\n",
              "        1.17514098e+00, -3.82237099e-02, -4.02820289e-01, -8.33792508e-01,\n",
              "        1.42310059e+00, -8.02866817e-01,  3.99570435e-01, -1.07995141e+00,\n",
              "        5.76758087e-01, -7.62408793e-01, -9.33259010e-01,  5.66030562e-01,\n",
              "       -2.82494575e-01,  6.69233620e-01, -1.57152569e+00,  4.53004599e-01,\n",
              "       -5.14517128e-01,  4.78099793e-01,  2.46682572e+00,  7.65458882e-01,\n",
              "        8.77272010e-01,  1.14148414e+00,  8.18533480e-01,  5.91677368e-01,\n",
              "       -6.47029936e-01, -3.44905525e-01, -9.66564834e-01,  1.29894465e-01,\n",
              "        5.76642528e-02,  4.96385008e-01,  8.33965302e-01,  7.19376802e-01,\n",
              "        1.01666942e-01,  1.34434605e+00,  3.90426815e-01, -1.41394365e+00,\n",
              "       -9.24439132e-01, -4.61008251e-01,  1.59490216e+00,  2.34152198e+00,\n",
              "       -5.45433462e-01, -9.20693099e-01,  9.44872379e-01, -3.20993066e-01,\n",
              "        3.83371502e-01,  1.26644388e-01, -7.95378149e-01, -1.95983791e+00,\n",
              "        4.59763765e-01,  1.14936501e-01,  1.86067593e+00, -7.78874218e-01,\n",
              "        6.20541573e-01, -1.67468226e+00,  6.32859111e-01, -2.39260483e+00,\n",
              "       -6.94906950e-01, -1.04665148e+00,  3.94468665e-01,  1.16878808e-01,\n",
              "       -4.34169322e-01, -9.33414936e-01,  4.14042592e-01, -1.80121690e-01,\n",
              "       -9.34010625e-01, -2.90138572e-01,  3.22262314e-03,  1.03354402e-01,\n",
              "       -1.50631711e-01, -5.03470898e-01,  1.23799968e+00, -1.59126377e+00,\n",
              "        1.94739416e-01,  1.22246659e+00, -6.67314455e-02,  1.36098588e+00,\n",
              "       -1.09646142e+00, -8.52850258e-01, -1.98401600e-01,  1.96328485e+00,\n",
              "        4.46960151e-01,  1.17648256e+00, -1.60041064e-01, -1.57096684e-01,\n",
              "       -4.05992895e-01,  1.06336606e+00,  1.49484956e+00,  3.20428759e-02,\n",
              "       -1.01620090e+00, -1.06551015e+00, -1.20598757e+00, -1.33071446e+00,\n",
              "        1.12624025e+00, -7.69076347e-01, -3.99988055e-01, -2.29884833e-01,\n",
              "       -6.04907572e-02,  1.11494315e+00, -1.44601822e+00, -2.62375236e-01,\n",
              "       -3.63214195e-01,  1.58623531e-01, -9.88695174e-02, -1.14037836e+00,\n",
              "        8.55270207e-01, -6.98637307e-01, -3.94603938e-01,  1.59957325e+00,\n",
              "        7.87753522e-01, -8.61291468e-01, -5.62413216e-01,  4.50336546e-01,\n",
              "       -1.03449750e+00,  6.81111217e-01,  1.28506005e+00,  9.56911325e-01,\n",
              "        1.94892728e+00, -2.04871386e-01,  1.47266519e+00,  3.85066628e-01,\n",
              "       -3.61076951e-01, -9.77974951e-01,  2.65984505e-01,  6.15469441e-02,\n",
              "       -9.94654596e-01, -8.10118198e-01, -1.28353572e+00, -1.20459676e+00,\n",
              "        3.10737044e-01,  8.22619319e-01, -9.41361547e-01, -5.08982003e-01,\n",
              "        3.44023444e-02, -2.30928397e+00,  1.31767774e+00,  1.31982517e+00,\n",
              "       -1.19848812e+00,  5.28673604e-02,  2.09351197e-01,  9.66642141e-01,\n",
              "       -7.54713118e-02, -1.51504147e+00,  5.95236957e-01, -6.05325878e-01,\n",
              "        7.44230986e-01,  5.66710711e-01,  2.05538869e-01,  1.27395952e+00,\n",
              "        1.25147486e+00, -7.61217058e-01, -8.87885869e-01,  1.12747371e+00,\n",
              "        1.19254661e+00,  4.19367179e-02,  1.64428854e+00, -1.16269909e-01,\n",
              "        4.72346470e-02, -3.87559831e-01,  2.98298931e+00,  7.96006382e-01,\n",
              "       -4.71635431e-01, -2.37933382e-01, -4.60443318e-01,  1.88099957e+00],\n",
              "      dtype=float32)>"
            ]
          },
          "metadata": {},
          "execution_count": 121
        }
      ]
    },
    {
      "cell_type": "code",
      "metadata": {
        "id": "RW01dTor_-IY"
      },
      "source": [
        "noise=tf.random.normal(shape=[Num_Examples])"
      ],
      "execution_count": 122,
      "outputs": []
    },
    {
      "cell_type": "code",
      "metadata": {
        "id": "VnG4OnUKAHdm"
      },
      "source": [
        "y=x*True_W+True_B+noise"
      ],
      "execution_count": 129,
      "outputs": []
    },
    {
      "cell_type": "code",
      "metadata": {
        "colab": {
          "base_uri": "https://localhost:8080/",
          "height": 268
        },
        "id": "lE51vGGVARyD",
        "outputId": "939f3aee-e395-4203-b14e-56aa7b389dd2"
      },
      "source": [
        "import matplotlib.pyplot as plt\n",
        "plt.scatter(x,y,c='b')\n",
        "plt.show()"
      ],
      "execution_count": 130,
      "outputs": [
        {
          "output_type": "display_data",
          "data": {
            "image/png": "[encoded data removed]",
            "text/plain": [
              "<Figure size 432x288 with 1 Axes>"
            ]
          },
          "metadata": {
            "needs_background": "light"
          }
        }
      ]
    },
    {
      "cell_type": "code",
      "metadata": {
        "colab": {
          "base_uri": "https://localhost:8080/",
          "height": 447
        },
        "id": "ocO8YWiAAh6k",
        "outputId": "3caa0e01-8e84-401c-c047-3b0cdffba1e1"
      },
      "source": [
        "plt.figure(figsize=(10,7))\n",
        "plt.scatter(x,y,c='b')"
      ],
      "execution_count": 131,
      "outputs": [
        {
          "output_type": "execute_result",
          "data": {
            "text/plain": [
              "<matplotlib.collections.PathCollection at 0x7f1c571720d0>"
            ]
          },
          "metadata": {},
          "execution_count": 131
        },
        {
          "output_type": "display_data",
          "data": {
            "image/png": "[encoded data removed]",
            "text/plain": [
              "<Figure size 720x504 with 1 Axes>"
            ]
          },
          "metadata": {
            "needs_background": "light"
          }
        }
      ]
    },
    {
      "cell_type": "code",
      "metadata": {
        "id": "gLCUr805BDna"
      },
      "source": [
        "class MyModel(tf.Module):\n",
        "  def __init__(self,**kwargs):\n",
        "    super().__init__(**kwargs)\n",
        "    \n",
        "    self.w=tf.Variable(5.0)\n",
        "    self.b=tf.Variable(0.0)\n",
        "  \n",
        "  def __call__(self,x):\n",
        "    return self.w *x +self.b"
      ],
      "execution_count": 137,
      "outputs": []
    },
    {
      "cell_type": "code",
      "metadata": {
        "id": "Yp_Cf6b-DMCO"
      },
      "source": [
        "class Test:\n",
        "  def __init__(self,x):\n",
        "    self.x=x\n",
        "\n",
        "  def __call__(self):\n",
        "    return self.x**2"
      ],
      "execution_count": 133,
      "outputs": []
    },
    {
      "cell_type": "code",
      "metadata": {
        "id": "BoYebGiIDb7Z"
      },
      "source": [
        "obj=Test(2)"
      ],
      "execution_count": 134,
      "outputs": []
    },
    {
      "cell_type": "code",
      "metadata": {
        "colab": {
          "base_uri": "https://localhost:8080/"
        },
        "id": "qDnokNAWDg1H",
        "outputId": "2c34307f-2988-4386-c684-a79db98ad9b5"
      },
      "source": [
        "obj()"
      ],
      "execution_count": 136,
      "outputs": [
        {
          "output_type": "execute_result",
          "data": {
            "text/plain": [
              "4"
            ]
          },
          "metadata": {},
          "execution_count": 136
        }
      ]
    },
    {
      "cell_type": "code",
      "metadata": {
        "id": "TaFufNi8Dhuh"
      },
      "source": [
        "k=MyModel()"
      ],
      "execution_count": 138,
      "outputs": []
    },
    {
      "cell_type": "code",
      "metadata": {
        "colab": {
          "base_uri": "https://localhost:8080/"
        },
        "id": "fA3ua_7nEJs3",
        "outputId": "77d4a1b9-1281-49c6-95db-6cdbe080ae65"
      },
      "source": [
        "k(5)"
      ],
      "execution_count": 139,
      "outputs": [
        {
          "output_type": "execute_result",
          "data": {
            "text/plain": [
              "<tf.Tensor: shape=(), dtype=float32, numpy=25.0>"
            ]
          },
          "metadata": {},
          "execution_count": 139
        }
      ]
    },
    {
      "cell_type": "code",
      "metadata": {
        "id": "_bbesevUEMoT"
      },
      "source": [
        "def MSE_loss(target_y,predicted_y):\n",
        "    error=target_y-predicted_y\n",
        "    squared_error=tf.square(error)\n",
        "    mse=tf.reduce_mean(squared_error)\n",
        "    return mse"
      ],
      "execution_count": 145,
      "outputs": []
    },
    {
      "cell_type": "code",
      "metadata": {
        "colab": {
          "base_uri": "https://localhost:8080/",
          "height": 269
        },
        "id": "TseRLNuYEdMP",
        "outputId": "d5babc4b-205f-4dfb-8f97-c4f63a4d10ce"
      },
      "source": [
        "plt.scatter(x,y,c='b')\n",
        "\n",
        "pred_y=k(x)\n",
        "plt.scatter(x,pred_y,c='r')\n",
        "plt.show()"
      ],
      "execution_count": 143,
      "outputs": [
        {
          "output_type": "display_data",
          "data": {
            "image/png": "[encoded data removed]",
            "text/plain": [
              "<Figure size 432x288 with 1 Axes>"
            ]
          },
          "metadata": {
            "needs_background": "light"
          }
        }
      ]
    },
    {
      "cell_type": "code",
      "metadata": {
        "colab": {
          "base_uri": "https://localhost:8080/"
        },
        "id": "IhkNZUHHLUmS",
        "outputId": "ead26b3e-6833-41bd-e6ef-defbf3f3f994"
      },
      "source": [
        "current_loss=MSE_loss(k(x),y)\n",
        "current_loss.numpy()"
      ],
      "execution_count": 146,
      "outputs": [
        {
          "output_type": "execute_result",
          "data": {
            "text/plain": [
              "9.392796"
            ]
          },
          "metadata": {},
          "execution_count": 146
        }
      ]
    },
    {
      "cell_type": "code",
      "metadata": {
        "colab": {
          "base_uri": "https://localhost:8080/"
        },
        "id": "mtyDiYkbMWI4",
        "outputId": "83794a66-a64c-481d-d416-8631de94288b"
      },
      "source": [
        "y"
      ],
      "execution_count": 147,
      "outputs": [
        {
          "output_type": "execute_result",
          "data": {
            "text/plain": [
              "<tf.Tensor: shape=(1000,), dtype=float32, numpy=\n",
              "array([ 2.05849981e+00,  3.03991437e-01,  1.05989683e+00,  6.40829372e+00,\n",
              "        3.79637051e+00,  3.37795520e+00,  6.60697460e+00,  4.81826782e-01,\n",
              "       -5.54922819e+00,  4.87008858e+00,  3.42508006e+00,  2.34677148e+00,\n",
              "       -4.20041680e-01,  2.75838041e+00,  2.01860356e+00,  5.37377024e+00,\n",
              "        1.71443105e+00, -7.17660069e-01,  5.01605082e+00, -1.39645457e-01,\n",
              "        6.45624304e+00,  4.77861834e+00,  4.30473900e+00, -1.35345173e+00,\n",
              "       -5.17075896e-01,  5.13202286e+00, -3.70631313e+00,  2.45657325e+00,\n",
              "        3.67357659e+00,  3.58597946e+00,  8.03493595e+00,  7.01294363e-01,\n",
              "       -1.11311340e+00,  1.19410324e+00,  2.90574265e+00,  1.62898064e+00,\n",
              "       -2.18900025e-01,  1.21755242e+00, -4.03464413e+00,  3.74742508e+00,\n",
              "       -1.59305334e-01,  5.73215866e+00,  2.74035048e+00,  3.18557549e+00,\n",
              "        3.20071530e+00,  7.13109207e+00,  1.68192744e+00,  6.51832628e+00,\n",
              "        4.15563393e+00,  4.07546043e+00,  4.11707020e+00,  5.78057480e+00,\n",
              "       -5.01345873e-01,  2.55095863e+00,  6.06338549e+00,  1.55820251e-02,\n",
              "       -2.09502172e+00, -1.20207489e-01, -4.48146820e-01, -2.13077688e+00,\n",
              "        4.34374523e+00,  1.09784198e+00,  4.47980213e+00,  7.40858030e+00,\n",
              "        5.57641888e+00,  6.82689619e+00,  2.38165331e+00, -3.70311069e+00,\n",
              "        5.09767914e+00,  2.79569268e-01,  2.68454599e+00, -2.01876116e+00,\n",
              "        8.46955013e+00, -2.37732083e-01,  5.38744116e+00,  5.36742878e+00,\n",
              "        3.81789565e+00,  6.76363647e-01, -2.61675406e+00,  6.15359688e+00,\n",
              "        3.36573792e+00,  2.40500307e+00,  2.59867501e+00,  9.42517638e-01,\n",
              "        4.92411733e-01,  1.17169309e+00,  1.42454696e+00,  2.17198801e+00,\n",
              "        4.67014980e+00,  3.50036860e+00,  6.51441991e-01, -1.59371459e+00,\n",
              "        6.38903141e+00,  1.69156122e+00, -1.02840513e-01,  1.81997299e+00,\n",
              "       -4.33242607e+00,  1.74704170e+00,  5.78111172e-01,  3.02294087e+00,\n",
              "        1.34306502e+00, -1.72735465e+00,  3.63163233e-01, -7.69779682e-02,\n",
              "        6.63015413e+00,  3.80391479e-01, -6.87452406e-03,  2.86836505e+00,\n",
              "        2.34129214e+00,  1.74859655e+00, -4.19703722e+00,  3.12607455e+00,\n",
              "        1.00580823e+00,  3.67951322e+00,  1.27138579e+00,  5.84716797e+00,\n",
              "        5.57863235e-01, -7.55794168e-01, -2.98010302e+00,  2.47526932e+00,\n",
              "        3.42961520e-01,  2.94682765e+00, -3.49619597e-01,  2.44449854e+00,\n",
              "        9.99744892e+00,  1.22740996e+00,  6.52864313e+00, -5.31496763e-01,\n",
              "        1.78093266e+00,  4.00701809e+00,  1.46551120e+00,  4.82363462e+00,\n",
              "       -1.84592092e+00, -8.37360620e-01,  5.00422287e+00,  3.44420052e+00,\n",
              "        1.90902948e+00,  2.63799262e+00,  3.35604334e+00, -2.44337857e-01,\n",
              "       -6.68348968e-02, -1.52505791e+00, -1.76642871e+00,  4.94131804e+00,\n",
              "        2.03787279e+00,  2.48617840e+00, -8.04499924e-01,  9.91113091e+00,\n",
              "        4.41663122e+00,  5.73128700e+00, -2.30769777e+00,  5.00520468e-02,\n",
              "       -3.92141700e+00,  1.50892222e+00, -3.59548426e+00, -1.20424044e+00,\n",
              "       -4.08365345e+00, -1.96045208e+00, -2.09465504e+00,  2.24039865e+00,\n",
              "        6.31311953e-01, -2.86159229e+00,  1.52139568e+00, -5.56090832e-01,\n",
              "       -7.14745641e-01,  7.49032021e-01,  1.27132654e+00,  6.52532399e-01,\n",
              "        6.33919621e+00,  5.04062843e+00,  2.94086003e+00,  4.14565611e+00,\n",
              "        3.19206715e+00,  6.66229916e+00,  1.97215438e+00, -3.01344085e+00,\n",
              "       -1.85742378e-02,  4.12013721e+00,  7.25144291e+00,  9.30940437e+00,\n",
              "        2.12219644e+00, -2.10398006e+00,  5.57565212e+00,  3.12687969e+00,\n",
              "        3.53387547e+00, -5.51168394e+00,  7.62811470e+00,  3.33146095e+00,\n",
              "       -8.96830976e-01,  2.06185412e+00,  6.45944500e+00,  7.82731342e+00,\n",
              "        7.27455568e+00,  6.59715652e+00,  5.85270309e+00, -1.53362203e+00,\n",
              "        6.69915295e+00, -3.78574324e+00, -1.00402617e+00,  5.69835067e-01,\n",
              "        6.98659611e+00,  2.13570881e+00,  2.96199155e+00,  3.56978369e+00,\n",
              "        3.84784579e+00, -8.51249397e-01,  7.14626312e-02,  2.62622237e+00,\n",
              "        1.91200936e+00,  5.00428677e-03,  5.39767551e+00,  6.25176811e+00,\n",
              "        4.80680943e+00,  3.22934210e-01,  5.71413422e+00, -2.31765509e-01,\n",
              "       -6.46597743e-02,  4.89872074e+00,  3.77162600e+00, -6.54710770e+00,\n",
              "       -4.28287411e+00,  7.10468245e+00,  1.95205736e+00, -2.78437555e-01,\n",
              "       -9.77632254e-02,  2.27474689e-01,  4.64287519e+00,  4.76651335e+00,\n",
              "        1.29644871e+00,  6.35622311e+00, -1.84239519e+00,  1.11283016e+01,\n",
              "        1.77093375e+00,  1.22632301e+00,  1.11096728e+00,  5.28867197e+00,\n",
              "        5.08188725e+00,  1.40374315e+00,  2.50392270e+00,  2.04626083e-01,\n",
              "       -3.07071805e-01, -5.55070305e+00, -2.40108156e+00,  3.04089570e+00,\n",
              "        3.22546721e+00,  7.51631021e+00, -2.28225565e+00,  3.46346259e-01,\n",
              "       -6.20581388e-01, -1.54266262e+00,  4.48767090e+00,  3.02981448e+00,\n",
              "        1.87382746e+00, -1.10113239e+00,  5.91301441e-01,  3.65110302e+00,\n",
              "        3.89392763e-01,  8.95967197e+00,  1.36568785e+00,  2.11462736e+00,\n",
              "        4.06277752e+00, -1.27907228e+00, -1.85896802e+00, -7.37932324e-02,\n",
              "       -1.46144986e+00, -2.58287311e+00, -1.56703711e+00,  4.94141245e+00,\n",
              "        3.27130914e-01,  4.77126241e-01,  1.95293963e+00,  5.25755310e+00,\n",
              "        3.67775917e+00, -1.68289590e+00,  8.29880810e+00,  3.74100447e+00,\n",
              "        2.27267647e+00,  1.64539552e+00, -4.92936611e-01,  8.19737530e+00,\n",
              "        8.22340369e-01, -3.08456135e+00,  7.87870359e+00,  4.69862312e-01,\n",
              "       -2.00093293e+00, -2.09679675e+00,  4.95150089e+00,  7.85726249e-01,\n",
              "       -1.62585461e+00, -5.42205095e-01, -4.45929170e-01,  1.50841618e+00,\n",
              "       -2.09739065e+00,  2.38679266e+00,  1.36643386e+00,  5.43620586e+00,\n",
              "        3.64587879e+00, -2.97174358e+00,  4.92038250e+00, -5.76562643e-01,\n",
              "       -3.49761987e+00,  3.26275921e+00,  2.48153067e+00,  7.81562090e-01,\n",
              "        2.47780085e-02,  6.32304192e+00,  2.01397991e+00,  5.22549629e-01,\n",
              "        4.33461857e+00,  5.24042511e+00,  1.31588328e+00,  6.15022659e+00,\n",
              "       -2.67184043e+00,  2.71654058e+00,  4.23856926e+00,  8.00249100e-01,\n",
              "        2.13367605e+00,  3.47795784e-01,  3.13657856e+00,  2.90360665e+00,\n",
              "        1.28462505e+00, -5.24144745e+00,  4.88242960e+00,  2.61383390e+00,\n",
              "       -2.01568127e+00, -6.11580133e-01,  7.26355910e-01,  1.62310135e+00,\n",
              "        5.22701836e+00,  3.35783243e-01,  2.79749483e-01, -6.92279720e+00,\n",
              "        7.19081879e+00,  1.08870006e+00,  2.56055713e+00,  2.69076753e+00,\n",
              "        1.84540462e+00, -1.54807580e+00,  5.65623879e-01,  4.97084045e+00,\n",
              "        3.03612089e+00,  1.31434333e+00,  9.99662161e-01,  3.06218088e-01,\n",
              "        1.35051847e+00,  4.79902363e+00,  5.65532923e+00,  7.39361286e+00,\n",
              "        4.91758251e+00,  1.69264960e+00, -9.65259671e-01,  6.29112291e+00,\n",
              "       -4.14421415e+00,  1.29035974e+00,  5.57819271e+00,  6.46567106e+00,\n",
              "       -2.83618212e+00,  1.70084834e+00,  1.89985812e+00, -1.84817815e+00,\n",
              "       -2.10068285e-01,  2.02004313e-01,  7.21680403e-01,  4.38050151e-01,\n",
              "        1.68235183e+00,  9.34352219e-01, -4.05371994e-01,  6.97704411e+00,\n",
              "       -2.31724858e-01,  3.10273314e+00,  4.58104759e-01,  1.62313223e-01,\n",
              "        1.81720638e+00,  2.17730927e+00,  3.77317047e+00, -3.35242248e+00,\n",
              "        5.01998949e+00,  1.97059727e+00, -2.33256519e-01,  7.78350496e+00,\n",
              "        3.85907507e+00,  1.36069894e+00,  5.65716696e+00, -4.70743370e+00,\n",
              "       -1.33865833e-01,  9.99490857e-01,  6.33714914e+00,  1.43808985e+00,\n",
              "        5.84764576e+00,  5.53246737e+00,  5.14834642e+00, -7.92028308e-02,\n",
              "        4.55223036e+00,  5.67104626e+00,  2.63599324e+00,  3.05501342e+00,\n",
              "       -3.02971172e+00, -1.91222787e-01,  3.10175657e+00,  4.61277199e+00,\n",
              "       -1.71624184e-01, -1.14010775e+00,  2.15650201e+00,  7.08669305e-01,\n",
              "        3.13708305e+00,  5.89703560e+00, -9.67279553e-01, -2.35881424e+00,\n",
              "       -1.57444358e-01, -1.65501201e+00,  5.82881689e-01, -1.18244219e+00,\n",
              "        4.85989285e+00,  2.84531027e-01, -1.87904239e+00, -9.38454866e-01,\n",
              "        3.38863134e+00, -4.74498987e+00,  8.61064941e-02, -1.36569977e-01,\n",
              "        1.63808513e+00,  2.72712255e+00,  4.06797934e+00, -1.16590336e-02,\n",
              "        1.94714415e+00,  1.07922530e+00,  8.95457268e+00,  6.98710680e+00,\n",
              "       -8.96989554e-02,  2.63469791e+00,  2.49886084e+00,  7.21537256e+00,\n",
              "        7.04360425e-01,  2.13587618e+00,  4.02319479e+00,  2.26100221e-01,\n",
              "        1.73946142e-01,  4.30443192e+00,  5.67069435e+00,  4.93041086e+00,\n",
              "        4.00447655e+00,  1.68894506e+00, -8.00278187e-01,  3.49192452e+00,\n",
              "        7.37789273e-01, -5.50557375e+00, -4.51907158e+00, -1.02804255e+00,\n",
              "        1.45200109e+00, -5.60734749e+00, -3.03577483e-02,  4.96266031e+00,\n",
              "       -2.02675533e+00,  2.33370090e+00, -2.89187479e+00,  3.35777259e+00,\n",
              "        1.53864574e+00,  2.50930190e+00, -1.46763921e-02, -8.53267372e-01,\n",
              "       -1.31851876e+00,  1.35690582e+00,  1.86063558e-01,  6.97453642e+00,\n",
              "        2.94229269e+00,  4.57145023e+00,  1.01481552e+01,  6.75456381e+00,\n",
              "       -9.90596175e-01,  4.39601707e+00, -2.25126719e+00,  3.94221830e+00,\n",
              "        6.37255573e+00,  1.79180336e+00, -5.33350372e+00, -2.51061201e-01,\n",
              "        8.89446259e-01,  4.14851046e+00, -3.20890570e+00,  2.76703382e+00,\n",
              "        4.58724594e+00,  1.82822609e+00, -1.33614349e+00,  1.96245074e+00,\n",
              "        3.33470535e+00, -3.65932035e+00,  1.30528820e+00, -2.30938745e+00,\n",
              "        4.36710310e+00,  3.85105181e+00,  1.89967954e+00,  2.21628737e+00,\n",
              "        2.17288685e+00,  4.08897448e+00,  2.60846996e+00, -2.51643229e+00,\n",
              "       -1.54406637e-01,  4.58790874e+00, -2.74972153e+00,  1.71661139e-01,\n",
              "       -7.81547844e-01,  9.80961609e+00, -2.13873935e+00,  2.49571872e+00,\n",
              "        5.85905457e+00,  1.68518901e-01, -1.35163498e+00, -3.27298784e+00,\n",
              "        5.75886631e+00,  4.22604799e+00, -6.36672080e-01,  3.29270744e+00,\n",
              "       -1.90699244e+00, -3.61922932e+00,  9.18494284e-01,  2.57528996e+00,\n",
              "        1.76149988e+00,  6.88089728e-01, -5.18991113e-01,  1.45086539e+00,\n",
              "       -1.96610951e+00, -6.02889299e-01,  1.30337811e+00,  4.94271374e+00,\n",
              "        6.43163872e+00, -3.03006363e+00,  5.15381670e+00, -9.97092545e-01,\n",
              "        6.04291725e+00,  4.64755392e+00,  4.72580814e+00, -3.97313952e-01,\n",
              "        5.93121338e+00,  3.66231060e+00, -1.75651944e+00,  4.34755230e+00,\n",
              "       -2.89343452e+00, -3.23613262e+00,  2.32313251e+00, -4.46577978e+00,\n",
              "        7.32004642e+00,  1.54253840e+00, -2.16071510e+00,  1.79172146e+00,\n",
              "       -1.41887331e+00,  1.49192977e+00, -1.38095760e+00, -3.28638387e+00,\n",
              "        9.87348735e-01, -1.26422524e-01, -1.67706561e+00,  1.40256882e+00,\n",
              "        3.14200902e+00,  4.68145132e-01,  5.67432451e+00,  4.09741592e+00,\n",
              "       -2.56961989e+00,  5.49021769e+00,  1.65985537e+00, -3.00358176e+00,\n",
              "        5.71951866e-01, -1.28548288e+00,  2.93677115e+00,  1.93312240e+00,\n",
              "        5.00705719e+00, -1.29520893e+00, -1.33756638e+00,  3.25895572e+00,\n",
              "        9.73018646e-01,  4.32921743e+00,  3.22829962e-01, -7.25337648e+00,\n",
              "       -1.64652014e+00,  5.80131292e+00,  3.76666784e-02,  5.12767506e+00,\n",
              "       -7.54299760e-01,  1.39845371e+00,  3.01430941e+00,  5.99262238e+00,\n",
              "       -3.61544037e+00,  2.37150097e+00,  7.65886116e+00, -1.40089810e+00,\n",
              "        6.15538311e+00,  6.39808083e+00,  3.73945928e+00,  4.30984354e+00,\n",
              "       -6.41863346e-02, -4.12151909e+00,  5.40288401e+00,  2.71308374e+00,\n",
              "        3.40654445e+00,  4.87062782e-01, -2.02190995e+00,  2.26004410e+00,\n",
              "       -8.56086969e-01,  4.40723467e+00,  3.33655906e+00,  1.81720519e+00,\n",
              "       -2.45651817e+00,  2.25206470e+00,  5.33639336e+00,  1.67041552e+00,\n",
              "       -3.95346403e-01,  2.10113764e+00,  3.56830454e+00, -3.58655810e-01,\n",
              "        2.19133902e+00,  6.10234070e+00,  9.90654945e-01,  3.26458478e+00,\n",
              "        2.51728010e+00,  8.70246887e+00, -2.16713250e-01,  3.07778573e+00,\n",
              "        3.62585306e+00,  5.92020130e+00,  1.28979921e+00,  4.85915327e+00,\n",
              "       -2.00646973e+00, -2.11739492e+00,  4.90223217e+00,  7.09227276e+00,\n",
              "        4.38674498e+00,  1.70049846e+00, -3.08550262e+00,  1.32813239e+00,\n",
              "       -6.23301268e-02,  4.83194876e+00,  1.13370371e+00,  1.63940430e+00,\n",
              "        1.53525913e+00,  5.33206224e+00, -5.79427719e-01,  1.01344287e-01,\n",
              "        9.99218655e+00, -1.66355658e+00,  7.00890875e+00, -4.64790058e+00,\n",
              "       -3.05108404e+00, -1.04150474e-02,  2.06738997e+00,  4.39857721e+00,\n",
              "        2.16151190e+00, -8.79716873e-02,  7.99882889e-01,  3.21094012e+00,\n",
              "       -2.76798320e+00, -1.94058013e+00, -2.18722510e+00,  5.37681532e+00,\n",
              "        7.15029621e+00,  3.19892228e-01,  9.23418999e-03, -6.29780340e+00,\n",
              "        4.33951998e+00,  3.11646676e+00,  4.62344885e-01, -1.76337564e+00,\n",
              "       -8.80877078e-01,  4.61218548e+00,  4.70802832e+00,  5.56485462e+00,\n",
              "        5.55683661e+00,  2.37188768e+00,  4.39518785e+00,  2.44785547e+00,\n",
              "        2.71587086e+00,  6.93622160e+00,  1.45384276e+00, -4.85980511e-01,\n",
              "       -1.05015266e+00,  2.08184838e-01,  8.46657848e+00,  7.12686491e+00,\n",
              "        3.73149133e+00,  1.78753138e+00,  6.68799686e+00, -2.94861019e-01,\n",
              "        4.03043866e-01,  2.09182882e+00,  1.23091543e+00, -1.78953660e+00,\n",
              "        1.19174027e+00,  7.78598213e+00, -1.82121551e+00,  3.39739919e+00,\n",
              "        6.77372456e+00, -1.60266578e+00, -2.99757910e+00,  1.40766993e+01,\n",
              "        1.24968398e+00, -1.78509068e+00, -3.66831589e+00,  4.05778790e+00,\n",
              "        2.99280834e+00,  2.35084438e+00,  3.31213856e+00,  8.75718403e+00,\n",
              "        2.02405930e+00,  2.36845994e+00,  5.97845078e+00,  2.66424632e+00,\n",
              "        8.86910677e-01,  1.91037977e+00, -1.42837524e+00,  1.48017132e+00,\n",
              "        2.05377102e+00,  2.14064932e+00, -1.44702494e+00, -1.15002251e+00,\n",
              "        7.87352204e-01,  6.03653717e+00,  4.28961897e+00, -4.43896866e+00,\n",
              "        7.66672325e+00,  6.27083397e+00,  3.80022526e+00,  1.18776047e+00,\n",
              "        5.15236437e-01,  6.41042805e+00, -7.43805408e-01, -2.68806911e+00,\n",
              "        5.25754595e+00, -2.52962685e+00, -6.73815131e-01, -1.00357056e+00,\n",
              "        2.56985545e-01,  1.97469163e+00,  4.69989395e+00,  2.94654608e+00,\n",
              "        2.28028011e+00,  7.43471146e+00,  4.97588778e+00, -2.74155140e-02,\n",
              "       -1.02070665e+00, -1.89595890e+00,  1.84212041e+00,  1.94236207e+00,\n",
              "       -1.69570053e+00,  1.62805581e+00, -8.52842987e-01,  1.03536069e+00,\n",
              "        1.16173422e+00, -2.07845306e+00,  7.41318130e+00,  2.86988437e-01,\n",
              "       -4.66083944e-01,  4.24424314e+00,  5.66603947e+00, -1.83250546e+00,\n",
              "       -8.44212711e-01,  1.09846067e+00,  7.23267746e+00,  2.77479553e+00,\n",
              "        2.09605312e+00,  2.01742697e+00,  4.58021355e+00,  1.13912427e+00,\n",
              "        1.56894732e+00,  2.47035241e+00,  7.66608000e+00,  3.78276396e+00,\n",
              "       -3.82344127e-01, -4.10933912e-01,  1.46877706e-01, -3.01515341e-01,\n",
              "        2.88033843e+00,  2.90255165e+00,  3.50793242e+00,  2.67166924e+00,\n",
              "        6.88393712e-01,  8.24087238e+00,  3.80288744e+00,  2.14919209e+00,\n",
              "        2.47900486e+00, -1.95774496e+00,  2.24756050e+00,  3.93203497e-01,\n",
              "        8.42927098e-01,  2.40895081e+00,  5.42489910e+00,  2.85621881e+00,\n",
              "        2.47851801e+00,  6.68205976e-01,  2.48796082e+00,  1.73824263e+00,\n",
              "       -3.25985169e+00,  2.16377401e+00,  3.15174747e+00,  2.95418203e-01,\n",
              "        3.59128976e+00,  2.79511452e+00,  1.19105053e+00,  3.10076427e+00,\n",
              "       -4.36442947e+00,  1.43878818e-01, -1.79317558e+00,  3.20529366e+00,\n",
              "       -2.12069178e+00, -1.06708109e+00,  2.76839137e+00,  4.61537361e+00,\n",
              "        1.79678571e+00,  4.81507480e-01,  3.62853265e+00,  3.32733154e+00,\n",
              "        3.37532163e-01, -8.61713409e-01, -1.21904135e-01, -4.55402803e+00,\n",
              "        3.92804694e+00,  3.31130147e+00,  2.01927042e+00,  8.56691170e+00,\n",
              "        7.83730555e+00, -5.06897163e+00,  1.50019848e+00,  4.36333275e+00,\n",
              "        1.83987349e-01,  4.59582806e+00, -2.83634162e+00,  1.57151222e+00,\n",
              "       -9.89451408e-01,  8.06862640e+00,  7.93733060e-01, -3.42783833e+00,\n",
              "        6.70254946e+00,  1.23193550e+00,  4.90945864e+00,  4.11067843e-01,\n",
              "        6.40494823e-02, -4.04534960e+00,  8.90927434e-01,  2.61398077e+00,\n",
              "        5.26337099e+00,  1.81780171e+00, -3.22879791e-01, -1.28382397e+00,\n",
              "        7.36653042e+00,  1.03607666e+00,  1.36764026e+00, -3.16118026e+00,\n",
              "        3.28415465e+00,  1.36905372e+00, -1.47747564e+00,  3.80827236e+00,\n",
              "        1.17117631e+00,  2.93872452e+00, -3.14866900e+00,  3.45466614e+00,\n",
              "       -9.89828944e-01,  3.52239013e+00,  9.19383144e+00,  5.46110058e+00,\n",
              "        4.77707243e+00,  4.67785835e+00,  6.96227932e+00,  4.10760498e+00,\n",
              "       -2.06632018e+00,  1.21463156e+00, -1.01816714e-01,  3.00217175e+00,\n",
              "        2.20771551e+00,  5.19608116e+00,  2.23270869e+00,  4.44960117e+00,\n",
              "        3.64382458e+00,  7.45266819e+00,  2.53768158e+00, -1.92261326e+00,\n",
              "       -6.15680456e-01,  1.54195189e+00,  7.50191116e+00,  9.92174339e+00,\n",
              "       -2.34364688e-01,  4.85988855e-02,  3.74123311e+00,  1.67224371e+00,\n",
              "        2.20197320e+00,  1.19088018e+00, -2.26112798e-01, -5.24837017e+00,\n",
              "        4.25401878e+00,  2.61211395e+00,  7.17028713e+00,  1.42544895e-01,\n",
              "        4.29290915e+00, -4.48450089e+00,  5.18984318e+00, -3.48369360e+00,\n",
              "        4.05841321e-01, -1.33917761e+00,  4.08486748e+00,  2.59762836e+00,\n",
              "        1.46988201e+00, -2.09701157e+00,  3.71461010e+00,  4.51884985e+00,\n",
              "       -3.60530615e-03,  3.77957225e-01,  2.58407426e+00,  1.33530259e+00,\n",
              "        2.91575360e+00,  1.09746003e+00,  7.01588154e+00, -1.83034873e+00,\n",
              "        2.37828970e+00,  5.37223005e+00,  1.40681863e+00,  7.14987183e+00,\n",
              "       -3.27759671e+00, -1.56077552e+00,  1.40407252e+00,  9.20927620e+00,\n",
              "        3.54192734e+00,  4.49848461e+00,  6.04783654e-01,  3.39608169e+00,\n",
              "       -1.16104102e+00,  4.04152918e+00,  5.89841747e+00,  1.92737186e+00,\n",
              "       -2.11871290e+00, -7.83757150e-01, -2.07609916e+00, -9.35989141e-01,\n",
              "        3.34947777e+00, -1.15373731e+00,  2.11198854e+00,  1.28230476e+00,\n",
              "        2.51741934e+00,  3.45094252e+00, -3.48179579e+00,  4.25124228e-01,\n",
              "        1.93633080e+00,  3.21162224e+00,  1.91909695e+00, -1.84798694e+00,\n",
              "        2.77692175e+00, -2.38570285e+00,  3.32348228e-01,  4.51711845e+00,\n",
              "        4.82096529e+00,  2.40618050e-01, -1.17745423e+00,  4.41461229e+00,\n",
              "       -3.21592474e+00,  3.91475415e+00,  4.18546438e+00,  2.05479455e+00,\n",
              "        8.03398609e+00,  2.44893432e-01,  5.57594681e+00,  1.96831107e+00,\n",
              "       -5.00965238e-01,  2.63713598e-01,  1.90311682e+00,  4.00595140e+00,\n",
              "       -1.26830697e+00, -4.06998545e-01, -2.24176621e+00, -1.61990678e+00,\n",
              "        3.18872952e+00,  3.82341456e+00, -4.06258941e-01,  2.00810045e-01,\n",
              "        1.89419127e+00, -6.50668955e+00,  5.68686628e+00,  4.84720325e+00,\n",
              "       -1.66404593e+00,  2.31207275e+00,  1.95633256e+00,  3.17254543e+00,\n",
              "        6.52601480e-01, -3.78674316e+00,  3.00886512e+00, -5.11080980e-01,\n",
              "        5.03770733e+00,  2.31640172e+00,  2.37058353e+00,  6.21884775e+00,\n",
              "        5.66521549e+00,  1.20025682e+00,  7.70348191e-01,  6.48836088e+00,\n",
              "        6.63464403e+00,  2.81284046e+00,  6.18003368e+00,  2.19686723e+00,\n",
              "        7.18962908e-01,  2.78333855e+00,  8.80456543e+00,  3.16648078e+00,\n",
              "        4.62045223e-01,  2.52679753e+00,  7.30900764e-01,  6.98833990e+00],\n",
              "      dtype=float32)>"
            ]
          },
          "metadata": {},
          "execution_count": 147
        }
      ]
    },
    {
      "cell_type": "code",
      "metadata": {
        "colab": {
          "base_uri": "https://localhost:8080/"
        },
        "id": "Mn3LO8OvMegS",
        "outputId": "8b9161f4-6b1d-4b7d-b7ce-276b1c44f393"
      },
      "source": [
        "k(x)"
      ],
      "execution_count": 149,
      "outputs": [
        {
          "output_type": "execute_result",
          "data": {
            "text/plain": [
              "<tf.Tensor: shape=(1000,), dtype=float32, numpy=\n",
              "array([ 4.62324694e-02, -3.31031370e+00, -3.70513439e+00,  5.99263096e+00,\n",
              "        4.31810427e+00,  1.96287811e+00,  4.67287493e+00, -8.00873280e-01,\n",
              "       -1.05252666e+01,  6.88485909e+00,  2.18416286e+00,  3.80405515e-01,\n",
              "       -1.89021242e+00, -7.77520299e-01, -4.51966190e+00,  4.70267582e+00,\n",
              "        9.13833439e-01, -4.17139769e+00,  4.93946075e+00, -2.72318220e+00,\n",
              "        8.61949348e+00,  5.35417843e+00,  2.03771853e+00, -5.44617844e+00,\n",
              "       -4.35913849e+00,  5.76157665e+00, -8.30365658e+00,  6.94639623e-01,\n",
              "        1.39838707e+00,  2.37128663e+00,  8.65334129e+00, -2.13445377e+00,\n",
              "       -4.48865175e+00, -1.13221645e+00,  2.63595080e+00,  2.08269224e-01,\n",
              "       -4.35394049e+00, -1.07233119e+00, -8.64344501e+00,  1.10733426e+00,\n",
              "       -1.76401019e+00,  6.06233311e+00, -2.70052224e-01,  4.06987476e+00,\n",
              "        3.71453142e+00,  8.98266411e+00, -2.91280270e-01,  9.69932175e+00,\n",
              "        2.13570333e+00,  2.76915216e+00,  1.94852483e+00,  6.42318296e+00,\n",
              "       -2.37641573e+00,  1.89662981e+00,  7.73016357e+00, -1.74892855e+00,\n",
              "       -6.77692795e+00, -2.90767765e+00, -4.97832441e+00, -3.73282862e+00,\n",
              "        4.24549055e+00, -1.84662056e+00,  3.43617010e+00,  9.94489479e+00,\n",
              "        7.83080816e+00,  9.09823513e+00, -3.27730417e-01, -8.08934975e+00,\n",
              "        1.50453985e+00, -3.70328641e+00, -3.58417463e+00, -4.43442059e+00,\n",
              "        1.05362549e+01, -4.26685715e+00,  5.24918461e+00,  4.92188168e+00,\n",
              "        5.63446617e+00, -3.46960902e+00, -6.74176598e+00,  7.44817162e+00,\n",
              "        2.24550509e+00,  2.21687838e-01, -3.90190554e+00, -5.03733635e+00,\n",
              "       -6.98173931e-03, -8.83416414e-01, -1.85706735e+00,  1.25890875e+00,\n",
              "        5.94186401e+00,  1.11136365e+00, -2.43357444e+00, -7.33349323e+00,\n",
              "        5.94455719e+00, -4.26322103e-01, -3.17270374e+00, -3.14231277e+00,\n",
              "       -1.30091057e+01, -1.44751877e-01, -6.10708618e+00,  1.63719070e+00,\n",
              "       -7.23125041e-01, -4.43549824e+00, -2.21177006e+00,  6.32395446e-02,\n",
              "        7.79865646e+00,  2.73906231e-01, -3.45504022e+00,  3.39546156e+00,\n",
              "        1.74885675e-01, -1.14266407e+00, -1.09028730e+01,  2.65397215e+00,\n",
              "        2.68902957e-01,  1.27205038e+00, -2.32029295e+00,  4.50251865e+00,\n",
              "       -3.30382490e+00, -4.53175020e+00, -1.00958958e+01,  1.30373728e+00,\n",
              "       -3.11995006e+00, -4.85433303e-02, -3.33294344e+00, -4.48885530e-01,\n",
              "        1.25939035e+01, -4.08151436e+00,  5.33103991e+00, -4.99588823e+00,\n",
              "       -1.93022740e+00,  2.73689246e+00,  8.06677818e-01,  4.48506594e+00,\n",
              "       -9.14647675e+00, -6.69086075e+00,  6.77006817e+00,  1.83244216e+00,\n",
              "       -2.13507414e+00,  6.75312877e-01,  3.53112042e-01, -2.89477539e+00,\n",
              "       -3.83288765e+00, -7.68913794e+00, -5.91723824e+00,  1.60820663e+00,\n",
              "        2.03272009e+00,  1.83319116e+00, -4.72349691e+00,  1.35316105e+01,\n",
              "        5.05565166e+00,  6.97883129e+00, -4.00814438e+00, -5.07957506e+00,\n",
              "       -1.00322952e+01,  2.63416797e-01, -8.37897587e+00, -5.64522266e+00,\n",
              "       -7.47622490e+00, -5.90411425e+00, -7.30701733e+00, -3.90160918e-01,\n",
              "       -1.70751989e+00, -6.76005650e+00, -1.87564468e+00, -5.66870260e+00,\n",
              "       -2.64299440e+00,  3.79406363e-01, -2.76140451e+00, -6.75815582e-01,\n",
              "        7.10721970e+00,  2.05896091e+00,  2.51758766e+00,  4.35984850e+00,\n",
              "        1.24973810e+00,  1.07399502e+01,  3.68640721e-01, -7.35621881e+00,\n",
              "       -4.03405809e+00,  3.29778767e+00,  7.77105427e+00,  1.03238192e+01,\n",
              "        1.70805871e-01, -5.77063274e+00,  4.61384392e+00,  2.64106423e-01,\n",
              "        1.78687382e+00, -1.23121700e+01,  7.03002501e+00, -8.25254679e-01,\n",
              "       -5.02898788e+00, -4.61004555e-01,  4.57662010e+00,  9.74865150e+00,\n",
              "        9.02466679e+00,  2.13108969e+00,  6.20865536e+00, -2.83092213e+00,\n",
              "        7.60978174e+00, -7.11475134e+00, -5.89024544e+00, -4.02957249e+00,\n",
              "        6.72909784e+00,  1.56054986e+00,  6.08011484e-01,  1.19884872e+00,\n",
              "        3.56195951e+00, -3.84296846e+00, -7.57592583e+00,  3.05081487e+00,\n",
              "       -2.37924552e+00, -4.97385120e+00,  4.16064072e+00,  8.37677574e+00,\n",
              "        3.15553403e+00, -2.58761168e+00,  6.14371538e+00, -3.87984157e+00,\n",
              "       -2.56998014e+00,  4.22634077e+00,  1.52103174e+00, -1.65133247e+01,\n",
              "       -1.07893124e+01,  8.08203983e+00, -1.72620404e+00, -4.54806089e+00,\n",
              "       -3.09788465e+00, -1.64246547e+00,  4.70007563e+00,  4.58332920e+00,\n",
              "       -1.82035697e+00,  8.50636578e+00, -5.31620455e+00,  1.83072643e+01,\n",
              "       -1.68638825e+00, -2.09064555e+00, -1.10604668e+00,  5.25416279e+00,\n",
              "        4.49288464e+00,  4.45025295e-01,  1.52693963e+00, -1.22804427e+00,\n",
              "       -1.84628296e+00, -1.19073238e+01, -6.83653355e+00,  5.20467806e+00,\n",
              "        1.70355368e+00,  6.92730188e+00, -6.26739407e+00, -3.67164874e+00,\n",
              "       -1.88297689e+00, -4.72576284e+00,  4.40053940e+00,  6.00814104e-01,\n",
              "       -3.90293121e+00, -6.74802113e+00,  1.00983834e+00,  2.69801348e-01,\n",
              "       -2.79866719e+00,  1.29636593e+01, -2.15249181e+00,  2.10344648e+00,\n",
              "        1.27186108e+00, -4.45999336e+00, -5.82418013e+00, -2.53089714e+00,\n",
              "       -5.15643501e+00, -8.98799992e+00, -7.36682224e+00,  1.84083796e+00,\n",
              "       -6.48344636e-01, -2.23704052e+00, -1.75602925e+00,  3.10795212e+00,\n",
              "        1.66968572e+00, -6.05479336e+00,  1.00973721e+01,  4.52733469e+00,\n",
              "        3.35582912e-01, -1.20646524e+00, -4.43940449e+00,  8.35791969e+00,\n",
              "       -2.81592965e+00, -5.43383789e+00,  1.03126698e+01, -2.45888495e+00,\n",
              "       -6.49899387e+00, -3.46038437e+00,  7.55821657e+00, -9.39833283e-01,\n",
              "       -3.09698701e+00, -3.59988546e+00, -3.13268137e+00,  1.52915096e+00,\n",
              "       -8.47527790e+00,  2.14535213e+00, -3.79744625e+00,  3.08064365e+00,\n",
              "        3.71523333e+00, -7.76021671e+00,  3.71070743e+00, -4.65999603e+00,\n",
              "       -9.71761894e+00, -1.43487561e+00,  2.82593155e+00, -1.76249015e+00,\n",
              "       -1.73228562e+00,  2.52472258e+00,  1.33425605e+00,  9.03281033e-01,\n",
              "        5.32664347e+00,  4.69700527e+00, -3.64065599e+00,  4.97988939e+00,\n",
              "       -7.27779818e+00,  3.85330439e+00,  2.91983151e+00,  1.92462325e+00,\n",
              "       -3.41428518e-01, -1.92521203e+00,  2.61437941e+00,  1.50765407e+00,\n",
              "       -2.01820993e+00, -1.39031305e+01,  5.53944159e+00, -7.37008452e-01,\n",
              "       -5.70057106e+00, -4.96658707e+00, -1.37620032e+00, -2.79758191e+00,\n",
              "        3.82947230e+00, -3.17203236e+00, -2.66762376e+00, -8.86937904e+00,\n",
              "        6.23413754e+00, -2.86278629e+00, -1.08208990e+00,  1.53921098e-01,\n",
              "       -1.25494146e+00, -4.47524357e+00, -4.00019836e+00,  5.93574095e+00,\n",
              "       -1.49213061e-01, -7.88416207e-01,  1.28299701e+00, -1.44304466e+00,\n",
              "       -2.73219013e+00,  4.90779448e+00,  5.18071079e+00,  1.00668802e+01,\n",
              "        3.62722826e+00, -7.37157822e-01, -4.45893574e+00,  5.58659315e+00,\n",
              "       -1.02966480e+01,  6.10553563e-01,  4.49317408e+00,  4.43809748e+00,\n",
              "       -7.17077446e+00,  5.89633286e-01,  1.32527244e+00, -6.31133366e+00,\n",
              "       -4.90783215e+00, -8.49687755e-01, -3.06428862e+00,  1.14644013e-01,\n",
              "        1.84653640e+00, -3.19390011e+00, -3.81827211e+00,  5.77864265e+00,\n",
              "       -7.38764763e-01,  1.65757442e+00, -1.94200540e+00, -5.07526755e-01,\n",
              "       -2.66943574e-02, -9.33447361e-01,  4.66408968e+00, -1.01705742e+01,\n",
              "        5.26392412e+00,  1.93099189e+00, -3.75821090e+00,  7.79371691e+00,\n",
              "       -2.03197613e-01, -2.11695862e+00,  5.76303434e+00, -9.28267574e+00,\n",
              "       -2.58162689e+00,  2.69267499e-01,  4.62828302e+00,  3.29183094e-04,\n",
              "        6.03169727e+00,  6.74827957e+00,  2.73476624e+00, -3.43652868e+00,\n",
              "        1.74599910e+00,  8.86542988e+00,  2.69418383e+00,  1.80350804e+00,\n",
              "       -9.08569145e+00, -4.89448547e+00, -1.10220766e+00,  3.89126778e+00,\n",
              "       -1.62017420e-01, -7.45638418e+00,  1.52217913e+00, -2.03195167e+00,\n",
              "        5.06326318e-01,  7.26094818e+00, -3.17293763e+00, -6.73278713e+00,\n",
              "       -5.17531395e-01, -6.32281113e+00, -4.18273735e+00, -7.31888866e+00,\n",
              "        7.05183077e+00, -3.44433308e+00, -4.58986187e+00, -5.28657961e+00,\n",
              "        1.32024157e+00, -1.19437990e+01, -2.80246973e+00, -1.42279172e+00,\n",
              "        2.16502190e+00,  2.97400379e+00, -1.43546164e-02, -3.21287417e+00,\n",
              "       -2.89163232e-01,  1.89167833e+00,  8.18108082e+00,  7.14149237e+00,\n",
              "       -3.77581835e+00, -3.32487297e+00, -5.93907356e-01,  8.81230545e+00,\n",
              "       -1.28153729e+00, -5.47168791e-01,  3.51501942e+00, -2.70318317e+00,\n",
              "        6.70034349e-01,  1.94167781e+00,  4.80567026e+00,  1.83379424e+00,\n",
              "        3.37260294e+00, -1.97465271e-01, -7.80852222e+00,  4.53726578e+00,\n",
              "       -1.30157185e+00, -9.17891312e+00, -8.09393024e+00, -3.83446789e+00,\n",
              "       -2.44124937e+00, -1.22270832e+01, -2.93720365e+00,  8.41758823e+00,\n",
              "       -4.09093523e+00,  5.52804351e-01, -8.66841793e+00,  1.33013844e+00,\n",
              "        2.59737112e-02,  4.01555717e-01, -2.95898318e+00, -4.62823200e+00,\n",
              "       -4.77080536e+00, -2.57836938e+00, -2.21216416e+00,  6.93733025e+00,\n",
              "        4.15972233e+00,  4.40767097e+00,  1.22920027e+01,  8.82793522e+00,\n",
              "       -6.86093569e+00,  3.62121534e+00, -5.77469730e+00,  3.12690687e+00,\n",
              "        4.91706467e+00,  1.88681602e-01, -9.16096020e+00, -2.21847034e+00,\n",
              "       -1.65228736e+00,  2.23890066e+00, -5.87800312e+00,  2.33647525e-02,\n",
              "        4.53411007e+00, -1.42398381e+00, -6.35480881e+00, -2.97031522e+00,\n",
              "        1.30215538e+00, -1.01560678e+01, -8.09513271e-01, -6.04319286e+00,\n",
              "        2.33538246e+00,  3.60981894e+00,  1.51963973e+00,  2.87665844e-01,\n",
              "        1.61316097e+00,  3.03269386e+00,  3.43255937e-01, -6.30588293e+00,\n",
              "       -2.89128757e+00,  3.68695545e+00, -8.85608673e+00, -1.29326439e+00,\n",
              "       -4.63803387e+00,  1.15865459e+01, -6.26410675e+00,  2.22003841e+00,\n",
              "        5.79802752e+00, -7.26231217e-01, -4.86115694e+00, -8.94802666e+00,\n",
              "        6.36798286e+00,  4.19972324e+00, -4.18374586e+00,  1.27480221e+00,\n",
              "       -7.00557899e+00, -1.00653324e+01, -2.83592033e+00,  6.35731220e-01,\n",
              "       -2.00577950e+00, -4.67190742e+00, -2.47850132e+00, -2.83163881e+00,\n",
              "       -5.89829636e+00, -1.48212922e+00, -1.59864020e+00,  6.43861818e+00,\n",
              "        4.85423756e+00, -6.00728607e+00,  4.93802929e+00, -3.58372259e+00,\n",
              "        7.00335741e+00,  4.07196474e+00,  1.85564184e+00, -1.77064395e+00,\n",
              "        4.21907234e+00,  1.70517027e+00, -4.46127701e+00,  4.59854698e+00,\n",
              "       -9.38467789e+00, -7.85257339e+00, -2.69923210e+00, -6.94759178e+00,\n",
              "        6.64045811e+00,  1.86526322e+00, -4.41791916e+00, -1.86715913e+00,\n",
              "       -5.12397289e+00, -3.50826025e+00, -4.82430172e+00, -8.53546906e+00,\n",
              "       -1.21727079e-01, -7.71855056e-01, -4.65295267e+00, -1.27463818e+00,\n",
              "        1.21190989e+00, -3.91314685e-01,  6.65667820e+00,  2.06612206e+00,\n",
              "       -8.62520790e+00,  5.72523355e+00,  6.49560094e-01, -8.09426689e+00,\n",
              "       -4.45318604e+00, -4.70549059e+00,  1.21109676e+00,  4.56267595e-01,\n",
              "        5.76164436e+00, -6.70517921e+00, -8.39281464e+00, -1.74085712e+00,\n",
              "       -2.27420115e+00,  7.70523548e+00, -3.94279504e+00, -1.30606947e+01,\n",
              "       -4.61366892e+00,  4.25921154e+00, -7.68667519e-01,  6.67800665e+00,\n",
              "       -2.43914580e+00,  3.19043845e-01,  1.95534766e+00,  5.57631922e+00,\n",
              "       -6.97689533e+00,  2.99448371e+00,  8.80180454e+00, -3.56116772e+00,\n",
              "        7.83278990e+00,  4.45935726e+00,  3.87182927e+00,  5.79602146e+00,\n",
              "       -1.33676553e+00, -8.47324467e+00,  4.41620493e+00,  1.63765049e+00,\n",
              "        2.23934555e+00, -1.79356837e+00, -5.80726433e+00,  3.81440425e+00,\n",
              "       -4.40985680e+00,  2.52640390e+00,  4.47648764e+00, -1.24362767e+00,\n",
              "       -5.88866234e+00, -2.91498899e+00,  4.34616232e+00, -3.13897419e+00,\n",
              "       -5.29619884e+00, -8.33589137e-01,  7.14482367e-01, -5.30222225e+00,\n",
              "        2.12246871e+00,  5.35537004e+00,  4.46681529e-01,  5.82415104e-01,\n",
              "        2.52954674e+00,  9.20621681e+00, -4.29173279e+00,  5.26622725e+00,\n",
              "        4.61284685e+00,  6.15031767e+00, -1.52960896e+00,  6.19465590e+00,\n",
              "       -7.92992067e+00, -6.57019138e+00,  6.18702698e+00,  9.11000633e+00,\n",
              "        4.90985060e+00, -8.35307777e-01, -6.87321949e+00, -4.98614848e-01,\n",
              "       -2.15672421e+00,  4.36496496e+00, -2.09556127e+00, -1.69224963e-02,\n",
              "        1.85672998e+00,  5.36347818e+00, -2.95463896e+00, -4.11673450e+00,\n",
              "        1.06181870e+01, -5.60520840e+00,  8.41166592e+00, -9.02949810e+00,\n",
              "       -7.93950939e+00, -2.81908774e+00,  1.11986017e+00,  6.00770569e+00,\n",
              "       -1.75462139e+00, -2.11571145e+00,  1.44928753e+00,  2.60469174e+00,\n",
              "       -6.90921259e+00, -6.29409742e+00, -6.91211748e+00,  5.37733507e+00,\n",
              "        4.51419878e+00, -1.57177377e+00, -1.30022955e+00, -1.49133186e+01,\n",
              "        2.92221785e+00,  8.80287513e-02,  7.94534087e-01, -9.02026939e+00,\n",
              "       -5.18918610e+00,  6.30654287e+00,  5.85819721e+00,  7.23670721e+00,\n",
              "        6.22658348e+00, -2.80418277e-01,  2.40351152e+00,  1.05194736e+00,\n",
              "        2.84667611e+00,  5.66495371e+00, -5.03709972e-01, -2.13145924e+00,\n",
              "       -5.00881004e+00, -2.06503725e+00,  9.85451031e+00,  5.63079739e+00,\n",
              "        4.01522255e+00, -6.72795892e-01,  7.27690697e+00, -3.53866458e+00,\n",
              "       -7.33681262e-01, -2.39285588e+00, -4.72055793e-01, -3.50943112e+00,\n",
              "        7.36303449e-01,  7.55317688e+00, -4.79737377e+00,  2.42248917e+00,\n",
              "        9.11139297e+00, -7.13568020e+00, -6.33324623e+00,  1.82753582e+01,\n",
              "       -1.11805344e+00, -4.84681225e+00, -1.12795153e+01,  3.15763950e+00,\n",
              "       -3.09881002e-01, -2.68842399e-01,  3.92453051e+00,  9.57399082e+00,\n",
              "        4.12253469e-01, -3.98886390e-02,  9.54624176e+00,  4.10241604e-01,\n",
              "       -1.61279351e-01, -4.98521149e-01, -4.54792213e+00,  4.92665499e-01,\n",
              "        2.58214092e+00,  2.02999878e+00, -5.84980106e+00, -3.68151808e+00,\n",
              "       -1.36273241e+00,  7.03951073e+00,  6.26587868e+00, -8.62406158e+00,\n",
              "        1.03557453e+01,  7.12815857e+00,  3.23585868e+00, -1.59922302e+00,\n",
              "       -3.53933573e+00,  7.55722761e+00, -5.21266747e+00, -6.15971565e+00,\n",
              "        1.76336288e+00, -8.87394714e+00, -3.01075244e+00, -3.77461195e+00,\n",
              "       -3.14476371e-01,  1.12093949e+00,  7.03076744e+00,  5.20833850e-01,\n",
              "        5.81785560e-01,  8.56642628e+00,  4.13792515e+00, -4.35287952e+00,\n",
              "       -4.47455883e+00, -5.94069481e+00,  2.22885013e+00, -3.61891866e-01,\n",
              "       -9.27117252e+00, -2.50081092e-01, -3.77087140e+00, -1.12097514e+00,\n",
              "        4.58685309e-02, -7.65841579e+00,  7.81406975e+00, -4.01301050e+00,\n",
              "       -2.44684887e+00,  5.19996643e+00,  2.65041924e+00, -5.33865929e+00,\n",
              "       -4.51657677e+00, -1.68079555e+00,  7.34062481e+00,  3.07995439e+00,\n",
              "        1.42366672e+00, -8.72752070e-01,  3.85696387e+00, -2.98065090e+00,\n",
              "       -2.33224177e+00,  7.98858106e-01,  9.47396755e+00,  1.94643795e+00,\n",
              "       -1.82499468e+00, -2.99990773e+00, -2.17593002e+00, -2.84098601e+00,\n",
              "        3.66497040e+00,  8.57415080e-01,  2.44344926e+00,  2.12262797e+00,\n",
              "       -3.14494348e+00,  1.02262011e+01,  6.82211399e-01, -1.71599314e-01,\n",
              "       -1.75036836e+00, -4.42346716e+00, -2.87121177e-01, -6.10681772e+00,\n",
              "       -9.88747239e-01, -1.19126700e-01,  8.11174679e+00,  6.79595828e-01,\n",
              "        2.00751090e+00, -6.53204346e+00,  5.57417572e-01, -1.79521656e+00,\n",
              "       -9.34673691e+00,  3.31678653e+00,  6.51648760e-01, -3.01438546e+00,\n",
              "        2.83507633e+00,  1.58539486e+00, -4.52994406e-01,  2.43299794e+00,\n",
              "       -9.44491005e+00, -4.91292763e+00, -5.06267452e+00,  5.57693863e+00,\n",
              "       -6.03955173e+00, -2.31811428e+00,  1.05357623e+00,  1.74242163e+00,\n",
              "       -1.75275195e+00, -2.36693382e+00,  4.69410133e+00,  3.54427314e+00,\n",
              "       -8.75191629e-01, -5.80220890e+00, -2.10171461e+00, -8.64405823e+00,\n",
              "        4.04076672e+00,  3.87413740e+00, -5.65074205e-01,  9.26324463e+00,\n",
              "        1.03067627e+01, -1.17018366e+01,  1.10163033e-01,  5.14034081e+00,\n",
              "       -3.77961063e+00,  3.61237001e+00, -7.99723530e+00, -2.11312914e+00,\n",
              "       -2.46743369e+00,  7.56030750e+00, -1.15490627e+00, -1.15610971e+01,\n",
              "        8.16410065e+00, -2.72283125e+00,  6.00768852e+00, -4.24073935e+00,\n",
              "       -4.32352448e+00, -7.61820412e+00, -1.60634220e+00, -5.59507489e-01,\n",
              "        5.87570477e+00, -1.91118553e-01, -2.01410151e+00, -4.16896248e+00,\n",
              "        7.11550283e+00, -4.01433420e+00,  1.99785221e+00, -5.39975691e+00,\n",
              "        2.88379049e+00, -3.81204391e+00, -4.66629505e+00,  2.83015275e+00,\n",
              "       -1.41247284e+00,  3.34616804e+00, -7.85762835e+00,  2.26502299e+00,\n",
              "       -2.57258558e+00,  2.39049888e+00,  1.23341284e+01,  3.82729435e+00,\n",
              "        4.38636017e+00,  5.70742083e+00,  4.09266758e+00,  2.95838690e+00,\n",
              "       -3.23514962e+00, -1.72452760e+00, -4.83282423e+00,  6.49472356e-01,\n",
              "        2.88321257e-01,  2.48192501e+00,  4.16982651e+00,  3.59688401e+00,\n",
              "        5.08334696e-01,  6.72173023e+00,  1.95213413e+00, -7.06971836e+00,\n",
              "       -4.62219572e+00, -2.30504131e+00,  7.97451067e+00,  1.17076101e+01,\n",
              "       -2.72716737e+00, -4.60346556e+00,  4.72436190e+00, -1.60496533e+00,\n",
              "        1.91685748e+00,  6.33221924e-01, -3.97689080e+00, -9.79918957e+00,\n",
              "        2.29881883e+00,  5.74682474e-01,  9.30338001e+00, -3.89437103e+00,\n",
              "        3.10270786e+00, -8.37341118e+00,  3.16429567e+00, -1.19630241e+01,\n",
              "       -3.47453475e+00, -5.23325729e+00,  1.97234333e+00,  5.84394038e-01,\n",
              "       -2.17084670e+00, -4.66707468e+00,  2.07021284e+00, -9.00608420e-01,\n",
              "       -4.67005301e+00, -1.45069289e+00,  1.61131155e-02,  5.16772032e-01,\n",
              "       -7.53158569e-01, -2.51735449e+00,  6.18999863e+00, -7.95631886e+00,\n",
              "        9.73697066e-01,  6.11233282e+00, -3.33657235e-01,  6.80492926e+00,\n",
              "       -5.48230696e+00, -4.26425123e+00, -9.92007971e-01,  9.81642437e+00,\n",
              "        2.23480082e+00,  5.88241291e+00, -8.00205350e-01, -7.85483420e-01,\n",
              "       -2.02996445e+00,  5.31683016e+00,  7.47424793e+00,  1.60214379e-01,\n",
              "       -5.08100462e+00, -5.32755089e+00, -6.02993774e+00, -6.65357208e+00,\n",
              "        5.63120127e+00, -3.84538174e+00, -1.99994028e+00, -1.14942420e+00,\n",
              "       -3.02453786e-01,  5.57471561e+00, -7.23009109e+00, -1.31187618e+00,\n",
              "       -1.81607103e+00,  7.93117642e-01, -4.94347572e-01, -5.70189190e+00,\n",
              "        4.27635098e+00, -3.49318647e+00, -1.97301972e+00,  7.99786615e+00,\n",
              "        3.93876767e+00, -4.30645752e+00, -2.81206608e+00,  2.25168276e+00,\n",
              "       -5.17248726e+00,  3.40555620e+00,  6.42530012e+00,  4.78455639e+00,\n",
              "        9.74463654e+00, -1.02435696e+00,  7.36332607e+00,  1.92533314e+00,\n",
              "       -1.80538476e+00, -4.88987494e+00,  1.32992256e+00,  3.07734728e-01,\n",
              "       -4.97327280e+00, -4.05059099e+00, -6.41767883e+00, -6.02298355e+00,\n",
              "        1.55368519e+00,  4.11309671e+00, -4.70680761e+00, -2.54490995e+00,\n",
              "        1.72011718e-01, -1.15464201e+01,  6.58838844e+00,  6.59912586e+00,\n",
              "       -5.99244070e+00,  2.64336795e-01,  1.04675603e+00,  4.83321095e+00,\n",
              "       -3.77356559e-01, -7.57520723e+00,  2.97618484e+00, -3.02662945e+00,\n",
              "        3.72115493e+00,  2.83355355e+00,  1.02769434e+00,  6.36979771e+00,\n",
              "        6.25737429e+00, -3.80608535e+00, -4.43942928e+00,  5.63736868e+00,\n",
              "        5.96273327e+00,  2.09683597e-01,  8.22144318e+00, -5.81349552e-01,\n",
              "        2.36173242e-01, -1.93779922e+00,  1.49149466e+01,  3.98003197e+00,\n",
              "       -2.35817719e+00, -1.18966687e+00, -2.30221653e+00,  9.40499783e+00],\n",
              "      dtype=float32)>"
            ]
          },
          "metadata": {},
          "execution_count": 149
        }
      ]
    },
    {
      "cell_type": "code",
      "metadata": {
        "id": "QnmZ48sRMjhp"
      },
      "source": [
        "def train(model,x,y,learning_rate):\n",
        "    with tf.GradientTape() as tape:\n",
        "      current_loss=MSE_loss(y,model(x))\n",
        "    \n",
        "    dc_dw,dc_db=tape.gradient(current_loss,[model.w,model.b])\n",
        "\n",
        "    model.w.assign_sub(learning_rate * dc_dw)\n",
        "    model.b.assign_sub(learning_rate * dc_db)"
      ],
      "execution_count": 152,
      "outputs": []
    },
    {
      "cell_type": "code",
      "metadata": {
        "colab": {
          "base_uri": "https://localhost:8080/"
        },
        "id": "RxVhDlZlTlzK",
        "outputId": "8de2fc83-c12b-40b6-80fd-28923da9a55f"
      },
      "source": [
        "model=MyModel()\n",
        "\n",
        "Ws, bs=[],[]\n",
        "epochs=10\n",
        "learning_rate=0.1\n",
        "w=model.w.numpy()\n",
        "b=model.b.numpy()\n",
        "\n",
        "init_loss=MSE_loss(y,model(x))\n",
        "\n",
        "print(f\"Initial W: {w}, inital bias:{b},initial loss: {init_loss.numpy()}\")"
      ],
      "execution_count": 151,
      "outputs": [
        {
          "output_type": "stream",
          "name": "stdout",
          "text": [
            "Initial W: 5.0, inital bias:0.0,initial loss: 9.39279556274414\n"
          ]
        }
      ]
    },
    {
      "cell_type": "code",
      "metadata": {
        "colab": {
          "base_uri": "https://localhost:8080/"
        },
        "id": "U_v6FdQOVdXq",
        "outputId": "d7ae340d-d8ca-4043-980f-86d4204dd873"
      },
      "source": [
        "for epoch in range(epochs):\n",
        "    train(model,x,y,learning_rate)\n",
        "    \n",
        "    Ws.append(model.w.numpy())\n",
        "    bs.append(model.b.numpy())\n",
        "\n",
        "    current_loss = MSE_loss(y, model(x))\n",
        "\n",
        "    print(f\"For epoch: {epoch}, W: {Ws[-1]}, b: {bs[-1]}, current_loss: {current_loss}\")"
      ],
      "execution_count": 153,
      "outputs": [
        {
          "output_type": "stream",
          "name": "stdout",
          "text": [
            "For epoch: 0, W: 4.5670061111450195, b: 0.40458962321281433, current_loss: 6.249252796173096\n",
            "For epoch: 1, W: 4.225801467895508, b: 0.7253903150558472, current_loss: 4.285879611968994\n",
            "For epoch: 2, W: 3.9569408893585205, b: 0.9797685146331787, current_loss: 3.0595595836639404\n",
            "For epoch: 3, W: 3.745096206665039, b: 1.1814883947372437, current_loss: 2.2935709953308105\n",
            "For epoch: 4, W: 3.5781850814819336, b: 1.3414596319198608, current_loss: 1.8150970935821533\n",
            "For epoch: 5, W: 3.446683406829834, b: 1.468329906463623, current_loss: 1.516205072402954\n",
            "For epoch: 6, W: 3.3430848121643066, b: 1.5689542293548584, current_loss: 1.3294858932495117\n",
            "For epoch: 7, W: 3.2614731788635254, b: 1.6487667560577393, current_loss: 1.2128362655639648\n",
            "For epoch: 8, W: 3.197185754776001, b: 1.7120757102966309, current_loss: 1.1399576663970947\n",
            "For epoch: 9, W: 3.146547794342041, b: 1.7622965574264526, current_loss: 1.094423532485962\n"
          ]
        }
      ]
    },
    {
      "cell_type": "code",
      "metadata": {
        "id": "zf8ObgDOWAtR"
      },
      "source": [
        ""
      ],
      "execution_count": null,
      "outputs": []
    }
  ]
}