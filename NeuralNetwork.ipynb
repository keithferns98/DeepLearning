{
  "nbformat": 4,
  "nbformat_minor": 0,
  "metadata": {
    "colab": {
      "name": "NeuralNetwork.ipynb",
      "provenance": [],
      "authorship_tag": "ABX9TyO37ZZJZ1a4wfIhn6+UhfjF",
      "include_colab_link": true
    },
    "kernelspec": {
      "name": "python3",
      "display_name": "Python 3"
    },
    "language_info": {
      "name": "python"
    }
  },
  "cells": [
    {
      "cell_type": "markdown",
      "metadata": {
        "id": "view-in-github",
        "colab_type": "text"
      },
      "source": [
        "<a href=\"https://colab.research.google.com/github/keithferns98/DeepLearning/blob/main/NeuralNetwork.ipynb\" target=\"_parent\"><img src=\"https://colab.research.google.com/assets/colab-badge.svg\" alt=\"Open In Colab\"/></a>"
      ]
    },
    {
      "cell_type": "code",
      "metadata": {
        "colab": {
          "base_uri": "https://localhost:8080/"
        },
        "id": "KQ4mGCAZKspt",
        "outputId": "af9d7643-74dd-462f-b8c5-7c511e2a3d3f"
      },
      "source": [
        "import tensorflow as tf\n",
        "print(tf.__version__)"
      ],
      "execution_count": 1,
      "outputs": [
        {
          "output_type": "stream",
          "text": [
            "2.5.0\n"
          ],
          "name": "stdout"
        }
      ]
    },
    {
      "cell_type": "code",
      "metadata": {
        "id": "89qmuM63LCzg"
      },
      "source": [
        "import numpy as np\n",
        "import matplotlib.pyplot as plt\n",
        "\n",
        "#Create Features\n",
        "X=np.array([-7.0,-4.0,-1.0,2.0,5.0,8.0,11.0,14.0])\n",
        "\n",
        "#Create labels\n",
        "y=np.array([3.0,6.0,9.0,12.0,15.0,18.0,21.0,24.0])"
      ],
      "execution_count": 2,
      "outputs": []
    },
    {
      "cell_type": "code",
      "metadata": {
        "colab": {
          "base_uri": "https://localhost:8080/",
          "height": 286
        },
        "id": "QxAY_zbaL0-5",
        "outputId": "3e983cf6-1288-4258-8a5f-a355f18927da"
      },
      "source": [
        "plt.scatter(X,y)"
      ],
      "execution_count": 3,
      "outputs": [
        {
          "output_type": "execute_result",
          "data": {
            "text/plain": [
              "<matplotlib.collections.PathCollection at 0x7f02e74284d0>"
            ]
          },
          "metadata": {
            "tags": []
          },
          "execution_count": 3
        },
        {
          "output_type": "display_data",
          "data": {
            "image/png": "[encoded data removed]",
            "text/plain": [
              "<Figure size 432x288 with 1 Axes>"
            ]
          },
          "metadata": {
            "tags": [],
            "needs_background": "light"
          }
        }
      ]
    },
    {
      "cell_type": "code",
      "metadata": {
        "colab": {
          "base_uri": "https://localhost:8080/"
        },
        "id": "L-q3yKplL4ps",
        "outputId": "3239b7dc-d897-406f-9a66-b91686d125ec"
      },
      "source": [
        "y==X+10"
      ],
      "execution_count": 4,
      "outputs": [
        {
          "output_type": "execute_result",
          "data": {
            "text/plain": [
              "array([ True,  True,  True,  True,  True,  True,  True,  True])"
            ]
          },
          "metadata": {
            "tags": []
          },
          "execution_count": 4
        }
      ]
    },
    {
      "cell_type": "code",
      "metadata": {
        "colab": {
          "base_uri": "https://localhost:8080/"
        },
        "id": "Wj1yIsodOLgr",
        "outputId": "750b1ca7-f394-46d8-dd4a-366ff1ed856d"
      },
      "source": [
        "X[0].shape"
      ],
      "execution_count": 5,
      "outputs": [
        {
          "output_type": "execute_result",
          "data": {
            "text/plain": [
              "()"
            ]
          },
          "metadata": {
            "tags": []
          },
          "execution_count": 5
        }
      ]
    },
    {
      "cell_type": "code",
      "metadata": {
        "colab": {
          "base_uri": "https://localhost:8080/"
        },
        "id": "jeoX44q8OU9s",
        "outputId": "96c9a73e-5b03-4955-e22e-b0e5638bad39"
      },
      "source": [
        "X[0].ndim"
      ],
      "execution_count": 6,
      "outputs": [
        {
          "output_type": "execute_result",
          "data": {
            "text/plain": [
              "0"
            ]
          },
          "metadata": {
            "tags": []
          },
          "execution_count": 6
        }
      ]
    },
    {
      "cell_type": "code",
      "metadata": {
        "colab": {
          "base_uri": "https://localhost:8080/"
        },
        "id": "ARv46WfROYfH",
        "outputId": "64ccf222-877f-41e2-94c9-b75b52773e9f"
      },
      "source": [
        "X[0],y[0]"
      ],
      "execution_count": 7,
      "outputs": [
        {
          "output_type": "execute_result",
          "data": {
            "text/plain": [
              "(-7.0, 3.0)"
            ]
          },
          "metadata": {
            "tags": []
          },
          "execution_count": 7
        }
      ]
    },
    {
      "cell_type": "code",
      "metadata": {
        "colab": {
          "base_uri": "https://localhost:8080/"
        },
        "id": "r4dCNX50ObEA",
        "outputId": "72a0d33c-4e87-4c75-b9ff-01b3bc1ba026"
      },
      "source": [
        "X=tf.cast(tf.constant(X),dtype=tf.float32)\n",
        "y=tf.cast(tf.constant(y),dtype=tf.float32)\n",
        "X,y"
      ],
      "execution_count": 11,
      "outputs": [
        {
          "output_type": "execute_result",
          "data": {
            "text/plain": [
              "(<tf.Tensor: shape=(8,), dtype=float32, numpy=array([-7., -4., -1.,  2.,  5.,  8., 11., 14.], dtype=float32)>,\n",
              " <tf.Tensor: shape=(8,), dtype=float32, numpy=array([ 3.,  6.,  9., 12., 15., 18., 21., 24.], dtype=float32)>)"
            ]
          },
          "metadata": {
            "tags": []
          },
          "execution_count": 11
        }
      ]
    },
    {
      "cell_type": "markdown",
      "metadata": {
        "id": "qc_qxlRCOp1m"
      },
      "source": [
        "Now we know what data we have as well as the input and output shapes, let's see how we'd build a neural network to model it.\n",
        "\n",
        "In TensorFlow, there are typically 3 fundamental steps to creating and training a model.\n",
        "\n",
        "**Creating a model**- piece together the layers of a neural network yourself (using the Functional or Sequential API) or import a previously built model (known as transfer learning).\n",
        "\n",
        "**Compiling a model** - defining how a models performance should be measured (loss/metrics) as well as defining how it should improve (optimizer).\n",
        "\n",
        "**Fitting a model** - letting the model try to find patterns in the data (how does X get to y).\n",
        "Let's see these in action using the Keras Sequential API to build a model for our regression data. And then we'll step through each."
      ]
    },
    {
      "cell_type": "code",
      "metadata": {
        "colab": {
          "base_uri": "https://localhost:8080/"
        },
        "id": "5J3tsTGcfDb5",
        "outputId": "5bf6b090-4140-49f0-dc48-3ee87e88fd04"
      },
      "source": [
        "tf.random.set_seed(42)\n",
        "\n",
        "#create a model using the Sequential API\n",
        "model=tf.keras.Sequential([\n",
        "  tf.keras.layers.Dense(1)                  \n",
        "])\n",
        "model.compile(loss=tf.keras.losses.mae,\n",
        "              optimizer=tf.keras.optimizers.SGD(),\n",
        "              metrics=[\"mae\"])\n",
        "model.fit(X,y,epochs=5)\n"
      ],
      "execution_count": 12,
      "outputs": [
        {
          "output_type": "stream",
          "text": [
            "Epoch 1/5\n",
            "1/1 [==============================] - 0s 254ms/step - loss: 11.5048 - mae: 11.5048\n",
            "Epoch 2/5\n",
            "1/1 [==============================] - 0s 6ms/step - loss: 11.3723 - mae: 11.3723\n",
            "Epoch 3/5\n",
            "1/1 [==============================] - 0s 10ms/step - loss: 11.2398 - mae: 11.2398\n",
            "Epoch 4/5\n",
            "1/1 [==============================] - 0s 4ms/step - loss: 11.1073 - mae: 11.1073\n",
            "Epoch 5/5\n",
            "1/1 [==============================] - 0s 5ms/step - loss: 10.9748 - mae: 10.9748\n"
          ],
          "name": "stdout"
        },
        {
          "output_type": "execute_result",
          "data": {
            "text/plain": [
              "<tensorflow.python.keras.callbacks.History at 0x7f02de5cfa50>"
            ]
          },
          "metadata": {
            "tags": []
          },
          "execution_count": 12
        }
      ]
    },
    {
      "cell_type": "code",
      "metadata": {
        "id": "Tcc1ieS-hwEm"
      },
      "source": [
        "y_pred=model.predict([17.0])"
      ],
      "execution_count": 14,
      "outputs": []
    },
    {
      "cell_type": "code",
      "metadata": {
        "colab": {
          "base_uri": "https://localhost:8080/"
        },
        "id": "yZxZHDLljSHS",
        "outputId": "7831b79a-36dd-4c30-9adc-a1825b91cc00"
      },
      "source": [
        "#improvin the model\n",
        "model =tf.keras.Sequential([\n",
        "      tf.keras.layers.Dense(100,activation='relu'),\n",
        "      tf.keras.layers.Dense(1)\n",
        "])\n",
        "model.compile(loss='mae',\n",
        "              optimizer=tf.keras.optimizers.Adam(lr=0.01),\n",
        "              metrics=['mae'])\n",
        "model.fit(X,y,epochs=100)"
      ],
      "execution_count": 43,
      "outputs": [
        {
          "output_type": "stream",
          "text": [
            "/usr/local/lib/python3.7/dist-packages/tensorflow/python/keras/optimizer_v2/optimizer_v2.py:375: UserWarning: The `lr` argument is deprecated, use `learning_rate` instead.\n",
            "  \"The `lr` argument is deprecated, use `learning_rate` instead.\")\n"
          ],
          "name": "stderr"
        },
        {
          "output_type": "stream",
          "text": [
            "Epoch 1/100\n",
            "1/1 [==============================] - 0s 352ms/step - loss: 12.8814 - mae: 12.8814\n",
            "Epoch 2/100\n",
            "1/1 [==============================] - 0s 6ms/step - loss: 12.1154 - mae: 12.1154\n",
            "Epoch 3/100\n",
            "1/1 [==============================] - 0s 7ms/step - loss: 11.3652 - mae: 11.3652\n",
            "Epoch 4/100\n",
            "1/1 [==============================] - 0s 10ms/step - loss: 10.6100 - mae: 10.6100\n",
            "Epoch 5/100\n",
            "1/1 [==============================] - 0s 7ms/step - loss: 9.8861 - mae: 9.8861\n",
            "Epoch 6/100\n",
            "1/1 [==============================] - 0s 6ms/step - loss: 9.3379 - mae: 9.3379\n",
            "Epoch 7/100\n",
            "1/1 [==============================] - 0s 9ms/step - loss: 8.7640 - mae: 8.7640\n",
            "Epoch 8/100\n",
            "1/1 [==============================] - 0s 5ms/step - loss: 8.1592 - mae: 8.1592\n",
            "Epoch 9/100\n",
            "1/1 [==============================] - 0s 5ms/step - loss: 7.5261 - mae: 7.5261\n",
            "Epoch 10/100\n",
            "1/1 [==============================] - 0s 7ms/step - loss: 6.8642 - mae: 6.8642\n",
            "Epoch 11/100\n",
            "1/1 [==============================] - 0s 4ms/step - loss: 6.1700 - mae: 6.1700\n",
            "Epoch 12/100\n",
            "1/1 [==============================] - 0s 8ms/step - loss: 5.4365 - mae: 5.4365\n",
            "Epoch 13/100\n",
            "1/1 [==============================] - 0s 7ms/step - loss: 4.6609 - mae: 4.6609\n",
            "Epoch 14/100\n",
            "1/1 [==============================] - 0s 6ms/step - loss: 3.9576 - mae: 3.9576\n",
            "Epoch 15/100\n",
            "1/1 [==============================] - 0s 6ms/step - loss: 3.7285 - mae: 3.7285\n",
            "Epoch 16/100\n",
            "1/1 [==============================] - 0s 5ms/step - loss: 3.8676 - mae: 3.8676\n",
            "Epoch 17/100\n",
            "1/1 [==============================] - 0s 5ms/step - loss: 3.9851 - mae: 3.9851\n",
            "Epoch 18/100\n",
            "1/1 [==============================] - 0s 9ms/step - loss: 4.2708 - mae: 4.2708\n",
            "Epoch 19/100\n",
            "1/1 [==============================] - 0s 8ms/step - loss: 4.4724 - mae: 4.4724\n",
            "Epoch 20/100\n",
            "1/1 [==============================] - 0s 7ms/step - loss: 4.5724 - mae: 4.5724\n",
            "Epoch 21/100\n",
            "1/1 [==============================] - 0s 10ms/step - loss: 4.5848 - mae: 4.5848\n",
            "Epoch 22/100\n",
            "1/1 [==============================] - 0s 6ms/step - loss: 4.5225 - mae: 4.5225\n",
            "Epoch 23/100\n",
            "1/1 [==============================] - 0s 6ms/step - loss: 4.3962 - mae: 4.3962\n",
            "Epoch 24/100\n",
            "1/1 [==============================] - 0s 6ms/step - loss: 4.2167 - mae: 4.2167\n",
            "Epoch 25/100\n",
            "1/1 [==============================] - 0s 5ms/step - loss: 3.9912 - mae: 3.9912\n",
            "Epoch 26/100\n",
            "1/1 [==============================] - 0s 8ms/step - loss: 3.7422 - mae: 3.7422\n",
            "Epoch 27/100\n",
            "1/1 [==============================] - 0s 7ms/step - loss: 3.6253 - mae: 3.6253\n",
            "Epoch 28/100\n",
            "1/1 [==============================] - 0s 7ms/step - loss: 3.5109 - mae: 3.5109\n",
            "Epoch 29/100\n",
            "1/1 [==============================] - 0s 6ms/step - loss: 3.3939 - mae: 3.3939\n",
            "Epoch 30/100\n",
            "1/1 [==============================] - 0s 8ms/step - loss: 3.2834 - mae: 3.2834\n",
            "Epoch 31/100\n",
            "1/1 [==============================] - 0s 7ms/step - loss: 3.3097 - mae: 3.3097\n",
            "Epoch 32/100\n",
            "1/1 [==============================] - 0s 6ms/step - loss: 3.3565 - mae: 3.3565\n",
            "Epoch 33/100\n",
            "1/1 [==============================] - 0s 7ms/step - loss: 3.3662 - mae: 3.3662\n",
            "Epoch 34/100\n",
            "1/1 [==============================] - 0s 6ms/step - loss: 3.3314 - mae: 3.3314\n",
            "Epoch 35/100\n",
            "1/1 [==============================] - 0s 6ms/step - loss: 3.2930 - mae: 3.2930\n",
            "Epoch 36/100\n",
            "1/1 [==============================] - 0s 6ms/step - loss: 3.2264 - mae: 3.2264\n",
            "Epoch 37/100\n",
            "1/1 [==============================] - 0s 8ms/step - loss: 3.1320 - mae: 3.1320\n",
            "Epoch 38/100\n",
            "1/1 [==============================] - 0s 8ms/step - loss: 3.0079 - mae: 3.0079\n",
            "Epoch 39/100\n",
            "1/1 [==============================] - 0s 5ms/step - loss: 2.8589 - mae: 2.8589\n",
            "Epoch 40/100\n",
            "1/1 [==============================] - 0s 6ms/step - loss: 2.8154 - mae: 2.8154\n",
            "Epoch 41/100\n",
            "1/1 [==============================] - 0s 6ms/step - loss: 2.8217 - mae: 2.8217\n",
            "Epoch 42/100\n",
            "1/1 [==============================] - 0s 7ms/step - loss: 2.7714 - mae: 2.7714\n",
            "Epoch 43/100\n",
            "1/1 [==============================] - 0s 6ms/step - loss: 2.7195 - mae: 2.7195\n",
            "Epoch 44/100\n",
            "1/1 [==============================] - 0s 6ms/step - loss: 2.6505 - mae: 2.6505\n",
            "Epoch 45/100\n",
            "1/1 [==============================] - 0s 8ms/step - loss: 2.5665 - mae: 2.5665\n",
            "Epoch 46/100\n",
            "1/1 [==============================] - 0s 7ms/step - loss: 2.4650 - mae: 2.4650\n",
            "Epoch 47/100\n",
            "1/1 [==============================] - 0s 6ms/step - loss: 2.3486 - mae: 2.3486\n",
            "Epoch 48/100\n",
            "1/1 [==============================] - 0s 7ms/step - loss: 2.2229 - mae: 2.2229\n",
            "Epoch 49/100\n",
            "1/1 [==============================] - 0s 13ms/step - loss: 2.0936 - mae: 2.0936\n",
            "Epoch 50/100\n",
            "1/1 [==============================] - 0s 5ms/step - loss: 1.9605 - mae: 1.9605\n",
            "Epoch 51/100\n",
            "1/1 [==============================] - 0s 7ms/step - loss: 1.8540 - mae: 1.8540\n",
            "Epoch 52/100\n",
            "1/1 [==============================] - 0s 9ms/step - loss: 1.7591 - mae: 1.7591\n",
            "Epoch 53/100\n",
            "1/1 [==============================] - 0s 6ms/step - loss: 1.6039 - mae: 1.6039\n",
            "Epoch 54/100\n",
            "1/1 [==============================] - 0s 6ms/step - loss: 1.4930 - mae: 1.4930\n",
            "Epoch 55/100\n",
            "1/1 [==============================] - 0s 5ms/step - loss: 1.3872 - mae: 1.3872\n",
            "Epoch 56/100\n",
            "1/1 [==============================] - 0s 5ms/step - loss: 1.2592 - mae: 1.2592\n",
            "Epoch 57/100\n",
            "1/1 [==============================] - 0s 7ms/step - loss: 1.1403 - mae: 1.1403\n",
            "Epoch 58/100\n",
            "1/1 [==============================] - 0s 5ms/step - loss: 0.9296 - mae: 0.9296\n",
            "Epoch 59/100\n",
            "1/1 [==============================] - 0s 7ms/step - loss: 0.7422 - mae: 0.7422\n",
            "Epoch 60/100\n",
            "1/1 [==============================] - 0s 8ms/step - loss: 0.6553 - mae: 0.6553\n",
            "Epoch 61/100\n",
            "1/1 [==============================] - 0s 9ms/step - loss: 0.4287 - mae: 0.4287\n",
            "Epoch 62/100\n",
            "1/1 [==============================] - 0s 5ms/step - loss: 0.3567 - mae: 0.3567\n",
            "Epoch 63/100\n",
            "1/1 [==============================] - 0s 8ms/step - loss: 0.3180 - mae: 0.3180\n",
            "Epoch 64/100\n",
            "1/1 [==============================] - 0s 8ms/step - loss: 0.4448 - mae: 0.4448\n",
            "Epoch 65/100\n",
            "1/1 [==============================] - 0s 5ms/step - loss: 0.3286 - mae: 0.3286\n",
            "Epoch 66/100\n",
            "1/1 [==============================] - 0s 8ms/step - loss: 0.6067 - mae: 0.6067\n",
            "Epoch 67/100\n",
            "1/1 [==============================] - 0s 7ms/step - loss: 0.6137 - mae: 0.6137\n",
            "Epoch 68/100\n",
            "1/1 [==============================] - 0s 6ms/step - loss: 0.4826 - mae: 0.4826\n",
            "Epoch 69/100\n",
            "1/1 [==============================] - 0s 7ms/step - loss: 0.5823 - mae: 0.5823\n",
            "Epoch 70/100\n",
            "1/1 [==============================] - 0s 5ms/step - loss: 0.5057 - mae: 0.5057\n",
            "Epoch 71/100\n",
            "1/1 [==============================] - 0s 9ms/step - loss: 0.3919 - mae: 0.3919\n",
            "Epoch 72/100\n",
            "1/1 [==============================] - 0s 6ms/step - loss: 0.6312 - mae: 0.6312\n",
            "Epoch 73/100\n",
            "1/1 [==============================] - 0s 8ms/step - loss: 0.5804 - mae: 0.5804\n",
            "Epoch 74/100\n",
            "1/1 [==============================] - 0s 5ms/step - loss: 0.3192 - mae: 0.3192\n",
            "Epoch 75/100\n",
            "1/1 [==============================] - 0s 8ms/step - loss: 0.4535 - mae: 0.4535\n",
            "Epoch 76/100\n",
            "1/1 [==============================] - 0s 5ms/step - loss: 0.4921 - mae: 0.4921\n",
            "Epoch 77/100\n",
            "1/1 [==============================] - 0s 7ms/step - loss: 0.3920 - mae: 0.3920\n",
            "Epoch 78/100\n",
            "1/1 [==============================] - 0s 5ms/step - loss: 0.2579 - mae: 0.2579\n",
            "Epoch 79/100\n",
            "1/1 [==============================] - 0s 5ms/step - loss: 0.4022 - mae: 0.4022\n",
            "Epoch 80/100\n",
            "1/1 [==============================] - 0s 8ms/step - loss: 0.3989 - mae: 0.3989\n",
            "Epoch 81/100\n",
            "1/1 [==============================] - 0s 5ms/step - loss: 0.2862 - mae: 0.2862\n",
            "Epoch 82/100\n",
            "1/1 [==============================] - 0s 8ms/step - loss: 0.2968 - mae: 0.2968\n",
            "Epoch 83/100\n",
            "1/1 [==============================] - 0s 5ms/step - loss: 0.3764 - mae: 0.3764\n",
            "Epoch 84/100\n",
            "1/1 [==============================] - 0s 7ms/step - loss: 0.3659 - mae: 0.3659\n",
            "Epoch 85/100\n",
            "1/1 [==============================] - 0s 5ms/step - loss: 0.3322 - mae: 0.3322\n",
            "Epoch 86/100\n",
            "1/1 [==============================] - 0s 7ms/step - loss: 0.2846 - mae: 0.2846\n",
            "Epoch 87/100\n",
            "1/1 [==============================] - 0s 5ms/step - loss: 0.3026 - mae: 0.3026\n",
            "Epoch 88/100\n",
            "1/1 [==============================] - 0s 23ms/step - loss: 0.3308 - mae: 0.3308\n",
            "Epoch 89/100\n",
            "1/1 [==============================] - 0s 9ms/step - loss: 0.2310 - mae: 0.2310\n",
            "Epoch 90/100\n",
            "1/1 [==============================] - 0s 10ms/step - loss: 0.1752 - mae: 0.1752\n",
            "Epoch 91/100\n",
            "1/1 [==============================] - 0s 18ms/step - loss: 0.2366 - mae: 0.2366\n",
            "Epoch 92/100\n",
            "1/1 [==============================] - 0s 4ms/step - loss: 0.2005 - mae: 0.2005\n",
            "Epoch 93/100\n",
            "1/1 [==============================] - 0s 6ms/step - loss: 0.2081 - mae: 0.2081\n",
            "Epoch 94/100\n",
            "1/1 [==============================] - 0s 6ms/step - loss: 0.1098 - mae: 0.1098\n",
            "Epoch 95/100\n",
            "1/1 [==============================] - 0s 6ms/step - loss: 0.1852 - mae: 0.1852\n",
            "Epoch 96/100\n",
            "1/1 [==============================] - 0s 11ms/step - loss: 0.1288 - mae: 0.1288\n",
            "Epoch 97/100\n",
            "1/1 [==============================] - 0s 11ms/step - loss: 0.1031 - mae: 0.1031\n",
            "Epoch 98/100\n",
            "1/1 [==============================] - 0s 7ms/step - loss: 0.1276 - mae: 0.1276\n",
            "Epoch 99/100\n",
            "1/1 [==============================] - 0s 6ms/step - loss: 0.1165 - mae: 0.1165\n",
            "Epoch 100/100\n",
            "1/1 [==============================] - 0s 7ms/step - loss: 0.0857 - mae: 0.0857\n"
          ],
          "name": "stdout"
        },
        {
          "output_type": "execute_result",
          "data": {
            "text/plain": [
              "<tensorflow.python.keras.callbacks.History at 0x7f02cfa30410>"
            ]
          },
          "metadata": {
            "tags": []
          },
          "execution_count": 43
        }
      ]
    },
    {
      "cell_type": "code",
      "metadata": {
        "colab": {
          "base_uri": "https://localhost:8080/"
        },
        "id": "PznzTXBCmFjs",
        "outputId": "8267ca8c-d81f-40fe-c1ce-ab6ae41de840"
      },
      "source": [
        "model.predict([19.])"
      ],
      "execution_count": 44,
      "outputs": [
        {
          "output_type": "execute_result",
          "data": {
            "text/plain": [
              "array([[29.175945]], dtype=float32)"
            ]
          },
          "metadata": {
            "tags": []
          },
          "execution_count": 44
        }
      ]
    },
    {
      "cell_type": "code",
      "metadata": {
        "colab": {
          "base_uri": "https://localhost:8080/"
        },
        "id": "6JeANoBxmSzv",
        "outputId": "cd49765f-ecc8-48b6-8b02-eb921dd50a53"
      },
      "source": [
        "X=tf.range(-100,100,4)\n",
        "X"
      ],
      "execution_count": 59,
      "outputs": [
        {
          "output_type": "execute_result",
          "data": {
            "text/plain": [
              "<tf.Tensor: shape=(50,), dtype=int32, numpy=\n",
              "array([-100,  -96,  -92,  -88,  -84,  -80,  -76,  -72,  -68,  -64,  -60,\n",
              "        -56,  -52,  -48,  -44,  -40,  -36,  -32,  -28,  -24,  -20,  -16,\n",
              "        -12,   -8,   -4,    0,    4,    8,   12,   16,   20,   24,   28,\n",
              "         32,   36,   40,   44,   48,   52,   56,   60,   64,   68,   72,\n",
              "         76,   80,   84,   88,   92,   96], dtype=int32)>"
            ]
          },
          "metadata": {
            "tags": []
          },
          "execution_count": 59
        }
      ]
    },
    {
      "cell_type": "code",
      "metadata": {
        "colab": {
          "base_uri": "https://localhost:8080/"
        },
        "id": "2cvXvLB6sIv9",
        "outputId": "a1470ce7-ac52-4e6e-e783-e5cca0e2bf3e"
      },
      "source": [
        "y=X+10\n",
        "y"
      ],
      "execution_count": 60,
      "outputs": [
        {
          "output_type": "execute_result",
          "data": {
            "text/plain": [
              "<tf.Tensor: shape=(50,), dtype=int32, numpy=\n",
              "array([-90, -86, -82, -78, -74, -70, -66, -62, -58, -54, -50, -46, -42,\n",
              "       -38, -34, -30, -26, -22, -18, -14, -10,  -6,  -2,   2,   6,  10,\n",
              "        14,  18,  22,  26,  30,  34,  38,  42,  46,  50,  54,  58,  62,\n",
              "        66,  70,  74,  78,  82,  86,  90,  94,  98, 102, 106], dtype=int32)>"
            ]
          },
          "metadata": {
            "tags": []
          },
          "execution_count": 60
        }
      ]
    },
    {
      "cell_type": "code",
      "metadata": {
        "colab": {
          "base_uri": "https://localhost:8080/",
          "height": 282
        },
        "id": "1mmIfu05sNkk",
        "outputId": "3ae40e27-7b80-4581-fc36-3b2fb4863edf"
      },
      "source": [
        "plt.scatter(X,y)"
      ],
      "execution_count": 5,
      "outputs": [
        {
          "output_type": "execute_result",
          "data": {
            "text/plain": [
              "<matplotlib.collections.PathCollection at 0x7f0a9b4c2ed0>"
            ]
          },
          "metadata": {
            "tags": []
          },
          "execution_count": 5
        },
        {
          "output_type": "display_data",
          "data": {
            "image/png": "[encoded data removed]",
            "text/plain": [
              "<Figure size 432x288 with 1 Axes>"
            ]
          },
          "metadata": {
            "tags": [],
            "needs_background": "light"
          }
        }
      ]
    },
    {
      "cell_type": "code",
      "metadata": {
        "colab": {
          "base_uri": "https://localhost:8080/"
        },
        "id": "Y04CuA8JsSy9",
        "outputId": "db1ed15e-f8ba-4bc4-cf0a-2b2f96932540"
      },
      "source": [
        "len(X)"
      ],
      "execution_count": 6,
      "outputs": [
        {
          "output_type": "execute_result",
          "data": {
            "text/plain": [
              "50"
            ]
          },
          "metadata": {
            "tags": []
          },
          "execution_count": 6
        }
      ]
    },
    {
      "cell_type": "code",
      "metadata": {
        "colab": {
          "base_uri": "https://localhost:8080/"
        },
        "id": "mBZoG98RNL4Z",
        "outputId": "5b623695-9680-47ba-d82d-57452549139a"
      },
      "source": [
        "#Split the data into train and test set\n",
        "X_train=X[:40]\n",
        "y_train=y[:40]\n",
        "X_test=X[40:]\n",
        "y_test=y[40:]\n",
        "\n",
        "len(X_train),len(X_test),len(y_train),len(y_test)\n",
        "\n"
      ],
      "execution_count": 55,
      "outputs": [
        {
          "output_type": "execute_result",
          "data": {
            "text/plain": [
              "(40, 10, 40, 10)"
            ]
          },
          "metadata": {
            "tags": []
          },
          "execution_count": 55
        }
      ]
    },
    {
      "cell_type": "code",
      "metadata": {
        "colab": {
          "base_uri": "https://localhost:8080/",
          "height": 445
        },
        "id": "cFOFbGdXOB-Q",
        "outputId": "3c4c6e76-9306-4d7d-ea5a-cbd6d9e5a220"
      },
      "source": [
        "plt.figure(figsize=(10,7))\n",
        "plt.scatter(X_train,y_train,c=\"b\",label=\"trian_data\")\n",
        "plt.scatter(X_test,y_test,c=\"g\",label=\"Test_data\")\n",
        "plt.legend()"
      ],
      "execution_count": 8,
      "outputs": [
        {
          "output_type": "execute_result",
          "data": {
            "text/plain": [
              "<matplotlib.legend.Legend at 0x7f0a9b499850>"
            ]
          },
          "metadata": {
            "tags": []
          },
          "execution_count": 8
        },
        {
          "output_type": "display_data",
          "data": {
            "image/png": "[encoded data removed]",
            "text/plain": [
              "<Figure size 720x504 with 1 Axes>"
            ]
          },
          "metadata": {
            "tags": [],
            "needs_background": "light"
          }
        }
      ]
    },
    {
      "cell_type": "code",
      "metadata": {
        "colab": {
          "base_uri": "https://localhost:8080/"
        },
        "id": "vzhiAiwZO2xw",
        "outputId": "ffd16135-9e5c-4d01-ceeb-2c0eaaa904f8"
      },
      "source": [
        "#neural network for this\n",
        "\n",
        "model=tf.keras.Sequential([\n",
        "      tf.keras.layers.Dense(1)])\n",
        "\n",
        "model.compile(loss=tf.keras.losses.mae,\n",
        "              optimizer=tf.keras.optimizers.SGD(),\n",
        "              metrics=[\"mae\"])\n",
        "model.fit(X_train,y_train,epochs=100)"
      ],
      "execution_count": 9,
      "outputs": [
        {
          "output_type": "stream",
          "text": [
            "Epoch 1/100\n",
            "2/2 [==============================] - 1s 8ms/step - loss: 79.9059 - mae: 79.9059\n",
            "Epoch 2/100\n",
            "2/2 [==============================] - 0s 6ms/step - loss: 48.1102 - mae: 48.1102\n",
            "Epoch 3/100\n",
            "2/2 [==============================] - 0s 4ms/step - loss: 16.6651 - mae: 16.6651\n",
            "Epoch 4/100\n",
            "2/2 [==============================] - 0s 4ms/step - loss: 9.4216 - mae: 9.4216\n",
            "Epoch 5/100\n",
            "2/2 [==============================] - 0s 4ms/step - loss: 9.0658 - mae: 9.0658\n",
            "Epoch 6/100\n",
            "2/2 [==============================] - 0s 4ms/step - loss: 10.8788 - mae: 10.8788\n",
            "Epoch 7/100\n",
            "2/2 [==============================] - 0s 5ms/step - loss: 9.4379 - mae: 9.4379\n",
            "Epoch 8/100\n",
            "2/2 [==============================] - 0s 5ms/step - loss: 11.3879 - mae: 11.3879\n",
            "Epoch 9/100\n",
            "2/2 [==============================] - 0s 5ms/step - loss: 11.1713 - mae: 11.1713\n",
            "Epoch 10/100\n",
            "2/2 [==============================] - 0s 4ms/step - loss: 10.3798 - mae: 10.3798\n",
            "Epoch 11/100\n",
            "2/2 [==============================] - 0s 3ms/step - loss: 17.5295 - mae: 17.5295\n",
            "Epoch 12/100\n",
            "2/2 [==============================] - 0s 7ms/step - loss: 9.0900 - mae: 9.0900\n",
            "Epoch 13/100\n",
            "2/2 [==============================] - 0s 3ms/step - loss: 10.2277 - mae: 10.2277\n",
            "Epoch 14/100\n",
            "2/2 [==============================] - 0s 10ms/step - loss: 11.8866 - mae: 11.8866\n",
            "Epoch 15/100\n",
            "2/2 [==============================] - 0s 6ms/step - loss: 15.3502 - mae: 15.3502\n",
            "Epoch 16/100\n",
            "2/2 [==============================] - 0s 4ms/step - loss: 17.8169 - mae: 17.8169\n",
            "Epoch 17/100\n",
            "2/2 [==============================] - 0s 5ms/step - loss: 13.6217 - mae: 13.6217\n",
            "Epoch 18/100\n",
            "2/2 [==============================] - 0s 7ms/step - loss: 13.0987 - mae: 13.0987\n",
            "Epoch 19/100\n",
            "2/2 [==============================] - 0s 5ms/step - loss: 8.9619 - mae: 8.9619\n",
            "Epoch 20/100\n",
            "2/2 [==============================] - 0s 5ms/step - loss: 10.7153 - mae: 10.7153\n",
            "Epoch 21/100\n",
            "2/2 [==============================] - 0s 6ms/step - loss: 11.2116 - mae: 11.2116\n",
            "Epoch 22/100\n",
            "2/2 [==============================] - 0s 4ms/step - loss: 12.6181 - mae: 12.6181\n",
            "Epoch 23/100\n",
            "2/2 [==============================] - 0s 4ms/step - loss: 12.6549 - mae: 12.6549\n",
            "Epoch 24/100\n",
            "2/2 [==============================] - 0s 4ms/step - loss: 7.4120 - mae: 7.4120\n",
            "Epoch 25/100\n",
            "2/2 [==============================] - 0s 6ms/step - loss: 9.1708 - mae: 9.1708\n",
            "Epoch 26/100\n",
            "2/2 [==============================] - 0s 3ms/step - loss: 11.2641 - mae: 11.2641\n",
            "Epoch 27/100\n",
            "2/2 [==============================] - 0s 4ms/step - loss: 11.4578 - mae: 11.4578\n",
            "Epoch 28/100\n",
            "2/2 [==============================] - 0s 6ms/step - loss: 8.8588 - mae: 8.8588\n",
            "Epoch 29/100\n",
            "2/2 [==============================] - 0s 5ms/step - loss: 9.1797 - mae: 9.1797\n",
            "Epoch 30/100\n",
            "2/2 [==============================] - 0s 6ms/step - loss: 7.5085 - mae: 7.5085\n",
            "Epoch 31/100\n",
            "2/2 [==============================] - 0s 5ms/step - loss: 12.0992 - mae: 12.0992\n",
            "Epoch 32/100\n",
            "2/2 [==============================] - 0s 4ms/step - loss: 7.4996 - mae: 7.4996\n",
            "Epoch 33/100\n",
            "2/2 [==============================] - 0s 5ms/step - loss: 13.3600 - mae: 13.3600\n",
            "Epoch 34/100\n",
            "2/2 [==============================] - 0s 6ms/step - loss: 7.3710 - mae: 7.3710\n",
            "Epoch 35/100\n",
            "2/2 [==============================] - 0s 20ms/step - loss: 12.1400 - mae: 12.1400\n",
            "Epoch 36/100\n",
            "2/2 [==============================] - 0s 4ms/step - loss: 10.5454 - mae: 10.5454\n",
            "Epoch 37/100\n",
            "2/2 [==============================] - 0s 6ms/step - loss: 8.7326 - mae: 8.7326\n",
            "Epoch 38/100\n",
            "2/2 [==============================] - 0s 13ms/step - loss: 9.2663 - mae: 9.2663\n",
            "Epoch 39/100\n",
            "2/2 [==============================] - 0s 10ms/step - loss: 7.2200 - mae: 7.2200\n",
            "Epoch 40/100\n",
            "2/2 [==============================] - 0s 4ms/step - loss: 9.1342 - mae: 9.1342\n",
            "Epoch 41/100\n",
            "2/2 [==============================] - 0s 5ms/step - loss: 11.5512 - mae: 11.5512\n",
            "Epoch 42/100\n",
            "2/2 [==============================] - 0s 4ms/step - loss: 14.4984 - mae: 14.4984\n",
            "Epoch 43/100\n",
            "2/2 [==============================] - 0s 11ms/step - loss: 11.8457 - mae: 11.8457\n",
            "Epoch 44/100\n",
            "2/2 [==============================] - 0s 6ms/step - loss: 8.9850 - mae: 8.9850\n",
            "Epoch 45/100\n",
            "2/2 [==============================] - 0s 10ms/step - loss: 12.0654 - mae: 12.0654\n",
            "Epoch 46/100\n",
            "2/2 [==============================] - 0s 8ms/step - loss: 13.7173 - mae: 13.7173\n",
            "Epoch 47/100\n",
            "2/2 [==============================] - 0s 7ms/step - loss: 17.4640 - mae: 17.4640\n",
            "Epoch 48/100\n",
            "2/2 [==============================] - 0s 9ms/step - loss: 11.4188 - mae: 11.4188\n",
            "Epoch 49/100\n",
            "2/2 [==============================] - 0s 8ms/step - loss: 15.3984 - mae: 15.3984\n",
            "Epoch 50/100\n",
            "2/2 [==============================] - 0s 11ms/step - loss: 18.2139 - mae: 18.2139\n",
            "Epoch 51/100\n",
            "2/2 [==============================] - 0s 7ms/step - loss: 9.4596 - mae: 9.4596\n",
            "Epoch 52/100\n",
            "2/2 [==============================] - 0s 4ms/step - loss: 8.2233 - mae: 8.2233\n",
            "Epoch 53/100\n",
            "2/2 [==============================] - 0s 5ms/step - loss: 7.5550 - mae: 7.5550\n",
            "Epoch 54/100\n",
            "2/2 [==============================] - 0s 9ms/step - loss: 7.1941 - mae: 7.1941\n",
            "Epoch 55/100\n",
            "2/2 [==============================] - 0s 4ms/step - loss: 12.6754 - mae: 12.6754\n",
            "Epoch 56/100\n",
            "2/2 [==============================] - 0s 6ms/step - loss: 8.1798 - mae: 8.1798\n",
            "Epoch 57/100\n",
            "2/2 [==============================] - 0s 3ms/step - loss: 10.5813 - mae: 10.5813\n",
            "Epoch 58/100\n",
            "2/2 [==============================] - 0s 3ms/step - loss: 8.1818 - mae: 8.1818\n",
            "Epoch 59/100\n",
            "2/2 [==============================] - 0s 5ms/step - loss: 12.7744 - mae: 12.7744\n",
            "Epoch 60/100\n",
            "2/2 [==============================] - 0s 7ms/step - loss: 17.3874 - mae: 17.3874\n",
            "Epoch 61/100\n",
            "2/2 [==============================] - 0s 6ms/step - loss: 10.9335 - mae: 10.9335\n",
            "Epoch 62/100\n",
            "2/2 [==============================] - 0s 4ms/step - loss: 18.9019 - mae: 18.9019\n",
            "Epoch 63/100\n",
            "2/2 [==============================] - 0s 3ms/step - loss: 11.9896 - mae: 11.9896\n",
            "Epoch 64/100\n",
            "2/2 [==============================] - 0s 4ms/step - loss: 9.2255 - mae: 9.2255\n",
            "Epoch 65/100\n",
            "2/2 [==============================] - 0s 3ms/step - loss: 8.6106 - mae: 8.6106\n",
            "Epoch 66/100\n",
            "2/2 [==============================] - 0s 3ms/step - loss: 14.8533 - mae: 14.8533\n",
            "Epoch 67/100\n",
            "2/2 [==============================] - 0s 4ms/step - loss: 10.9667 - mae: 10.9667\n",
            "Epoch 68/100\n",
            "2/2 [==============================] - 0s 3ms/step - loss: 9.4913 - mae: 9.4913\n",
            "Epoch 69/100\n",
            "2/2 [==============================] - 0s 3ms/step - loss: 8.9037 - mae: 8.9037\n",
            "Epoch 70/100\n",
            "2/2 [==============================] - 0s 4ms/step - loss: 7.4588 - mae: 7.4588\n",
            "Epoch 71/100\n",
            "2/2 [==============================] - 0s 3ms/step - loss: 8.7550 - mae: 8.7550\n",
            "Epoch 72/100\n",
            "2/2 [==============================] - 0s 3ms/step - loss: 9.0159 - mae: 9.0159\n",
            "Epoch 73/100\n",
            "2/2 [==============================] - 0s 4ms/step - loss: 10.1446 - mae: 10.1446\n",
            "Epoch 74/100\n",
            "2/2 [==============================] - 0s 5ms/step - loss: 8.1338 - mae: 8.1338\n",
            "Epoch 75/100\n",
            "2/2 [==============================] - 0s 13ms/step - loss: 8.1329 - mae: 8.1329\n",
            "Epoch 76/100\n",
            "2/2 [==============================] - 0s 5ms/step - loss: 7.3192 - mae: 7.3192\n",
            "Epoch 77/100\n",
            "2/2 [==============================] - 0s 8ms/step - loss: 7.9091 - mae: 7.9091\n",
            "Epoch 78/100\n",
            "2/2 [==============================] - 0s 6ms/step - loss: 12.8548 - mae: 12.8548\n",
            "Epoch 79/100\n",
            "2/2 [==============================] - 0s 17ms/step - loss: 9.2251 - mae: 9.2251\n",
            "Epoch 80/100\n",
            "2/2 [==============================] - 0s 8ms/step - loss: 7.3387 - mae: 7.3387\n",
            "Epoch 81/100\n",
            "2/2 [==============================] - 0s 13ms/step - loss: 11.4146 - mae: 11.4146\n",
            "Epoch 82/100\n",
            "2/2 [==============================] - 0s 5ms/step - loss: 14.6538 - mae: 14.6538\n",
            "Epoch 83/100\n",
            "2/2 [==============================] - 0s 13ms/step - loss: 9.6619 - mae: 9.6619\n",
            "Epoch 84/100\n",
            "2/2 [==============================] - 0s 6ms/step - loss: 12.3055 - mae: 12.3055\n",
            "Epoch 85/100\n",
            "2/2 [==============================] - 0s 8ms/step - loss: 12.5169 - mae: 12.5169\n",
            "Epoch 86/100\n",
            "2/2 [==============================] - 0s 9ms/step - loss: 6.7345 - mae: 6.7345\n",
            "Epoch 87/100\n",
            "2/2 [==============================] - 0s 6ms/step - loss: 9.0518 - mae: 9.0518\n",
            "Epoch 88/100\n",
            "2/2 [==============================] - 0s 5ms/step - loss: 7.8232 - mae: 7.8232\n",
            "Epoch 89/100\n",
            "2/2 [==============================] - 0s 3ms/step - loss: 8.2937 - mae: 8.2937\n",
            "Epoch 90/100\n",
            "2/2 [==============================] - 0s 5ms/step - loss: 9.3306 - mae: 9.3306\n",
            "Epoch 91/100\n",
            "2/2 [==============================] - 0s 9ms/step - loss: 8.4585 - mae: 8.4585\n",
            "Epoch 92/100\n",
            "2/2 [==============================] - 0s 7ms/step - loss: 13.5769 - mae: 13.5769\n",
            "Epoch 93/100\n",
            "2/2 [==============================] - 0s 4ms/step - loss: 11.8668 - mae: 11.8668\n",
            "Epoch 94/100\n",
            "2/2 [==============================] - 0s 3ms/step - loss: 6.7987 - mae: 6.7987\n",
            "Epoch 95/100\n",
            "2/2 [==============================] - 0s 4ms/step - loss: 9.1208 - mae: 9.1208\n",
            "Epoch 96/100\n",
            "2/2 [==============================] - 0s 4ms/step - loss: 7.2590 - mae: 7.2590\n",
            "Epoch 97/100\n",
            "2/2 [==============================] - 0s 4ms/step - loss: 11.1799 - mae: 11.1799\n",
            "Epoch 98/100\n",
            "2/2 [==============================] - 0s 8ms/step - loss: 6.7702 - mae: 6.7702\n",
            "Epoch 99/100\n",
            "2/2 [==============================] - 0s 4ms/step - loss: 8.1150 - mae: 8.1150\n",
            "Epoch 100/100\n",
            "2/2 [==============================] - 0s 5ms/step - loss: 10.2810 - mae: 10.2810\n"
          ],
          "name": "stdout"
        },
        {
          "output_type": "execute_result",
          "data": {
            "text/plain": [
              "<tensorflow.python.keras.callbacks.History at 0x7f0a9a65c410>"
            ]
          },
          "metadata": {
            "tags": []
          },
          "execution_count": 9
        }
      ]
    },
    {
      "cell_type": "code",
      "metadata": {
        "id": "l2pMOBfWR0wE"
      },
      "source": [
        "tf.random.set_seed(42)\n",
        "\n",
        "model=tf.keras.Sequential([\n",
        "      tf.keras.layers.Dense(10,input_shape=[1],name=\"Input_layer\"),\n",
        "      tf.keras.layers.Dense(1,name=\"Output\")\n",
        "\n",
        "])\n",
        "model.compile(loss=tf.keras.losses.mae,\n",
        "              optimizer=tf.keras.optimizers.SGD(),\n",
        "              metrics=[\"mae\"])"
      ],
      "execution_count": 10,
      "outputs": []
    },
    {
      "cell_type": "code",
      "metadata": {
        "colab": {
          "base_uri": "https://localhost:8080/"
        },
        "id": "1BUTx6-vTAHW",
        "outputId": "9b96ea39-365e-45c9-9aa2-652d958e14bc"
      },
      "source": [
        "model.summary()"
      ],
      "execution_count": 11,
      "outputs": [
        {
          "output_type": "stream",
          "text": [
            "Model: \"sequential_1\"\n",
            "_________________________________________________________________\n",
            "Layer (type)                 Output Shape              Param #   \n",
            "=================================================================\n",
            "Input_layer (Dense)          (None, 10)                20        \n",
            "_________________________________________________________________\n",
            "Output (Dense)               (None, 1)                 11        \n",
            "=================================================================\n",
            "Total params: 31\n",
            "Trainable params: 31\n",
            "Non-trainable params: 0\n",
            "_________________________________________________________________\n"
          ],
          "name": "stdout"
        }
      ]
    },
    {
      "cell_type": "code",
      "metadata": {
        "colab": {
          "base_uri": "https://localhost:8080/"
        },
        "id": "8JsVqZbgTJg5",
        "outputId": "6948e876-7ee1-4b49-9811-bf0f94e9196b"
      },
      "source": [
        "model.fit(X_train,y_train,epochs=100,verbose=0)"
      ],
      "execution_count": 12,
      "outputs": [
        {
          "output_type": "execute_result",
          "data": {
            "text/plain": [
              "<tensorflow.python.keras.callbacks.History at 0x7f0a9b4d7dd0>"
            ]
          },
          "metadata": {
            "tags": []
          },
          "execution_count": 12
        }
      ]
    },
    {
      "cell_type": "code",
      "metadata": {
        "id": "VMteInbIV1WL"
      },
      "source": [
        "from tensorflow.keras.utils import plot_model\n"
      ],
      "execution_count": 13,
      "outputs": []
    },
    {
      "cell_type": "code",
      "metadata": {
        "colab": {
          "base_uri": "https://localhost:8080/",
          "height": 312
        },
        "id": "xL-ncz_bXKu8",
        "outputId": "a6423ac0-0960-4941-9174-b60128c922f4"
      },
      "source": [
        "plot_model(model=model,show_shapes=True)"
      ],
      "execution_count": 14,
      "outputs": [
        {
          "output_type": "execute_result",
          "data": {
            "image/png": "[encoded data removed]",
            "text/plain": [
              "<IPython.core.display.Image object>"
            ]
          },
          "metadata": {
            "tags": []
          },
          "execution_count": 14
        }
      ]
    },
    {
      "cell_type": "code",
      "metadata": {
        "id": "aNt7WfkBXT15"
      },
      "source": [
        "y_pred=model.predict(X_test)"
      ],
      "execution_count": 15,
      "outputs": []
    },
    {
      "cell_type": "code",
      "metadata": {
        "colab": {
          "base_uri": "https://localhost:8080/"
        },
        "id": "dxYhhLi8D4q-",
        "outputId": "ef279e1e-08c7-4cd7-d80b-d836724fed88"
      },
      "source": [
        "y_pred"
      ],
      "execution_count": 16,
      "outputs": [
        {
          "output_type": "execute_result",
          "data": {
            "text/plain": [
              "array([[ 70.55218 ],\n",
              "       [ 75.13991 ],\n",
              "       [ 79.72763 ],\n",
              "       [ 84.31535 ],\n",
              "       [ 88.903076],\n",
              "       [ 93.49081 ],\n",
              "       [ 98.07853 ],\n",
              "       [102.66625 ],\n",
              "       [107.253975],\n",
              "       [111.8417  ]], dtype=float32)"
            ]
          },
          "metadata": {
            "tags": []
          },
          "execution_count": 16
        }
      ]
    },
    {
      "cell_type": "code",
      "metadata": {
        "colab": {
          "base_uri": "https://localhost:8080/"
        },
        "id": "WuGTH29AEDHQ",
        "outputId": "558ce606-c4aa-439f-fe1e-4304ede9b36d"
      },
      "source": [
        "y_test"
      ],
      "execution_count": 17,
      "outputs": [
        {
          "output_type": "execute_result",
          "data": {
            "text/plain": [
              "<tf.Tensor: shape=(10,), dtype=int32, numpy=array([ 70,  74,  78,  82,  86,  90,  94,  98, 102, 106], dtype=int32)>"
            ]
          },
          "metadata": {
            "tags": []
          },
          "execution_count": 17
        }
      ]
    },
    {
      "cell_type": "code",
      "metadata": {
        "id": "pJmxRtJnEEtP"
      },
      "source": [
        "def plot_predictions(train_data=X_train,\n",
        "                     train_label=y_train,\n",
        "                     test_data=X_test,\n",
        "                     test_label=y_test,\n",
        "                     predictions=y_pred):\n",
        "  \"\"\"\n",
        "  PLots training data,test data and compare predictions to ground truth labels\n",
        "  \"\"\"\n",
        "  plt.figure(figsize=(10,7))\n",
        "  plt.scatter(train_data,train_label,c=\"b\",label=\"Training_Data\")\n",
        "  plt.scatter(test_data,test_label,c=\"g\",label=\"Testing_Data\")\n",
        "  plt.scatter(test_data,predictions,c=\"r\",label=\"Predictions\")\n",
        "  plt.legend()"
      ],
      "execution_count": 32,
      "outputs": []
    },
    {
      "cell_type": "code",
      "metadata": {
        "colab": {
          "base_uri": "https://localhost:8080/",
          "height": 427
        },
        "id": "Q4VIbM07GW1f",
        "outputId": "c793fdfc-0f15-4af1-c88d-e2b002d7bd4c"
      },
      "source": [
        "plot_predictions()"
      ],
      "execution_count": 33,
      "outputs": [
        {
          "output_type": "display_data",
          "data": {
            "image/png": "[encoded data removed]",
            "text/plain": [
              "<Figure size 720x504 with 1 Axes>"
            ]
          },
          "metadata": {
            "tags": [],
            "needs_background": "light"
          }
        }
      ]
    },
    {
      "cell_type": "code",
      "metadata": {
        "colab": {
          "base_uri": "https://localhost:8080/"
        },
        "id": "MzKERCchGb-N",
        "outputId": "fd1666ef-dd9e-4230-fad4-0f93a30cc418"
      },
      "source": [
        "model.evaluate(X_test,y_test)"
      ],
      "execution_count": 34,
      "outputs": [
        {
          "output_type": "stream",
          "text": [
            "1/1 [==============================] - 0s 150ms/step - loss: 3.1969 - mae: 3.1969\n"
          ],
          "name": "stdout"
        },
        {
          "output_type": "execute_result",
          "data": {
            "text/plain": [
              "[3.196942090988159, 3.196942090988159]"
            ]
          },
          "metadata": {
            "tags": []
          },
          "execution_count": 34
        }
      ]
    },
    {
      "cell_type": "code",
      "metadata": {
        "colab": {
          "base_uri": "https://localhost:8080/"
        },
        "id": "KDE_-9wwLGQY",
        "outputId": "e6cef920-bf48-48d3-f5ca-da5dfdb0709f"
      },
      "source": [
        "model.evaluate(y_test,y_pred)"
      ],
      "execution_count": 40,
      "outputs": [
        {
          "output_type": "stream",
          "text": [
            "1/1 [==============================] - 0s 16ms/step - loss: 11.4693 - mae: 11.4693\n"
          ],
          "name": "stdout"
        },
        {
          "output_type": "execute_result",
          "data": {
            "text/plain": [
              "[11.469311714172363, 11.469311714172363]"
            ]
          },
          "metadata": {
            "tags": []
          },
          "execution_count": 40
        }
      ]
    },
    {
      "cell_type": "code",
      "metadata": {
        "id": "2tJQ8mEjMeUO"
      },
      "source": [
        "y_pred=tf.squeeze(y_pred)"
      ],
      "execution_count": 39,
      "outputs": []
    },
    {
      "cell_type": "code",
      "metadata": {
        "id": "sCBbqXhqMkQi"
      },
      "source": [
        "mae=tf.metrics.mean_absolute_error(y_true=y_test,\n",
        "                                   y_pred=tf.squeeze(y_pred))"
      ],
      "execution_count": 41,
      "outputs": []
    },
    {
      "cell_type": "code",
      "metadata": {
        "colab": {
          "base_uri": "https://localhost:8080/"
        },
        "id": "LMspzqNdM_FF",
        "outputId": "a4a309cc-2545-43c5-fea0-20f648f72470"
      },
      "source": [
        "mae"
      ],
      "execution_count": 42,
      "outputs": [
        {
          "output_type": "execute_result",
          "data": {
            "text/plain": [
              "<tf.Tensor: shape=(), dtype=float32, numpy=3.1969407>"
            ]
          },
          "metadata": {
            "tags": []
          },
          "execution_count": 42
        }
      ]
    },
    {
      "cell_type": "code",
      "metadata": {
        "id": "FsaGuG3gM_zo"
      },
      "source": [
        "def mae(y_true,y_pred):\n",
        "    return tf.metrics.mean_absolute_error(y_true=y_true,y_pred=tf.squeeze(y_pred))\n",
        "\n",
        "def mse(y_true,y_pred):\n",
        "  return tf.metrics.mean_squared_error(y_true=y_true,y_pred=tf.squeeze(y_pred))"
      ],
      "execution_count": 71,
      "outputs": []
    },
    {
      "cell_type": "code",
      "metadata": {
        "colab": {
          "base_uri": "https://localhost:8080/"
        },
        "id": "IWrYE_dVOHNW",
        "outputId": "9706327c-aaf9-4f7f-c864-1f4eedbbd6ff"
      },
      "source": [
        "mae(y_test,y_pred)"
      ],
      "execution_count": 48,
      "outputs": [
        {
          "output_type": "execute_result",
          "data": {
            "text/plain": [
              "<tf.Tensor: shape=(), dtype=float32, numpy=3.1969407>"
            ]
          },
          "metadata": {
            "tags": []
          },
          "execution_count": 48
        }
      ]
    },
    {
      "cell_type": "code",
      "metadata": {
        "colab": {
          "base_uri": "https://localhost:8080/"
        },
        "id": "g0M-nWObOLCj",
        "outputId": "ba5c143f-8401-414c-93ae-cc8198cbff8b"
      },
      "source": [
        "mse(y_test,y_pred)"
      ],
      "execution_count": 49,
      "outputs": [
        {
          "output_type": "execute_result",
          "data": {
            "text/plain": [
              "<tf.Tensor: shape=(), dtype=float32, numpy=13.070143>"
            ]
          },
          "metadata": {
            "tags": []
          },
          "execution_count": 49
        }
      ]
    },
    {
      "cell_type": "markdown",
      "metadata": {
        "id": "s5J-00VJOSc7"
      },
      "source": [
        "Running experiments to improve a model\n",
        "\n",
        "After seeing the evaluation metrics and the predictions your model makes, it's likely you'll want to improve it.\n",
        "\n",
        "Again, there are many different ways you can do this, but 3 of the main ones are:\n",
        "\n",
        "Get more data - get more examples for your model to train on (more opportunities to learn patterns).\n",
        "\n",
        "Make your model larger (use a more complex model) - this might come in the form of more layers or more hidden units in each layer.\n",
        "\n",
        "Train for longer - give your model more of a chance to find the patterns in the data.\n",
        "\n",
        "Since we created our dataset, we could easily make more data but this isn't always the case when you're working with real-world datasets.\n",
        "\n",
        "So let's take a look at how we can improve our model using 2 and 3.\n",
        "\n",
        "To do so, we'll build 3 models and compare their results:\n",
        "\n",
        "model_1 - same as original model, 1 layer, trained for 100 epochs.\n",
        "\n",
        "model_2 - 2 layers, trained for 100 epochs.\n",
        "\n",
        "model_3 - 2 layers, trained for 500 epochs.\n",
        "\n",
        "Build model_1"
      ]
    },
    {
      "cell_type": "code",
      "metadata": {
        "id": "4PTYSJubQH9a"
      },
      "source": [
        "tf.random.set_seed(42)\n",
        "model_1=tf.keras.Sequential([\n",
        "      tf.keras.layers.Dense(1)\n",
        "])\n",
        "model_1.compile(loss=tf.keras.losses.mae,\n",
        "              optimizer=tf.keras.optimizers.SGD(),\n",
        "              metrics=[\"mae\"])\n"
      ],
      "execution_count": 57,
      "outputs": []
    },
    {
      "cell_type": "code",
      "metadata": {
        "colab": {
          "base_uri": "https://localhost:8080/"
        },
        "id": "ENPXh762QS4o",
        "outputId": "2e116e0f-22b9-496e-91ea-e1c918cef9de"
      },
      "source": [
        "model_1.fit(X_train,y_train,epochs=100)"
      ],
      "execution_count": 58,
      "outputs": [
        {
          "output_type": "stream",
          "text": [
            "Epoch 1/100\n",
            "2/2 [==============================] - 0s 4ms/step - loss: 15.9024 - mae: 15.9024\n",
            "Epoch 2/100\n",
            "2/2 [==============================] - 0s 4ms/step - loss: 11.2837 - mae: 11.2837\n",
            "Epoch 3/100\n",
            "2/2 [==============================] - 0s 8ms/step - loss: 11.1074 - mae: 11.1074\n",
            "Epoch 4/100\n",
            "2/2 [==============================] - 0s 12ms/step - loss: 9.2991 - mae: 9.2991\n",
            "Epoch 5/100\n",
            "2/2 [==============================] - 0s 7ms/step - loss: 10.1677 - mae: 10.1677\n",
            "Epoch 6/100\n",
            "2/2 [==============================] - 0s 6ms/step - loss: 9.4303 - mae: 9.4303\n",
            "Epoch 7/100\n",
            "2/2 [==============================] - 0s 7ms/step - loss: 8.5704 - mae: 8.5704\n",
            "Epoch 8/100\n",
            "2/2 [==============================] - 0s 8ms/step - loss: 9.0442 - mae: 9.0442\n",
            "Epoch 9/100\n",
            "2/2 [==============================] - 0s 5ms/step - loss: 18.7517 - mae: 18.7517\n",
            "Epoch 10/100\n",
            "2/2 [==============================] - 0s 5ms/step - loss: 10.1142 - mae: 10.1142\n",
            "Epoch 11/100\n",
            "2/2 [==============================] - 0s 7ms/step - loss: 8.3980 - mae: 8.3980\n",
            "Epoch 12/100\n",
            "2/2 [==============================] - 0s 7ms/step - loss: 10.6639 - mae: 10.6639\n",
            "Epoch 13/100\n",
            "2/2 [==============================] - 0s 4ms/step - loss: 9.7977 - mae: 9.7977\n",
            "Epoch 14/100\n",
            "2/2 [==============================] - 0s 7ms/step - loss: 16.0103 - mae: 16.0103\n",
            "Epoch 15/100\n",
            "2/2 [==============================] - 0s 9ms/step - loss: 11.4068 - mae: 11.4068\n",
            "Epoch 16/100\n",
            "2/2 [==============================] - 0s 8ms/step - loss: 8.5393 - mae: 8.5393\n",
            "Epoch 17/100\n",
            "2/2 [==============================] - 0s 7ms/step - loss: 13.6348 - mae: 13.6348\n",
            "Epoch 18/100\n",
            "2/2 [==============================] - 0s 6ms/step - loss: 11.4629 - mae: 11.4629\n",
            "Epoch 19/100\n",
            "2/2 [==============================] - 0s 7ms/step - loss: 17.9148 - mae: 17.9148\n",
            "Epoch 20/100\n",
            "2/2 [==============================] - 0s 6ms/step - loss: 15.0494 - mae: 15.0494\n",
            "Epoch 21/100\n",
            "2/2 [==============================] - 0s 13ms/step - loss: 11.0216 - mae: 11.0216\n",
            "Epoch 22/100\n",
            "2/2 [==============================] - 0s 9ms/step - loss: 8.1558 - mae: 8.1558\n",
            "Epoch 23/100\n",
            "2/2 [==============================] - 0s 11ms/step - loss: 9.5138 - mae: 9.5138\n",
            "Epoch 24/100\n",
            "2/2 [==============================] - 0s 8ms/step - loss: 7.6617 - mae: 7.6617\n",
            "Epoch 25/100\n",
            "2/2 [==============================] - 0s 6ms/step - loss: 13.1859 - mae: 13.1859\n",
            "Epoch 26/100\n",
            "2/2 [==============================] - 0s 9ms/step - loss: 16.4211 - mae: 16.4211\n",
            "Epoch 27/100\n",
            "2/2 [==============================] - 0s 9ms/step - loss: 13.1660 - mae: 13.1660\n",
            "Epoch 28/100\n",
            "2/2 [==============================] - 0s 7ms/step - loss: 14.2559 - mae: 14.2559\n",
            "Epoch 29/100\n",
            "2/2 [==============================] - 0s 8ms/step - loss: 10.0670 - mae: 10.0670\n",
            "Epoch 30/100\n",
            "2/2 [==============================] - 0s 6ms/step - loss: 16.3409 - mae: 16.3409\n",
            "Epoch 31/100\n",
            "2/2 [==============================] - 0s 7ms/step - loss: 23.6444 - mae: 23.6444\n",
            "Epoch 32/100\n",
            "2/2 [==============================] - 0s 11ms/step - loss: 7.6215 - mae: 7.6215\n",
            "Epoch 33/100\n",
            "2/2 [==============================] - 0s 7ms/step - loss: 9.3221 - mae: 9.3221\n",
            "Epoch 34/100\n",
            "2/2 [==============================] - 0s 12ms/step - loss: 13.7313 - mae: 13.7313\n",
            "Epoch 35/100\n",
            "2/2 [==============================] - 0s 6ms/step - loss: 11.1276 - mae: 11.1276\n",
            "Epoch 36/100\n",
            "2/2 [==============================] - 0s 7ms/step - loss: 13.3222 - mae: 13.3222\n",
            "Epoch 37/100\n",
            "2/2 [==============================] - 0s 6ms/step - loss: 9.4763 - mae: 9.4763\n",
            "Epoch 38/100\n",
            "2/2 [==============================] - 0s 6ms/step - loss: 10.1381 - mae: 10.1381\n",
            "Epoch 39/100\n",
            "2/2 [==============================] - 0s 6ms/step - loss: 10.1793 - mae: 10.1793\n",
            "Epoch 40/100\n",
            "2/2 [==============================] - 0s 6ms/step - loss: 10.9137 - mae: 10.9137\n",
            "Epoch 41/100\n",
            "2/2 [==============================] - 0s 5ms/step - loss: 7.9063 - mae: 7.9063\n",
            "Epoch 42/100\n",
            "2/2 [==============================] - 0s 4ms/step - loss: 10.0914 - mae: 10.0914\n",
            "Epoch 43/100\n",
            "2/2 [==============================] - 0s 5ms/step - loss: 8.7006 - mae: 8.7006\n",
            "Epoch 44/100\n",
            "2/2 [==============================] - 0s 4ms/step - loss: 12.2047 - mae: 12.2047\n",
            "Epoch 45/100\n",
            "2/2 [==============================] - 0s 16ms/step - loss: 13.7970 - mae: 13.7970\n",
            "Epoch 46/100\n",
            "2/2 [==============================] - 0s 4ms/step - loss: 8.4687 - mae: 8.4687\n",
            "Epoch 47/100\n",
            "2/2 [==============================] - 0s 3ms/step - loss: 9.1330 - mae: 9.1330\n",
            "Epoch 48/100\n",
            "2/2 [==============================] - 0s 6ms/step - loss: 10.6190 - mae: 10.6190\n",
            "Epoch 49/100\n",
            "2/2 [==============================] - 0s 5ms/step - loss: 7.7503 - mae: 7.7503\n",
            "Epoch 50/100\n",
            "2/2 [==============================] - 0s 4ms/step - loss: 9.5407 - mae: 9.5407\n",
            "Epoch 51/100\n",
            "2/2 [==============================] - 0s 10ms/step - loss: 9.1584 - mae: 9.1584\n",
            "Epoch 52/100\n",
            "2/2 [==============================] - 0s 3ms/step - loss: 16.3630 - mae: 16.3630\n",
            "Epoch 53/100\n",
            "2/2 [==============================] - 0s 10ms/step - loss: 14.1299 - mae: 14.1299\n",
            "Epoch 54/100\n",
            "2/2 [==============================] - 0s 9ms/step - loss: 21.1247 - mae: 21.1247\n",
            "Epoch 55/100\n",
            "2/2 [==============================] - 0s 5ms/step - loss: 16.3961 - mae: 16.3961\n",
            "Epoch 56/100\n",
            "2/2 [==============================] - 0s 7ms/step - loss: 9.9806 - mae: 9.9806\n",
            "Epoch 57/100\n",
            "2/2 [==============================] - 0s 7ms/step - loss: 9.9606 - mae: 9.9606\n",
            "Epoch 58/100\n",
            "2/2 [==============================] - 0s 4ms/step - loss: 9.2209 - mae: 9.2209\n",
            "Epoch 59/100\n",
            "2/2 [==============================] - 0s 5ms/step - loss: 8.4239 - mae: 8.4239\n",
            "Epoch 60/100\n",
            "2/2 [==============================] - 0s 4ms/step - loss: 9.4869 - mae: 9.4869\n",
            "Epoch 61/100\n",
            "2/2 [==============================] - 0s 4ms/step - loss: 11.4355 - mae: 11.4355\n",
            "Epoch 62/100\n",
            "2/2 [==============================] - 0s 4ms/step - loss: 11.6887 - mae: 11.6887\n",
            "Epoch 63/100\n",
            "2/2 [==============================] - 0s 8ms/step - loss: 7.0838 - mae: 7.0838\n",
            "Epoch 64/100\n",
            "2/2 [==============================] - 0s 4ms/step - loss: 16.9675 - mae: 16.9675\n",
            "Epoch 65/100\n",
            "2/2 [==============================] - 0s 4ms/step - loss: 12.4599 - mae: 12.4599\n",
            "Epoch 66/100\n",
            "2/2 [==============================] - 0s 4ms/step - loss: 13.0184 - mae: 13.0184\n",
            "Epoch 67/100\n",
            "2/2 [==============================] - 0s 4ms/step - loss: 8.0600 - mae: 8.0600\n",
            "Epoch 68/100\n",
            "2/2 [==============================] - 0s 5ms/step - loss: 10.1888 - mae: 10.1888\n",
            "Epoch 69/100\n",
            "2/2 [==============================] - 0s 4ms/step - loss: 12.3633 - mae: 12.3633\n",
            "Epoch 70/100\n",
            "2/2 [==============================] - 0s 4ms/step - loss: 9.0516 - mae: 9.0516\n",
            "Epoch 71/100\n",
            "2/2 [==============================] - 0s 4ms/step - loss: 10.0378 - mae: 10.0378\n",
            "Epoch 72/100\n",
            "2/2 [==============================] - 0s 4ms/step - loss: 10.0516 - mae: 10.0516\n",
            "Epoch 73/100\n",
            "2/2 [==============================] - 0s 4ms/step - loss: 12.6151 - mae: 12.6151\n",
            "Epoch 74/100\n",
            "2/2 [==============================] - 0s 4ms/step - loss: 10.3819 - mae: 10.3819\n",
            "Epoch 75/100\n",
            "2/2 [==============================] - 0s 4ms/step - loss: 9.7229 - mae: 9.7229\n",
            "Epoch 76/100\n",
            "2/2 [==============================] - 0s 12ms/step - loss: 11.2252 - mae: 11.2252\n",
            "Epoch 77/100\n",
            "2/2 [==============================] - 0s 4ms/step - loss: 8.3642 - mae: 8.3642\n",
            "Epoch 78/100\n",
            "2/2 [==============================] - 0s 4ms/step - loss: 9.1274 - mae: 9.1274\n",
            "Epoch 79/100\n",
            "2/2 [==============================] - 0s 4ms/step - loss: 19.5039 - mae: 19.5039\n",
            "Epoch 80/100\n",
            "2/2 [==============================] - 0s 4ms/step - loss: 14.8945 - mae: 14.8945\n",
            "Epoch 81/100\n",
            "2/2 [==============================] - 0s 7ms/step - loss: 9.0034 - mae: 9.0034\n",
            "Epoch 82/100\n",
            "2/2 [==============================] - 0s 4ms/step - loss: 13.0206 - mae: 13.0206\n",
            "Epoch 83/100\n",
            "2/2 [==============================] - 0s 5ms/step - loss: 7.9299 - mae: 7.9299\n",
            "Epoch 84/100\n",
            "2/2 [==============================] - 0s 4ms/step - loss: 7.6872 - mae: 7.6872\n",
            "Epoch 85/100\n",
            "2/2 [==============================] - 0s 4ms/step - loss: 10.0328 - mae: 10.0328\n",
            "Epoch 86/100\n",
            "2/2 [==============================] - 0s 4ms/step - loss: 9.2433 - mae: 9.2433\n",
            "Epoch 87/100\n",
            "2/2 [==============================] - 0s 5ms/step - loss: 12.0209 - mae: 12.0209\n",
            "Epoch 88/100\n",
            "2/2 [==============================] - 0s 6ms/step - loss: 10.6389 - mae: 10.6389\n",
            "Epoch 89/100\n",
            "2/2 [==============================] - 0s 6ms/step - loss: 7.2667 - mae: 7.2667\n",
            "Epoch 90/100\n",
            "2/2 [==============================] - 0s 5ms/step - loss: 12.7786 - mae: 12.7786\n",
            "Epoch 91/100\n",
            "2/2 [==============================] - 0s 4ms/step - loss: 7.3481 - mae: 7.3481\n",
            "Epoch 92/100\n",
            "2/2 [==============================] - 0s 5ms/step - loss: 7.7175 - mae: 7.7175\n",
            "Epoch 93/100\n",
            "2/2 [==============================] - 0s 4ms/step - loss: 7.1263 - mae: 7.1263\n",
            "Epoch 94/100\n",
            "2/2 [==============================] - 0s 4ms/step - loss: 12.6190 - mae: 12.6190\n",
            "Epoch 95/100\n",
            "2/2 [==============================] - 0s 4ms/step - loss: 10.0912 - mae: 10.0912\n",
            "Epoch 96/100\n",
            "2/2 [==============================] - 0s 12ms/step - loss: 9.3558 - mae: 9.3558\n",
            "Epoch 97/100\n",
            "2/2 [==============================] - 0s 5ms/step - loss: 12.6834 - mae: 12.6834\n",
            "Epoch 98/100\n",
            "2/2 [==============================] - 0s 5ms/step - loss: 8.6762 - mae: 8.6762\n",
            "Epoch 99/100\n",
            "2/2 [==============================] - 0s 4ms/step - loss: 9.4693 - mae: 9.4693\n",
            "Epoch 100/100\n",
            "2/2 [==============================] - 0s 5ms/step - loss: 8.7067 - mae: 8.7067\n"
          ],
          "name": "stdout"
        },
        {
          "output_type": "execute_result",
          "data": {
            "text/plain": [
              "<tensorflow.python.keras.callbacks.History at 0x7f0a9738f350>"
            ]
          },
          "metadata": {
            "tags": []
          },
          "execution_count": 58
        }
      ]
    },
    {
      "cell_type": "code",
      "metadata": {
        "id": "_oy-_PwNRTmb"
      },
      "source": [
        "y_preds1=model_1.predict(X_test)"
      ],
      "execution_count": 62,
      "outputs": []
    },
    {
      "cell_type": "code",
      "metadata": {
        "colab": {
          "base_uri": "https://localhost:8080/",
          "height": 427
        },
        "id": "JE9vAyd5f4-D",
        "outputId": "f56e7427-f797-43f1-ddc3-4d5645d29803"
      },
      "source": [
        "plot_predictions(predictions=y_preds1)"
      ],
      "execution_count": 63,
      "outputs": [
        {
          "output_type": "display_data",
          "data": {
            "image/png": "[encoded data removed]",
            "text/plain": [
              "<Figure size 720x504 with 1 Axes>"
            ]
          },
          "metadata": {
            "tags": [],
            "needs_background": "light"
          }
        }
      ]
    },
    {
      "cell_type": "code",
      "metadata": {
        "colab": {
          "base_uri": "https://localhost:8080/"
        },
        "id": "svAz8F3_hT97",
        "outputId": "9516861c-05d2-4b49-a116-21570ff1f569"
      },
      "source": [
        "y_preds1,tf.squeeze(y_preds1)"
      ],
      "execution_count": 70,
      "outputs": [
        {
          "output_type": "execute_result",
          "data": {
            "text/plain": [
              "(array([[53.57109 ],\n",
              "        [57.05633 ],\n",
              "        [60.541573],\n",
              "        [64.02681 ],\n",
              "        [67.512054],\n",
              "        [70.99729 ],\n",
              "        [74.48254 ],\n",
              "        [77.96777 ],\n",
              "        [81.45301 ],\n",
              "        [84.938255]], dtype=float32),\n",
              " <tf.Tensor: shape=(10,), dtype=float32, numpy=\n",
              " array([53.57109 , 57.05633 , 60.541573, 64.02681 , 67.512054, 70.99729 ,\n",
              "        74.48254 , 77.96777 , 81.45301 , 84.938255], dtype=float32)>)"
            ]
          },
          "metadata": {
            "tags": []
          },
          "execution_count": 70
        }
      ]
    },
    {
      "cell_type": "code",
      "metadata": {
        "id": "rumFGp99gRi0"
      },
      "source": [
        "mae_1=mae(y_test,y_preds1)\n",
        "mse_1=mse(y_test,y_preds1)"
      ],
      "execution_count": 72,
      "outputs": []
    },
    {
      "cell_type": "code",
      "metadata": {
        "colab": {
          "base_uri": "https://localhost:8080/"
        },
        "id": "iJlzoH9igokz",
        "outputId": "a2da9511-5885-4627-9d78-fbcb79d64823"
      },
      "source": [
        "mae_1,mse_1"
      ],
      "execution_count": 73,
      "outputs": [
        {
          "output_type": "execute_result",
          "data": {
            "text/plain": [
              "(<tf.Tensor: shape=(), dtype=float32, numpy=18.745327>,\n",
              " <tf.Tensor: shape=(), dtype=float32, numpy=353.57336>)"
            ]
          },
          "metadata": {
            "tags": []
          },
          "execution_count": 73
        }
      ]
    },
    {
      "cell_type": "code",
      "metadata": {
        "colab": {
          "base_uri": "https://localhost:8080/"
        },
        "id": "NKJE5CeNgy93",
        "outputId": "1fee3c4a-c5b6-4bde-b23f-d90c8ab5b9c0"
      },
      "source": [
        "y_preds1.shape"
      ],
      "execution_count": 68,
      "outputs": [
        {
          "output_type": "execute_result",
          "data": {
            "text/plain": [
              "(10, 1)"
            ]
          },
          "metadata": {
            "tags": []
          },
          "execution_count": 68
        }
      ]
    },
    {
      "cell_type": "markdown",
      "metadata": {
        "id": "d-2rgdkXg5SJ"
      },
      "source": [
        "**Build `model_2`**\n",
        "**2 layers for 100 epochs**"
      ]
    },
    {
      "cell_type": "code",
      "metadata": {
        "colab": {
          "base_uri": "https://localhost:8080/"
        },
        "id": "dAviebtciWHK",
        "outputId": "9843d66a-6d31-47f0-fecc-bd5e31acaac3"
      },
      "source": [
        "tf.random.set_seed(42)\n",
        "model_2=tf.keras.Sequential([\n",
        "      tf.keras.layers.Dense(10),\n",
        "      tf.keras.layers.Dense(1)\n",
        "])\n",
        "model_2.compile(loss=tf.losses.mae,\n",
        "                optimizer=tf.optimizers.SGD(),\n",
        "                metrics=[\"mae\"])\n",
        "model_2.fit(X_train,y_train,epochs=100)"
      ],
      "execution_count": 76,
      "outputs": [
        {
          "output_type": "stream",
          "text": [
            "Epoch 1/100\n",
            "2/2 [==============================] - 0s 8ms/step - loss: 27.4058 - mae: 27.4058\n",
            "Epoch 2/100\n",
            "2/2 [==============================] - 0s 4ms/step - loss: 24.6339 - mae: 24.6339\n",
            "Epoch 3/100\n",
            "2/2 [==============================] - 0s 4ms/step - loss: 29.8935 - mae: 29.8935\n",
            "Epoch 4/100\n",
            "2/2 [==============================] - 0s 3ms/step - loss: 27.4055 - mae: 27.4055\n",
            "Epoch 5/100\n",
            "2/2 [==============================] - 0s 3ms/step - loss: 14.9463 - mae: 14.9463\n",
            "Epoch 6/100\n",
            "2/2 [==============================] - 0s 3ms/step - loss: 11.8819 - mae: 11.8819\n",
            "Epoch 7/100\n",
            "2/2 [==============================] - 0s 4ms/step - loss: 11.1988 - mae: 11.1988\n",
            "Epoch 8/100\n",
            "2/2 [==============================] - 0s 3ms/step - loss: 11.0910 - mae: 11.0910\n",
            "Epoch 9/100\n",
            "2/2 [==============================] - 0s 4ms/step - loss: 40.4763 - mae: 40.4763\n",
            "Epoch 10/100\n",
            "2/2 [==============================] - 0s 4ms/step - loss: 27.8688 - mae: 27.8688\n",
            "Epoch 11/100\n",
            "2/2 [==============================] - 0s 3ms/step - loss: 10.2473 - mae: 10.2473\n",
            "Epoch 12/100\n",
            "2/2 [==============================] - 0s 4ms/step - loss: 25.2803 - mae: 25.2803\n",
            "Epoch 13/100\n",
            "2/2 [==============================] - 0s 6ms/step - loss: 16.9897 - mae: 16.9897\n",
            "Epoch 14/100\n",
            "2/2 [==============================] - 0s 4ms/step - loss: 25.9217 - mae: 25.9217\n",
            "Epoch 15/100\n",
            "2/2 [==============================] - 0s 4ms/step - loss: 17.9948 - mae: 17.9948\n",
            "Epoch 16/100\n",
            "2/2 [==============================] - 0s 3ms/step - loss: 7.3510 - mae: 7.3510\n",
            "Epoch 17/100\n",
            "2/2 [==============================] - 0s 5ms/step - loss: 10.8636 - mae: 10.8636\n",
            "Epoch 18/100\n",
            "2/2 [==============================] - 0s 3ms/step - loss: 19.5304 - mae: 19.5304\n",
            "Epoch 19/100\n",
            "2/2 [==============================] - 0s 4ms/step - loss: 10.3469 - mae: 10.3469\n",
            "Epoch 20/100\n",
            "2/2 [==============================] - 0s 3ms/step - loss: 17.6985 - mae: 17.6985\n",
            "Epoch 21/100\n",
            "2/2 [==============================] - 0s 7ms/step - loss: 15.8984 - mae: 15.8984\n",
            "Epoch 22/100\n",
            "2/2 [==============================] - 0s 8ms/step - loss: 14.1991 - mae: 14.1991\n",
            "Epoch 23/100\n",
            "2/2 [==============================] - 0s 3ms/step - loss: 8.7720 - mae: 8.7720\n",
            "Epoch 24/100\n",
            "2/2 [==============================] - 0s 4ms/step - loss: 11.0570 - mae: 11.0570\n",
            "Epoch 25/100\n",
            "2/2 [==============================] - 0s 5ms/step - loss: 12.6838 - mae: 12.6838\n",
            "Epoch 26/100\n",
            "2/2 [==============================] - 0s 8ms/step - loss: 26.1877 - mae: 26.1877\n",
            "Epoch 27/100\n",
            "2/2 [==============================] - 0s 8ms/step - loss: 11.7432 - mae: 11.7432\n",
            "Epoch 28/100\n",
            "2/2 [==============================] - 0s 5ms/step - loss: 22.8730 - mae: 22.8730\n",
            "Epoch 29/100\n",
            "2/2 [==============================] - 0s 5ms/step - loss: 9.2459 - mae: 9.2459\n",
            "Epoch 30/100\n",
            "2/2 [==============================] - 0s 6ms/step - loss: 29.2641 - mae: 29.2641\n",
            "Epoch 31/100\n",
            "2/2 [==============================] - 0s 10ms/step - loss: 53.0225 - mae: 53.0225\n",
            "Epoch 32/100\n",
            "2/2 [==============================] - 0s 11ms/step - loss: 11.9951 - mae: 11.9951\n",
            "Epoch 33/100\n",
            "2/2 [==============================] - 0s 12ms/step - loss: 15.6357 - mae: 15.6357\n",
            "Epoch 34/100\n",
            "2/2 [==============================] - 0s 5ms/step - loss: 12.6925 - mae: 12.6925\n",
            "Epoch 35/100\n",
            "2/2 [==============================] - 0s 5ms/step - loss: 9.2398 - mae: 9.2398\n",
            "Epoch 36/100\n",
            "2/2 [==============================] - 0s 6ms/step - loss: 16.6497 - mae: 16.6497\n",
            "Epoch 37/100\n",
            "2/2 [==============================] - 0s 7ms/step - loss: 11.0382 - mae: 11.0382\n",
            "Epoch 38/100\n",
            "2/2 [==============================] - 0s 5ms/step - loss: 18.1634 - mae: 18.1634\n",
            "Epoch 39/100\n",
            "2/2 [==============================] - 0s 6ms/step - loss: 19.1013 - mae: 19.1013\n",
            "Epoch 40/100\n",
            "2/2 [==============================] - 0s 6ms/step - loss: 20.4324 - mae: 20.4324\n",
            "Epoch 41/100\n",
            "2/2 [==============================] - 0s 8ms/step - loss: 14.9102 - mae: 14.9102\n",
            "Epoch 42/100\n",
            "2/2 [==============================] - 0s 11ms/step - loss: 12.2809 - mae: 12.2809\n",
            "Epoch 43/100\n",
            "2/2 [==============================] - 0s 11ms/step - loss: 10.7333 - mae: 10.7333\n",
            "Epoch 44/100\n",
            "2/2 [==============================] - 0s 12ms/step - loss: 23.0260 - mae: 23.0260\n",
            "Epoch 45/100\n",
            "2/2 [==============================] - 0s 5ms/step - loss: 10.3897 - mae: 10.3897\n",
            "Epoch 46/100\n",
            "2/2 [==============================] - 0s 10ms/step - loss: 11.7904 - mae: 11.7904\n",
            "Epoch 47/100\n",
            "2/2 [==============================] - 0s 4ms/step - loss: 9.6438 - mae: 9.6438\n",
            "Epoch 48/100\n",
            "2/2 [==============================] - 0s 6ms/step - loss: 17.2335 - mae: 17.2335\n",
            "Epoch 49/100\n",
            "2/2 [==============================] - 0s 4ms/step - loss: 9.5729 - mae: 9.5729\n",
            "Epoch 50/100\n",
            "2/2 [==============================] - 0s 5ms/step - loss: 13.8185 - mae: 13.8185\n",
            "Epoch 51/100\n",
            "2/2 [==============================] - 0s 9ms/step - loss: 11.5958 - mae: 11.5958\n",
            "Epoch 52/100\n",
            "2/2 [==============================] - 0s 12ms/step - loss: 30.5538 - mae: 30.5538\n",
            "Epoch 53/100\n",
            "2/2 [==============================] - 0s 4ms/step - loss: 14.3541 - mae: 14.3541\n",
            "Epoch 54/100\n",
            "2/2 [==============================] - 0s 5ms/step - loss: 23.9713 - mae: 23.9713\n",
            "Epoch 55/100\n",
            "2/2 [==============================] - 0s 4ms/step - loss: 23.1938 - mae: 23.1938\n",
            "Epoch 56/100\n",
            "2/2 [==============================] - 0s 5ms/step - loss: 10.8837 - mae: 10.8837\n",
            "Epoch 57/100\n",
            "2/2 [==============================] - 0s 4ms/step - loss: 12.7445 - mae: 12.7445\n",
            "Epoch 58/100\n",
            "2/2 [==============================] - 0s 5ms/step - loss: 9.5995 - mae: 9.5995\n",
            "Epoch 59/100\n",
            "2/2 [==============================] - 0s 7ms/step - loss: 12.5172 - mae: 12.5172\n",
            "Epoch 60/100\n",
            "2/2 [==============================] - 0s 4ms/step - loss: 12.3200 - mae: 12.3200\n",
            "Epoch 61/100\n",
            "2/2 [==============================] - 0s 4ms/step - loss: 17.4604 - mae: 17.4604\n",
            "Epoch 62/100\n",
            "2/2 [==============================] - 0s 5ms/step - loss: 10.6052 - mae: 10.6052\n",
            "Epoch 63/100\n",
            "2/2 [==============================] - 0s 7ms/step - loss: 10.4893 - mae: 10.4893\n",
            "Epoch 64/100\n",
            "2/2 [==============================] - 0s 6ms/step - loss: 24.8450 - mae: 24.8450\n",
            "Epoch 65/100\n",
            "2/2 [==============================] - 0s 10ms/step - loss: 10.6761 - mae: 10.6761\n",
            "Epoch 66/100\n",
            "2/2 [==============================] - 0s 10ms/step - loss: 21.7809 - mae: 21.7809\n",
            "Epoch 67/100\n",
            "2/2 [==============================] - 0s 8ms/step - loss: 10.7136 - mae: 10.7136\n",
            "Epoch 68/100\n",
            "2/2 [==============================] - 0s 8ms/step - loss: 10.6397 - mae: 10.6397\n",
            "Epoch 69/100\n",
            "2/2 [==============================] - 0s 6ms/step - loss: 22.6914 - mae: 22.6914\n",
            "Epoch 70/100\n",
            "2/2 [==============================] - 0s 5ms/step - loss: 9.3316 - mae: 9.3316\n",
            "Epoch 71/100\n",
            "2/2 [==============================] - 0s 6ms/step - loss: 15.4355 - mae: 15.4355\n",
            "Epoch 72/100\n",
            "2/2 [==============================] - 0s 8ms/step - loss: 6.7437 - mae: 6.7437\n",
            "Epoch 73/100\n",
            "2/2 [==============================] - 0s 8ms/step - loss: 11.6891 - mae: 11.6891\n",
            "Epoch 74/100\n",
            "2/2 [==============================] - 0s 8ms/step - loss: 24.0400 - mae: 24.0400\n",
            "Epoch 75/100\n",
            "2/2 [==============================] - 0s 8ms/step - loss: 9.5896 - mae: 9.5896\n",
            "Epoch 76/100\n",
            "2/2 [==============================] - 0s 10ms/step - loss: 12.4371 - mae: 12.4371\n",
            "Epoch 77/100\n",
            "2/2 [==============================] - 0s 7ms/step - loss: 16.6489 - mae: 16.6489\n",
            "Epoch 78/100\n",
            "2/2 [==============================] - 0s 5ms/step - loss: 9.0614 - mae: 9.0614\n",
            "Epoch 79/100\n",
            "2/2 [==============================] - 0s 3ms/step - loss: 23.9675 - mae: 23.9675\n",
            "Epoch 80/100\n",
            "2/2 [==============================] - 0s 3ms/step - loss: 26.7463 - mae: 26.7463\n",
            "Epoch 81/100\n",
            "2/2 [==============================] - 0s 4ms/step - loss: 11.6714 - mae: 11.6714\n",
            "Epoch 82/100\n",
            "2/2 [==============================] - 0s 4ms/step - loss: 12.0228 - mae: 12.0228\n",
            "Epoch 83/100\n",
            "2/2 [==============================] - 0s 3ms/step - loss: 17.4218 - mae: 17.4218\n",
            "Epoch 84/100\n",
            "2/2 [==============================] - 0s 4ms/step - loss: 7.2629 - mae: 7.2629\n",
            "Epoch 85/100\n",
            "2/2 [==============================] - 0s 3ms/step - loss: 14.9650 - mae: 14.9650\n",
            "Epoch 86/100\n",
            "2/2 [==============================] - 0s 4ms/step - loss: 15.2862 - mae: 15.2862\n",
            "Epoch 87/100\n",
            "2/2 [==============================] - 0s 4ms/step - loss: 19.1086 - mae: 19.1086\n",
            "Epoch 88/100\n",
            "2/2 [==============================] - 0s 3ms/step - loss: 29.8229 - mae: 29.8229\n",
            "Epoch 89/100\n",
            "2/2 [==============================] - 0s 4ms/step - loss: 10.1742 - mae: 10.1742\n",
            "Epoch 90/100\n",
            "2/2 [==============================] - 0s 4ms/step - loss: 21.5240 - mae: 21.5240\n",
            "Epoch 91/100\n",
            "2/2 [==============================] - 0s 4ms/step - loss: 10.5716 - mae: 10.5716\n",
            "Epoch 92/100\n",
            "2/2 [==============================] - 0s 4ms/step - loss: 18.3977 - mae: 18.3977\n",
            "Epoch 93/100\n",
            "2/2 [==============================] - 0s 3ms/step - loss: 7.4138 - mae: 7.4138\n",
            "Epoch 94/100\n",
            "2/2 [==============================] - 0s 4ms/step - loss: 17.7380 - mae: 17.7380\n",
            "Epoch 95/100\n",
            "2/2 [==============================] - 0s 8ms/step - loss: 11.1144 - mae: 11.1144\n",
            "Epoch 96/100\n",
            "2/2 [==============================] - 0s 4ms/step - loss: 19.4346 - mae: 19.4346\n",
            "Epoch 97/100\n",
            "2/2 [==============================] - 0s 4ms/step - loss: 12.1593 - mae: 12.1593\n",
            "Epoch 98/100\n",
            "2/2 [==============================] - 0s 4ms/step - loss: 11.5653 - mae: 11.5653\n",
            "Epoch 99/100\n",
            "2/2 [==============================] - 0s 4ms/step - loss: 13.8827 - mae: 13.8827\n",
            "Epoch 100/100\n",
            "2/2 [==============================] - 0s 4ms/step - loss: 20.2277 - mae: 20.2277\n"
          ],
          "name": "stdout"
        },
        {
          "output_type": "execute_result",
          "data": {
            "text/plain": [
              "<tensorflow.python.keras.callbacks.History at 0x7f0a98b6c0d0>"
            ]
          },
          "metadata": {
            "tags": []
          },
          "execution_count": 76
        }
      ]
    },
    {
      "cell_type": "code",
      "metadata": {
        "id": "6xwmoh7-ovXU"
      },
      "source": [
        "y_preds2=model_2.predict(X_test)"
      ],
      "execution_count": 83,
      "outputs": []
    },
    {
      "cell_type": "code",
      "metadata": {
        "colab": {
          "base_uri": "https://localhost:8080/",
          "height": 427
        },
        "id": "Llg9I6JvpLkH",
        "outputId": "c0522b78-488d-4c02-be5d-4cf637f33356"
      },
      "source": [
        "plot_predictions(predictions=y_preds2)"
      ],
      "execution_count": 84,
      "outputs": [
        {
          "output_type": "display_data",
          "data": {
            "image/png": "[encoded data removed]",
            "text/plain": [
              "<Figure size 720x504 with 1 Axes>"
            ]
          },
          "metadata": {
            "tags": [],
            "needs_background": "light"
          }
        }
      ]
    },
    {
      "cell_type": "code",
      "metadata": {
        "colab": {
          "base_uri": "https://localhost:8080/"
        },
        "id": "YY2xJtrepQYA",
        "outputId": "1cc87fc9-54e1-4569-8ae2-2ac940fa1d0e"
      },
      "source": [
        "mae2=mae(y_test,y_preds2)\n",
        "mse2=mse(y_test,y_preds2)\n",
        "mae2,mse2"
      ],
      "execution_count": 85,
      "outputs": [
        {
          "output_type": "execute_result",
          "data": {
            "text/plain": [
              "(<tf.Tensor: shape=(), dtype=float32, numpy=3.1969407>,\n",
              " <tf.Tensor: shape=(), dtype=float32, numpy=13.070143>)"
            ]
          },
          "metadata": {
            "tags": []
          },
          "execution_count": 85
        }
      ]
    },
    {
      "cell_type": "markdown",
      "metadata": {
        "id": "79Pb_czVpfZL"
      },
      "source": [
        "**Build `Model_3`**"
      ]
    },
    {
      "cell_type": "code",
      "metadata": {
        "colab": {
          "base_uri": "https://localhost:8080/"
        },
        "id": "J9WzKssgpySK",
        "outputId": "370416af-7243-4be8-fedd-2fd3b3586ca2"
      },
      "source": [
        "model_3=tf.keras.Sequential([\n",
        "      tf.keras.layers.Dense(10),\n",
        "      tf.keras.layers.Dense(1)\n",
        "])\n",
        "model_3.compile(loss=tf.keras.losses.mae,\n",
        "                optimizer=\"adam\",\n",
        "                metrics=[\"mae\"])\n",
        "model_3.fit(X_train,y_train,epochs=500)"
      ],
      "execution_count": 82,
      "outputs": [
        {
          "output_type": "stream",
          "text": [
            "Epoch 1/500\n",
            "2/2 [==============================] - 0s 6ms/step - loss: 49.9523 - mae: 49.9523\n",
            "Epoch 2/500\n",
            "2/2 [==============================] - 0s 6ms/step - loss: 49.4409 - mae: 49.4409\n",
            "Epoch 3/500\n",
            "2/2 [==============================] - 0s 7ms/step - loss: 48.9500 - mae: 48.9500\n",
            "Epoch 4/500\n",
            "2/2 [==============================] - 0s 6ms/step - loss: 48.4474 - mae: 48.4474\n",
            "Epoch 5/500\n",
            "2/2 [==============================] - 0s 5ms/step - loss: 47.9573 - mae: 47.9573\n",
            "Epoch 6/500\n",
            "2/2 [==============================] - 0s 5ms/step - loss: 47.4632 - mae: 47.4632\n",
            "Epoch 7/500\n",
            "2/2 [==============================] - 0s 6ms/step - loss: 46.9650 - mae: 46.9650\n",
            "Epoch 8/500\n",
            "2/2 [==============================] - 0s 8ms/step - loss: 46.4508 - mae: 46.4508\n",
            "Epoch 9/500\n",
            "2/2 [==============================] - 0s 8ms/step - loss: 45.9698 - mae: 45.9698\n",
            "Epoch 10/500\n",
            "2/2 [==============================] - 0s 8ms/step - loss: 45.4890 - mae: 45.4890\n",
            "Epoch 11/500\n",
            "2/2 [==============================] - 0s 7ms/step - loss: 44.9709 - mae: 44.9709\n",
            "Epoch 12/500\n",
            "2/2 [==============================] - 0s 4ms/step - loss: 44.4846 - mae: 44.4846\n",
            "Epoch 13/500\n",
            "2/2 [==============================] - 0s 3ms/step - loss: 43.9727 - mae: 43.9727\n",
            "Epoch 14/500\n",
            "2/2 [==============================] - 0s 5ms/step - loss: 43.4851 - mae: 43.4851\n",
            "Epoch 15/500\n",
            "2/2 [==============================] - 0s 5ms/step - loss: 42.9975 - mae: 42.9975\n",
            "Epoch 16/500\n",
            "2/2 [==============================] - 0s 6ms/step - loss: 42.4886 - mae: 42.4886\n",
            "Epoch 17/500\n",
            "2/2 [==============================] - 0s 4ms/step - loss: 41.9889 - mae: 41.9889\n",
            "Epoch 18/500\n",
            "2/2 [==============================] - 0s 4ms/step - loss: 41.4945 - mae: 41.4945\n",
            "Epoch 19/500\n",
            "2/2 [==============================] - 0s 11ms/step - loss: 41.0087 - mae: 41.0087\n",
            "Epoch 20/500\n",
            "2/2 [==============================] - 0s 11ms/step - loss: 40.5039 - mae: 40.5039\n",
            "Epoch 21/500\n",
            "2/2 [==============================] - 0s 7ms/step - loss: 40.0077 - mae: 40.0077\n",
            "Epoch 22/500\n",
            "2/2 [==============================] - 0s 5ms/step - loss: 39.5299 - mae: 39.5299\n",
            "Epoch 23/500\n",
            "2/2 [==============================] - 0s 7ms/step - loss: 39.0350 - mae: 39.0350\n",
            "Epoch 24/500\n",
            "2/2 [==============================] - 0s 6ms/step - loss: 38.5354 - mae: 38.5354\n",
            "Epoch 25/500\n",
            "2/2 [==============================] - 0s 4ms/step - loss: 38.0405 - mae: 38.0405\n",
            "Epoch 26/500\n",
            "2/2 [==============================] - 0s 5ms/step - loss: 37.5570 - mae: 37.5570\n",
            "Epoch 27/500\n",
            "2/2 [==============================] - 0s 5ms/step - loss: 37.0471 - mae: 37.0471\n",
            "Epoch 28/500\n",
            "2/2 [==============================] - 0s 4ms/step - loss: 36.5596 - mae: 36.5596\n",
            "Epoch 29/500\n",
            "2/2 [==============================] - 0s 5ms/step - loss: 36.0274 - mae: 36.0274\n",
            "Epoch 30/500\n",
            "2/2 [==============================] - 0s 4ms/step - loss: 35.5050 - mae: 35.5050\n",
            "Epoch 31/500\n",
            "2/2 [==============================] - 0s 5ms/step - loss: 35.0169 - mae: 35.0169\n",
            "Epoch 32/500\n",
            "2/2 [==============================] - 0s 6ms/step - loss: 34.4842 - mae: 34.4842\n",
            "Epoch 33/500\n",
            "2/2 [==============================] - 0s 7ms/step - loss: 33.9622 - mae: 33.9622\n",
            "Epoch 34/500\n",
            "2/2 [==============================] - 0s 8ms/step - loss: 33.4633 - mae: 33.4633\n",
            "Epoch 35/500\n",
            "2/2 [==============================] - 0s 5ms/step - loss: 32.9376 - mae: 32.9376\n",
            "Epoch 36/500\n",
            "2/2 [==============================] - 0s 7ms/step - loss: 32.4576 - mae: 32.4576\n",
            "Epoch 37/500\n",
            "2/2 [==============================] - 0s 6ms/step - loss: 31.9423 - mae: 31.9423\n",
            "Epoch 38/500\n",
            "2/2 [==============================] - 0s 3ms/step - loss: 31.4457 - mae: 31.4457\n",
            "Epoch 39/500\n",
            "2/2 [==============================] - 0s 4ms/step - loss: 30.9516 - mae: 30.9516\n",
            "Epoch 40/500\n",
            "2/2 [==============================] - 0s 4ms/step - loss: 30.4535 - mae: 30.4535\n",
            "Epoch 41/500\n",
            "2/2 [==============================] - 0s 4ms/step - loss: 29.9515 - mae: 29.9515\n",
            "Epoch 42/500\n",
            "2/2 [==============================] - 0s 4ms/step - loss: 29.4616 - mae: 29.4616\n",
            "Epoch 43/500\n",
            "2/2 [==============================] - 0s 4ms/step - loss: 28.9300 - mae: 28.9300\n",
            "Epoch 44/500\n",
            "2/2 [==============================] - 0s 4ms/step - loss: 28.4413 - mae: 28.4413\n",
            "Epoch 45/500\n",
            "2/2 [==============================] - 0s 7ms/step - loss: 27.9257 - mae: 27.9257\n",
            "Epoch 46/500\n",
            "2/2 [==============================] - 0s 3ms/step - loss: 27.4318 - mae: 27.4318\n",
            "Epoch 47/500\n",
            "2/2 [==============================] - 0s 4ms/step - loss: 26.9017 - mae: 26.9017\n",
            "Epoch 48/500\n",
            "2/2 [==============================] - 0s 7ms/step - loss: 26.3964 - mae: 26.3964\n",
            "Epoch 49/500\n",
            "2/2 [==============================] - 0s 4ms/step - loss: 25.8882 - mae: 25.8882\n",
            "Epoch 50/500\n",
            "2/2 [==============================] - 0s 4ms/step - loss: 25.3878 - mae: 25.3878\n",
            "Epoch 51/500\n",
            "2/2 [==============================] - 0s 4ms/step - loss: 24.8576 - mae: 24.8576\n",
            "Epoch 52/500\n",
            "2/2 [==============================] - 0s 8ms/step - loss: 24.3644 - mae: 24.3644\n",
            "Epoch 53/500\n",
            "2/2 [==============================] - 0s 4ms/step - loss: 23.8265 - mae: 23.8265\n",
            "Epoch 54/500\n",
            "2/2 [==============================] - 0s 4ms/step - loss: 23.2949 - mae: 23.2949\n",
            "Epoch 55/500\n",
            "2/2 [==============================] - 0s 4ms/step - loss: 22.7719 - mae: 22.7719\n",
            "Epoch 56/500\n",
            "2/2 [==============================] - 0s 8ms/step - loss: 22.2125 - mae: 22.2125\n",
            "Epoch 57/500\n",
            "2/2 [==============================] - 0s 4ms/step - loss: 21.6787 - mae: 21.6787\n",
            "Epoch 58/500\n",
            "2/2 [==============================] - 0s 4ms/step - loss: 21.1283 - mae: 21.1283\n",
            "Epoch 59/500\n",
            "2/2 [==============================] - 0s 6ms/step - loss: 20.5870 - mae: 20.5870\n",
            "Epoch 60/500\n",
            "2/2 [==============================] - 0s 5ms/step - loss: 20.0607 - mae: 20.0607\n",
            "Epoch 61/500\n",
            "2/2 [==============================] - 0s 7ms/step - loss: 19.5367 - mae: 19.5367\n",
            "Epoch 62/500\n",
            "2/2 [==============================] - 0s 4ms/step - loss: 19.0193 - mae: 19.0193\n",
            "Epoch 63/500\n",
            "2/2 [==============================] - 0s 6ms/step - loss: 18.4915 - mae: 18.4915\n",
            "Epoch 64/500\n",
            "2/2 [==============================] - 0s 4ms/step - loss: 17.9582 - mae: 17.9582\n",
            "Epoch 65/500\n",
            "2/2 [==============================] - 0s 5ms/step - loss: 17.4192 - mae: 17.4192\n",
            "Epoch 66/500\n",
            "2/2 [==============================] - 0s 4ms/step - loss: 16.8877 - mae: 16.8877\n",
            "Epoch 67/500\n",
            "2/2 [==============================] - 0s 6ms/step - loss: 16.3648 - mae: 16.3648\n",
            "Epoch 68/500\n",
            "2/2 [==============================] - 0s 7ms/step - loss: 15.8349 - mae: 15.8349\n",
            "Epoch 69/500\n",
            "2/2 [==============================] - 0s 6ms/step - loss: 15.3119 - mae: 15.3119\n",
            "Epoch 70/500\n",
            "2/2 [==============================] - 0s 11ms/step - loss: 14.7835 - mae: 14.7835\n",
            "Epoch 71/500\n",
            "2/2 [==============================] - 0s 12ms/step - loss: 14.2720 - mae: 14.2720\n",
            "Epoch 72/500\n",
            "2/2 [==============================] - 0s 6ms/step - loss: 13.7669 - mae: 13.7669\n",
            "Epoch 73/500\n",
            "2/2 [==============================] - 0s 4ms/step - loss: 13.2322 - mae: 13.2322\n",
            "Epoch 74/500\n",
            "2/2 [==============================] - 0s 4ms/step - loss: 12.7667 - mae: 12.7667\n",
            "Epoch 75/500\n",
            "2/2 [==============================] - 0s 8ms/step - loss: 12.2490 - mae: 12.2490\n",
            "Epoch 76/500\n",
            "2/2 [==============================] - 0s 4ms/step - loss: 11.7541 - mae: 11.7541\n",
            "Epoch 77/500\n",
            "2/2 [==============================] - 0s 4ms/step - loss: 11.2882 - mae: 11.2882\n",
            "Epoch 78/500\n",
            "2/2 [==============================] - 0s 4ms/step - loss: 10.8000 - mae: 10.8000\n",
            "Epoch 79/500\n",
            "2/2 [==============================] - 0s 9ms/step - loss: 10.3492 - mae: 10.3492\n",
            "Epoch 80/500\n",
            "2/2 [==============================] - 0s 4ms/step - loss: 9.9417 - mae: 9.9417\n",
            "Epoch 81/500\n",
            "2/2 [==============================] - 0s 9ms/step - loss: 9.5652 - mae: 9.5652\n",
            "Epoch 82/500\n",
            "2/2 [==============================] - 0s 5ms/step - loss: 9.1654 - mae: 9.1654\n",
            "Epoch 83/500\n",
            "2/2 [==============================] - 0s 7ms/step - loss: 8.8714 - mae: 8.8714\n",
            "Epoch 84/500\n",
            "2/2 [==============================] - 0s 9ms/step - loss: 8.5398 - mae: 8.5398\n",
            "Epoch 85/500\n",
            "2/2 [==============================] - 0s 4ms/step - loss: 8.3052 - mae: 8.3052\n",
            "Epoch 86/500\n",
            "2/2 [==============================] - 0s 9ms/step - loss: 8.0823 - mae: 8.0823\n",
            "Epoch 87/500\n",
            "2/2 [==============================] - 0s 4ms/step - loss: 7.9062 - mae: 7.9062\n",
            "Epoch 88/500\n",
            "2/2 [==============================] - 0s 6ms/step - loss: 7.7990 - mae: 7.7990\n",
            "Epoch 89/500\n",
            "2/2 [==============================] - 0s 6ms/step - loss: 7.7300 - mae: 7.7300\n",
            "Epoch 90/500\n",
            "2/2 [==============================] - 0s 6ms/step - loss: 7.7400 - mae: 7.7400\n",
            "Epoch 91/500\n",
            "2/2 [==============================] - 0s 5ms/step - loss: 7.7462 - mae: 7.7462\n",
            "Epoch 92/500\n",
            "2/2 [==============================] - 0s 4ms/step - loss: 7.8002 - mae: 7.8002\n",
            "Epoch 93/500\n",
            "2/2 [==============================] - 0s 5ms/step - loss: 7.8392 - mae: 7.8392\n",
            "Epoch 94/500\n",
            "2/2 [==============================] - 0s 4ms/step - loss: 7.8405 - mae: 7.8405\n",
            "Epoch 95/500\n",
            "2/2 [==============================] - 0s 9ms/step - loss: 7.8104 - mae: 7.8104\n",
            "Epoch 96/500\n",
            "2/2 [==============================] - 0s 4ms/step - loss: 7.7633 - mae: 7.7633\n",
            "Epoch 97/500\n",
            "2/2 [==============================] - 0s 4ms/step - loss: 7.7095 - mae: 7.7095\n",
            "Epoch 98/500\n",
            "2/2 [==============================] - 0s 10ms/step - loss: 7.6706 - mae: 7.6706\n",
            "Epoch 99/500\n",
            "2/2 [==============================] - 0s 6ms/step - loss: 7.6258 - mae: 7.6258\n",
            "Epoch 100/500\n",
            "2/2 [==============================] - 0s 5ms/step - loss: 7.6051 - mae: 7.6051\n",
            "Epoch 101/500\n",
            "2/2 [==============================] - 0s 8ms/step - loss: 7.5848 - mae: 7.5848\n",
            "Epoch 102/500\n",
            "2/2 [==============================] - 0s 4ms/step - loss: 7.5689 - mae: 7.5689\n",
            "Epoch 103/500\n",
            "2/2 [==============================] - 0s 9ms/step - loss: 7.5601 - mae: 7.5601\n",
            "Epoch 104/500\n",
            "2/2 [==============================] - 0s 12ms/step - loss: 7.5510 - mae: 7.5510\n",
            "Epoch 105/500\n",
            "2/2 [==============================] - 0s 7ms/step - loss: 7.5388 - mae: 7.5388\n",
            "Epoch 106/500\n",
            "2/2 [==============================] - 0s 8ms/step - loss: 7.5272 - mae: 7.5272\n",
            "Epoch 107/500\n",
            "2/2 [==============================] - 0s 6ms/step - loss: 7.5170 - mae: 7.5170\n",
            "Epoch 108/500\n",
            "2/2 [==============================] - 0s 6ms/step - loss: 7.5062 - mae: 7.5062\n",
            "Epoch 109/500\n",
            "2/2 [==============================] - 0s 7ms/step - loss: 7.4950 - mae: 7.4950\n",
            "Epoch 110/500\n",
            "2/2 [==============================] - 0s 5ms/step - loss: 7.4849 - mae: 7.4849\n",
            "Epoch 111/500\n",
            "2/2 [==============================] - 0s 10ms/step - loss: 7.4745 - mae: 7.4745\n",
            "Epoch 112/500\n",
            "2/2 [==============================] - 0s 6ms/step - loss: 7.4636 - mae: 7.4636\n",
            "Epoch 113/500\n",
            "2/2 [==============================] - 0s 8ms/step - loss: 7.4520 - mae: 7.4520\n",
            "Epoch 114/500\n",
            "2/2 [==============================] - 0s 10ms/step - loss: 7.4429 - mae: 7.4429\n",
            "Epoch 115/500\n",
            "2/2 [==============================] - 0s 13ms/step - loss: 7.4321 - mae: 7.4321\n",
            "Epoch 116/500\n",
            "2/2 [==============================] - 0s 5ms/step - loss: 7.4243 - mae: 7.4243\n",
            "Epoch 117/500\n",
            "2/2 [==============================] - 0s 7ms/step - loss: 7.4176 - mae: 7.4176\n",
            "Epoch 118/500\n",
            "2/2 [==============================] - 0s 9ms/step - loss: 7.4086 - mae: 7.4086\n",
            "Epoch 119/500\n",
            "2/2 [==============================] - 0s 5ms/step - loss: 7.3995 - mae: 7.3995\n",
            "Epoch 120/500\n",
            "2/2 [==============================] - 0s 5ms/step - loss: 7.3891 - mae: 7.3891\n",
            "Epoch 121/500\n",
            "2/2 [==============================] - 0s 10ms/step - loss: 7.3779 - mae: 7.3779\n",
            "Epoch 122/500\n",
            "2/2 [==============================] - 0s 12ms/step - loss: 7.3695 - mae: 7.3695\n",
            "Epoch 123/500\n",
            "2/2 [==============================] - 0s 5ms/step - loss: 7.3560 - mae: 7.3560\n",
            "Epoch 124/500\n",
            "2/2 [==============================] - 0s 9ms/step - loss: 7.3467 - mae: 7.3467\n",
            "Epoch 125/500\n",
            "2/2 [==============================] - 0s 11ms/step - loss: 7.3381 - mae: 7.3381\n",
            "Epoch 126/500\n",
            "2/2 [==============================] - 0s 5ms/step - loss: 7.3275 - mae: 7.3275\n",
            "Epoch 127/500\n",
            "2/2 [==============================] - 0s 9ms/step - loss: 7.3198 - mae: 7.3198\n",
            "Epoch 128/500\n",
            "2/2 [==============================] - 0s 11ms/step - loss: 7.3085 - mae: 7.3085\n",
            "Epoch 129/500\n",
            "2/2 [==============================] - 0s 4ms/step - loss: 7.2995 - mae: 7.2995\n",
            "Epoch 130/500\n",
            "2/2 [==============================] - 0s 4ms/step - loss: 7.2967 - mae: 7.2967\n",
            "Epoch 131/500\n",
            "2/2 [==============================] - 0s 4ms/step - loss: 7.2869 - mae: 7.2869\n",
            "Epoch 132/500\n",
            "2/2 [==============================] - 0s 4ms/step - loss: 7.2778 - mae: 7.2778\n",
            "Epoch 133/500\n",
            "2/2 [==============================] - 0s 5ms/step - loss: 7.2696 - mae: 7.2696\n",
            "Epoch 134/500\n",
            "2/2 [==============================] - 0s 4ms/step - loss: 7.2629 - mae: 7.2629\n",
            "Epoch 135/500\n",
            "2/2 [==============================] - 0s 4ms/step - loss: 7.2580 - mae: 7.2580\n",
            "Epoch 136/500\n",
            "2/2 [==============================] - 0s 4ms/step - loss: 7.2448 - mae: 7.2448\n",
            "Epoch 137/500\n",
            "2/2 [==============================] - 0s 4ms/step - loss: 7.2307 - mae: 7.2307\n",
            "Epoch 138/500\n",
            "2/2 [==============================] - 0s 4ms/step - loss: 7.2233 - mae: 7.2233\n",
            "Epoch 139/500\n",
            "2/2 [==============================] - 0s 4ms/step - loss: 7.2112 - mae: 7.2112\n",
            "Epoch 140/500\n",
            "2/2 [==============================] - 0s 4ms/step - loss: 7.2076 - mae: 7.2076\n",
            "Epoch 141/500\n",
            "2/2 [==============================] - 0s 4ms/step - loss: 7.2055 - mae: 7.2055\n",
            "Epoch 142/500\n",
            "2/2 [==============================] - 0s 11ms/step - loss: 7.2019 - mae: 7.2019\n",
            "Epoch 143/500\n",
            "2/2 [==============================] - 0s 7ms/step - loss: 7.1892 - mae: 7.1892\n",
            "Epoch 144/500\n",
            "2/2 [==============================] - 0s 4ms/step - loss: 7.1746 - mae: 7.1746\n",
            "Epoch 145/500\n",
            "2/2 [==============================] - 0s 4ms/step - loss: 7.1647 - mae: 7.1647\n",
            "Epoch 146/500\n",
            "2/2 [==============================] - 0s 5ms/step - loss: 7.1529 - mae: 7.1529\n",
            "Epoch 147/500\n",
            "2/2 [==============================] - 0s 7ms/step - loss: 7.1443 - mae: 7.1443\n",
            "Epoch 148/500\n",
            "2/2 [==============================] - 0s 6ms/step - loss: 7.1394 - mae: 7.1394\n",
            "Epoch 149/500\n",
            "2/2 [==============================] - 0s 10ms/step - loss: 7.1290 - mae: 7.1290\n",
            "Epoch 150/500\n",
            "2/2 [==============================] - 0s 5ms/step - loss: 7.1211 - mae: 7.1211\n",
            "Epoch 151/500\n",
            "2/2 [==============================] - 0s 7ms/step - loss: 7.1129 - mae: 7.1129\n",
            "Epoch 152/500\n",
            "2/2 [==============================] - 0s 11ms/step - loss: 7.1047 - mae: 7.1047\n",
            "Epoch 153/500\n",
            "2/2 [==============================] - 0s 10ms/step - loss: 7.0964 - mae: 7.0964\n",
            "Epoch 154/500\n",
            "2/2 [==============================] - 0s 5ms/step - loss: 7.0887 - mae: 7.0887\n",
            "Epoch 155/500\n",
            "2/2 [==============================] - 0s 4ms/step - loss: 7.0799 - mae: 7.0799\n",
            "Epoch 156/500\n",
            "2/2 [==============================] - 0s 5ms/step - loss: 7.0700 - mae: 7.0700\n",
            "Epoch 157/500\n",
            "2/2 [==============================] - 0s 11ms/step - loss: 7.0645 - mae: 7.0645\n",
            "Epoch 158/500\n",
            "2/2 [==============================] - 0s 12ms/step - loss: 7.0508 - mae: 7.0508\n",
            "Epoch 159/500\n",
            "2/2 [==============================] - 0s 10ms/step - loss: 7.0445 - mae: 7.0445\n",
            "Epoch 160/500\n",
            "2/2 [==============================] - 0s 8ms/step - loss: 7.0339 - mae: 7.0339\n",
            "Epoch 161/500\n",
            "2/2 [==============================] - 0s 6ms/step - loss: 7.0274 - mae: 7.0274\n",
            "Epoch 162/500\n",
            "2/2 [==============================] - 0s 9ms/step - loss: 7.0232 - mae: 7.0232\n",
            "Epoch 163/500\n",
            "2/2 [==============================] - 0s 3ms/step - loss: 7.0155 - mae: 7.0155\n",
            "Epoch 164/500\n",
            "2/2 [==============================] - 0s 9ms/step - loss: 7.0073 - mae: 7.0073\n",
            "Epoch 165/500\n",
            "2/2 [==============================] - 0s 5ms/step - loss: 6.9991 - mae: 6.9991\n",
            "Epoch 166/500\n",
            "2/2 [==============================] - 0s 5ms/step - loss: 6.9891 - mae: 6.9891\n",
            "Epoch 167/500\n",
            "2/2 [==============================] - 0s 7ms/step - loss: 6.9799 - mae: 6.9799\n",
            "Epoch 168/500\n",
            "2/2 [==============================] - 0s 6ms/step - loss: 6.9685 - mae: 6.9685\n",
            "Epoch 169/500\n",
            "2/2 [==============================] - 0s 4ms/step - loss: 6.9606 - mae: 6.9606\n",
            "Epoch 170/500\n",
            "2/2 [==============================] - 0s 11ms/step - loss: 6.9561 - mae: 6.9561\n",
            "Epoch 171/500\n",
            "2/2 [==============================] - 0s 4ms/step - loss: 6.9470 - mae: 6.9470\n",
            "Epoch 172/500\n",
            "2/2 [==============================] - 0s 9ms/step - loss: 6.9392 - mae: 6.9392\n",
            "Epoch 173/500\n",
            "2/2 [==============================] - 0s 4ms/step - loss: 6.9308 - mae: 6.9308\n",
            "Epoch 174/500\n",
            "2/2 [==============================] - 0s 3ms/step - loss: 6.9235 - mae: 6.9235\n",
            "Epoch 175/500\n",
            "2/2 [==============================] - 0s 4ms/step - loss: 6.9156 - mae: 6.9156\n",
            "Epoch 176/500\n",
            "2/2 [==============================] - 0s 7ms/step - loss: 6.9056 - mae: 6.9056\n",
            "Epoch 177/500\n",
            "2/2 [==============================] - 0s 4ms/step - loss: 6.9038 - mae: 6.9038\n",
            "Epoch 178/500\n",
            "2/2 [==============================] - 0s 4ms/step - loss: 6.8940 - mae: 6.8940\n",
            "Epoch 179/500\n",
            "2/2 [==============================] - 0s 4ms/step - loss: 6.8856 - mae: 6.8856\n",
            "Epoch 180/500\n",
            "2/2 [==============================] - 0s 5ms/step - loss: 6.8766 - mae: 6.8766\n",
            "Epoch 181/500\n",
            "2/2 [==============================] - 0s 5ms/step - loss: 6.8694 - mae: 6.8694\n",
            "Epoch 182/500\n",
            "2/2 [==============================] - 0s 4ms/step - loss: 6.8579 - mae: 6.8579\n",
            "Epoch 183/500\n",
            "2/2 [==============================] - 0s 7ms/step - loss: 6.8490 - mae: 6.8490\n",
            "Epoch 184/500\n",
            "2/2 [==============================] - 0s 10ms/step - loss: 6.8399 - mae: 6.8399\n",
            "Epoch 185/500\n",
            "2/2 [==============================] - 0s 6ms/step - loss: 6.8355 - mae: 6.8355\n",
            "Epoch 186/500\n",
            "2/2 [==============================] - 0s 10ms/step - loss: 6.8314 - mae: 6.8314\n",
            "Epoch 187/500\n",
            "2/2 [==============================] - 0s 4ms/step - loss: 6.8313 - mae: 6.8313\n",
            "Epoch 188/500\n",
            "2/2 [==============================] - 0s 9ms/step - loss: 6.8283 - mae: 6.8283\n",
            "Epoch 189/500\n",
            "2/2 [==============================] - 0s 4ms/step - loss: 6.8197 - mae: 6.8197\n",
            "Epoch 190/500\n",
            "2/2 [==============================] - 0s 8ms/step - loss: 6.8078 - mae: 6.8078\n",
            "Epoch 191/500\n",
            "2/2 [==============================] - 0s 4ms/step - loss: 6.7969 - mae: 6.7969\n",
            "Epoch 192/500\n",
            "2/2 [==============================] - 0s 4ms/step - loss: 6.7855 - mae: 6.7855\n",
            "Epoch 193/500\n",
            "2/2 [==============================] - 0s 3ms/step - loss: 6.7769 - mae: 6.7769\n",
            "Epoch 194/500\n",
            "2/2 [==============================] - 0s 3ms/step - loss: 6.7597 - mae: 6.7597\n",
            "Epoch 195/500\n",
            "2/2 [==============================] - 0s 3ms/step - loss: 6.7518 - mae: 6.7518\n",
            "Epoch 196/500\n",
            "2/2 [==============================] - 0s 3ms/step - loss: 6.7512 - mae: 6.7512\n",
            "Epoch 197/500\n",
            "2/2 [==============================] - 0s 5ms/step - loss: 6.7429 - mae: 6.7429\n",
            "Epoch 198/500\n",
            "2/2 [==============================] - 0s 6ms/step - loss: 6.7375 - mae: 6.7375\n",
            "Epoch 199/500\n",
            "2/2 [==============================] - 0s 7ms/step - loss: 6.7301 - mae: 6.7301\n",
            "Epoch 200/500\n",
            "2/2 [==============================] - 0s 4ms/step - loss: 6.7227 - mae: 6.7227\n",
            "Epoch 201/500\n",
            "2/2 [==============================] - 0s 5ms/step - loss: 6.7129 - mae: 6.7129\n",
            "Epoch 202/500\n",
            "2/2 [==============================] - 0s 4ms/step - loss: 6.7014 - mae: 6.7014\n",
            "Epoch 203/500\n",
            "2/2 [==============================] - 0s 12ms/step - loss: 6.6896 - mae: 6.6896\n",
            "Epoch 204/500\n",
            "2/2 [==============================] - 0s 4ms/step - loss: 6.6781 - mae: 6.6781\n",
            "Epoch 205/500\n",
            "2/2 [==============================] - 0s 6ms/step - loss: 6.6816 - mae: 6.6816\n",
            "Epoch 206/500\n",
            "2/2 [==============================] - 0s 6ms/step - loss: 6.6826 - mae: 6.6826\n",
            "Epoch 207/500\n",
            "2/2 [==============================] - 0s 8ms/step - loss: 6.6812 - mae: 6.6812\n",
            "Epoch 208/500\n",
            "2/2 [==============================] - 0s 6ms/step - loss: 6.6739 - mae: 6.6739\n",
            "Epoch 209/500\n",
            "2/2 [==============================] - 0s 5ms/step - loss: 6.6528 - mae: 6.6528\n",
            "Epoch 210/500\n",
            "2/2 [==============================] - 0s 6ms/step - loss: 6.6428 - mae: 6.6428\n",
            "Epoch 211/500\n",
            "2/2 [==============================] - 0s 6ms/step - loss: 6.6370 - mae: 6.6370\n",
            "Epoch 212/500\n",
            "2/2 [==============================] - 0s 4ms/step - loss: 6.6226 - mae: 6.6226\n",
            "Epoch 213/500\n",
            "2/2 [==============================] - 0s 6ms/step - loss: 6.6157 - mae: 6.6157\n",
            "Epoch 214/500\n",
            "2/2 [==============================] - 0s 4ms/step - loss: 6.6069 - mae: 6.6069\n",
            "Epoch 215/500\n",
            "2/2 [==============================] - 0s 6ms/step - loss: 6.5972 - mae: 6.5972\n",
            "Epoch 216/500\n",
            "2/2 [==============================] - 0s 10ms/step - loss: 6.5930 - mae: 6.5930\n",
            "Epoch 217/500\n",
            "2/2 [==============================] - 0s 8ms/step - loss: 6.5848 - mae: 6.5848\n",
            "Epoch 218/500\n",
            "2/2 [==============================] - 0s 9ms/step - loss: 6.5772 - mae: 6.5772\n",
            "Epoch 219/500\n",
            "2/2 [==============================] - 0s 4ms/step - loss: 6.5702 - mae: 6.5702\n",
            "Epoch 220/500\n",
            "2/2 [==============================] - 0s 9ms/step - loss: 6.5629 - mae: 6.5629\n",
            "Epoch 221/500\n",
            "2/2 [==============================] - 0s 4ms/step - loss: 6.5550 - mae: 6.5550\n",
            "Epoch 222/500\n",
            "2/2 [==============================] - 0s 6ms/step - loss: 6.5478 - mae: 6.5478\n",
            "Epoch 223/500\n",
            "2/2 [==============================] - 0s 5ms/step - loss: 6.5415 - mae: 6.5415\n",
            "Epoch 224/500\n",
            "2/2 [==============================] - 0s 8ms/step - loss: 6.5352 - mae: 6.5352\n",
            "Epoch 225/500\n",
            "2/2 [==============================] - 0s 14ms/step - loss: 6.5275 - mae: 6.5275\n",
            "Epoch 226/500\n",
            "2/2 [==============================] - 0s 12ms/step - loss: 6.5178 - mae: 6.5178\n",
            "Epoch 227/500\n",
            "2/2 [==============================] - 0s 4ms/step - loss: 6.5093 - mae: 6.5093\n",
            "Epoch 228/500\n",
            "2/2 [==============================] - 0s 10ms/step - loss: 6.5008 - mae: 6.5008\n",
            "Epoch 229/500\n",
            "2/2 [==============================] - 0s 6ms/step - loss: 6.4905 - mae: 6.4905\n",
            "Epoch 230/500\n",
            "2/2 [==============================] - 0s 7ms/step - loss: 6.4883 - mae: 6.4883\n",
            "Epoch 231/500\n",
            "2/2 [==============================] - 0s 5ms/step - loss: 6.4764 - mae: 6.4764\n",
            "Epoch 232/500\n",
            "2/2 [==============================] - 0s 5ms/step - loss: 6.4706 - mae: 6.4706\n",
            "Epoch 233/500\n",
            "2/2 [==============================] - 0s 4ms/step - loss: 6.4650 - mae: 6.4650\n",
            "Epoch 234/500\n",
            "2/2 [==============================] - 0s 11ms/step - loss: 6.4584 - mae: 6.4584\n",
            "Epoch 235/500\n",
            "2/2 [==============================] - 0s 4ms/step - loss: 6.4486 - mae: 6.4486\n",
            "Epoch 236/500\n",
            "2/2 [==============================] - 0s 6ms/step - loss: 6.4360 - mae: 6.4360\n",
            "Epoch 237/500\n",
            "2/2 [==============================] - 0s 6ms/step - loss: 6.4299 - mae: 6.4299\n",
            "Epoch 238/500\n",
            "2/2 [==============================] - 0s 6ms/step - loss: 6.4234 - mae: 6.4234\n",
            "Epoch 239/500\n",
            "2/2 [==============================] - 0s 4ms/step - loss: 6.4217 - mae: 6.4217\n",
            "Epoch 240/500\n",
            "2/2 [==============================] - 0s 7ms/step - loss: 6.4158 - mae: 6.4158\n",
            "Epoch 241/500\n",
            "2/2 [==============================] - 0s 6ms/step - loss: 6.4084 - mae: 6.4084\n",
            "Epoch 242/500\n",
            "2/2 [==============================] - 0s 5ms/step - loss: 6.3965 - mae: 6.3965\n",
            "Epoch 243/500\n",
            "2/2 [==============================] - 0s 6ms/step - loss: 6.3860 - mae: 6.3860\n",
            "Epoch 244/500\n",
            "2/2 [==============================] - 0s 10ms/step - loss: 6.3809 - mae: 6.3809\n",
            "Epoch 245/500\n",
            "2/2 [==============================] - 0s 5ms/step - loss: 6.3683 - mae: 6.3683\n",
            "Epoch 246/500\n",
            "2/2 [==============================] - 0s 5ms/step - loss: 6.3632 - mae: 6.3632\n",
            "Epoch 247/500\n",
            "2/2 [==============================] - 0s 6ms/step - loss: 6.3514 - mae: 6.3514\n",
            "Epoch 248/500\n",
            "2/2 [==============================] - 0s 12ms/step - loss: 6.3431 - mae: 6.3431\n",
            "Epoch 249/500\n",
            "2/2 [==============================] - 0s 4ms/step - loss: 6.3348 - mae: 6.3348\n",
            "Epoch 250/500\n",
            "2/2 [==============================] - 0s 4ms/step - loss: 6.3399 - mae: 6.3399\n",
            "Epoch 251/500\n",
            "2/2 [==============================] - 0s 11ms/step - loss: 6.3580 - mae: 6.3580\n",
            "Epoch 252/500\n",
            "2/2 [==============================] - 0s 5ms/step - loss: 6.3489 - mae: 6.3489\n",
            "Epoch 253/500\n",
            "2/2 [==============================] - 0s 6ms/step - loss: 6.3360 - mae: 6.3360\n",
            "Epoch 254/500\n",
            "2/2 [==============================] - 0s 6ms/step - loss: 6.3274 - mae: 6.3274\n",
            "Epoch 255/500\n",
            "2/2 [==============================] - 0s 6ms/step - loss: 6.3076 - mae: 6.3076\n",
            "Epoch 256/500\n",
            "2/2 [==============================] - 0s 7ms/step - loss: 6.2895 - mae: 6.2895\n",
            "Epoch 257/500\n",
            "2/2 [==============================] - 0s 5ms/step - loss: 6.2803 - mae: 6.2803\n",
            "Epoch 258/500\n",
            "2/2 [==============================] - 0s 4ms/step - loss: 6.2715 - mae: 6.2715\n",
            "Epoch 259/500\n",
            "2/2 [==============================] - 0s 4ms/step - loss: 6.2628 - mae: 6.2628\n",
            "Epoch 260/500\n",
            "2/2 [==============================] - 0s 7ms/step - loss: 6.2571 - mae: 6.2571\n",
            "Epoch 261/500\n",
            "2/2 [==============================] - 0s 4ms/step - loss: 6.2450 - mae: 6.2450\n",
            "Epoch 262/500\n",
            "2/2 [==============================] - 0s 7ms/step - loss: 6.2386 - mae: 6.2386\n",
            "Epoch 263/500\n",
            "2/2 [==============================] - 0s 6ms/step - loss: 6.2334 - mae: 6.2334\n",
            "Epoch 264/500\n",
            "2/2 [==============================] - 0s 4ms/step - loss: 6.2242 - mae: 6.2242\n",
            "Epoch 265/500\n",
            "2/2 [==============================] - 0s 7ms/step - loss: 6.2145 - mae: 6.2145\n",
            "Epoch 266/500\n",
            "2/2 [==============================] - 0s 4ms/step - loss: 6.2078 - mae: 6.2078\n",
            "Epoch 267/500\n",
            "2/2 [==============================] - 0s 7ms/step - loss: 6.1997 - mae: 6.1997\n",
            "Epoch 268/500\n",
            "2/2 [==============================] - 0s 6ms/step - loss: 6.1919 - mae: 6.1919\n",
            "Epoch 269/500\n",
            "2/2 [==============================] - 0s 6ms/step - loss: 6.1832 - mae: 6.1832\n",
            "Epoch 270/500\n",
            "2/2 [==============================] - 0s 12ms/step - loss: 6.1787 - mae: 6.1787\n",
            "Epoch 271/500\n",
            "2/2 [==============================] - 0s 5ms/step - loss: 6.1688 - mae: 6.1688\n",
            "Epoch 272/500\n",
            "2/2 [==============================] - 0s 5ms/step - loss: 6.1587 - mae: 6.1587\n",
            "Epoch 273/500\n",
            "2/2 [==============================] - 0s 5ms/step - loss: 6.1510 - mae: 6.1510\n",
            "Epoch 274/500\n",
            "2/2 [==============================] - 0s 12ms/step - loss: 6.1577 - mae: 6.1577\n",
            "Epoch 275/500\n",
            "2/2 [==============================] - 0s 4ms/step - loss: 6.1441 - mae: 6.1441\n",
            "Epoch 276/500\n",
            "2/2 [==============================] - 0s 8ms/step - loss: 6.1370 - mae: 6.1370\n",
            "Epoch 277/500\n",
            "2/2 [==============================] - 0s 5ms/step - loss: 6.1221 - mae: 6.1221\n",
            "Epoch 278/500\n",
            "2/2 [==============================] - 0s 6ms/step - loss: 6.1122 - mae: 6.1122\n",
            "Epoch 279/500\n",
            "2/2 [==============================] - 0s 6ms/step - loss: 6.1052 - mae: 6.1052\n",
            "Epoch 280/500\n",
            "2/2 [==============================] - 0s 7ms/step - loss: 6.0996 - mae: 6.0996\n",
            "Epoch 281/500\n",
            "2/2 [==============================] - 0s 3ms/step - loss: 6.0928 - mae: 6.0928\n",
            "Epoch 282/500\n",
            "2/2 [==============================] - 0s 16ms/step - loss: 6.0862 - mae: 6.0862\n",
            "Epoch 283/500\n",
            "2/2 [==============================] - 0s 4ms/step - loss: 6.0789 - mae: 6.0789\n",
            "Epoch 284/500\n",
            "2/2 [==============================] - 0s 5ms/step - loss: 6.0716 - mae: 6.0716\n",
            "Epoch 285/500\n",
            "2/2 [==============================] - 0s 5ms/step - loss: 6.0661 - mae: 6.0661\n",
            "Epoch 286/500\n",
            "2/2 [==============================] - 0s 5ms/step - loss: 6.0550 - mae: 6.0550\n",
            "Epoch 287/500\n",
            "2/2 [==============================] - 0s 4ms/step - loss: 6.0510 - mae: 6.0510\n",
            "Epoch 288/500\n",
            "2/2 [==============================] - 0s 5ms/step - loss: 6.0481 - mae: 6.0481\n",
            "Epoch 289/500\n",
            "2/2 [==============================] - 0s 4ms/step - loss: 6.0437 - mae: 6.0437\n",
            "Epoch 290/500\n",
            "2/2 [==============================] - 0s 5ms/step - loss: 6.0401 - mae: 6.0401\n",
            "Epoch 291/500\n",
            "2/2 [==============================] - 0s 4ms/step - loss: 6.0312 - mae: 6.0312\n",
            "Epoch 292/500\n",
            "2/2 [==============================] - 0s 4ms/step - loss: 6.0283 - mae: 6.0283\n",
            "Epoch 293/500\n",
            "2/2 [==============================] - 0s 4ms/step - loss: 6.0228 - mae: 6.0228\n",
            "Epoch 294/500\n",
            "2/2 [==============================] - 0s 4ms/step - loss: 6.0156 - mae: 6.0156\n",
            "Epoch 295/500\n",
            "2/2 [==============================] - 0s 5ms/step - loss: 6.0056 - mae: 6.0056\n",
            "Epoch 296/500\n",
            "2/2 [==============================] - 0s 4ms/step - loss: 5.9976 - mae: 5.9976\n",
            "Epoch 297/500\n",
            "2/2 [==============================] - 0s 4ms/step - loss: 5.9935 - mae: 5.9935\n",
            "Epoch 298/500\n",
            "2/2 [==============================] - 0s 4ms/step - loss: 5.9862 - mae: 5.9862\n",
            "Epoch 299/500\n",
            "2/2 [==============================] - 0s 5ms/step - loss: 5.9757 - mae: 5.9757\n",
            "Epoch 300/500\n",
            "2/2 [==============================] - 0s 4ms/step - loss: 5.9657 - mae: 5.9657\n",
            "Epoch 301/500\n",
            "2/2 [==============================] - 0s 4ms/step - loss: 5.9594 - mae: 5.9594\n",
            "Epoch 302/500\n",
            "2/2 [==============================] - 0s 5ms/step - loss: 5.9515 - mae: 5.9515\n",
            "Epoch 303/500\n",
            "2/2 [==============================] - 0s 4ms/step - loss: 5.9378 - mae: 5.9378\n",
            "Epoch 304/500\n",
            "2/2 [==============================] - 0s 4ms/step - loss: 5.9209 - mae: 5.9209\n",
            "Epoch 305/500\n",
            "2/2 [==============================] - 0s 4ms/step - loss: 5.9054 - mae: 5.9054\n",
            "Epoch 306/500\n",
            "2/2 [==============================] - 0s 4ms/step - loss: 5.9015 - mae: 5.9015\n",
            "Epoch 307/500\n",
            "2/2 [==============================] - 0s 4ms/step - loss: 5.8956 - mae: 5.8956\n",
            "Epoch 308/500\n",
            "2/2 [==============================] - 0s 4ms/step - loss: 5.8971 - mae: 5.8971\n",
            "Epoch 309/500\n",
            "2/2 [==============================] - 0s 4ms/step - loss: 5.8933 - mae: 5.8933\n",
            "Epoch 310/500\n",
            "2/2 [==============================] - 0s 3ms/step - loss: 5.8803 - mae: 5.8803\n",
            "Epoch 311/500\n",
            "2/2 [==============================] - 0s 7ms/step - loss: 5.8645 - mae: 5.8645\n",
            "Epoch 312/500\n",
            "2/2 [==============================] - 0s 4ms/step - loss: 5.8513 - mae: 5.8513\n",
            "Epoch 313/500\n",
            "2/2 [==============================] - 0s 4ms/step - loss: 5.8445 - mae: 5.8445\n",
            "Epoch 314/500\n",
            "2/2 [==============================] - 0s 4ms/step - loss: 5.8387 - mae: 5.8387\n",
            "Epoch 315/500\n",
            "2/2 [==============================] - 0s 4ms/step - loss: 5.8297 - mae: 5.8297\n",
            "Epoch 316/500\n",
            "2/2 [==============================] - 0s 4ms/step - loss: 5.8221 - mae: 5.8221\n",
            "Epoch 317/500\n",
            "2/2 [==============================] - 0s 4ms/step - loss: 5.8137 - mae: 5.8137\n",
            "Epoch 318/500\n",
            "2/2 [==============================] - 0s 6ms/step - loss: 5.8099 - mae: 5.8099\n",
            "Epoch 319/500\n",
            "2/2 [==============================] - 0s 4ms/step - loss: 5.7944 - mae: 5.7944\n",
            "Epoch 320/500\n",
            "2/2 [==============================] - 0s 4ms/step - loss: 5.7873 - mae: 5.7873\n",
            "Epoch 321/500\n",
            "2/2 [==============================] - 0s 4ms/step - loss: 5.7805 - mae: 5.7805\n",
            "Epoch 322/500\n",
            "2/2 [==============================] - 0s 4ms/step - loss: 5.7746 - mae: 5.7746\n",
            "Epoch 323/500\n",
            "2/2 [==============================] - 0s 4ms/step - loss: 5.7646 - mae: 5.7646\n",
            "Epoch 324/500\n",
            "2/2 [==============================] - 0s 4ms/step - loss: 5.7540 - mae: 5.7540\n",
            "Epoch 325/500\n",
            "2/2 [==============================] - 0s 4ms/step - loss: 5.7509 - mae: 5.7509\n",
            "Epoch 326/500\n",
            "2/2 [==============================] - 0s 4ms/step - loss: 5.7422 - mae: 5.7422\n",
            "Epoch 327/500\n",
            "2/2 [==============================] - 0s 4ms/step - loss: 5.7399 - mae: 5.7399\n",
            "Epoch 328/500\n",
            "2/2 [==============================] - 0s 4ms/step - loss: 5.7311 - mae: 5.7311\n",
            "Epoch 329/500\n",
            "2/2 [==============================] - 0s 7ms/step - loss: 5.7194 - mae: 5.7194\n",
            "Epoch 330/500\n",
            "2/2 [==============================] - 0s 4ms/step - loss: 5.7078 - mae: 5.7078\n",
            "Epoch 331/500\n",
            "2/2 [==============================] - 0s 5ms/step - loss: 5.7019 - mae: 5.7019\n",
            "Epoch 332/500\n",
            "2/2 [==============================] - 0s 16ms/step - loss: 5.6889 - mae: 5.6889\n",
            "Epoch 333/500\n",
            "2/2 [==============================] - 0s 4ms/step - loss: 5.6804 - mae: 5.6804\n",
            "Epoch 334/500\n",
            "2/2 [==============================] - 0s 3ms/step - loss: 5.6761 - mae: 5.6761\n",
            "Epoch 335/500\n",
            "2/2 [==============================] - 0s 4ms/step - loss: 5.6669 - mae: 5.6669\n",
            "Epoch 336/500\n",
            "2/2 [==============================] - 0s 4ms/step - loss: 5.6571 - mae: 5.6571\n",
            "Epoch 337/500\n",
            "2/2 [==============================] - 0s 13ms/step - loss: 5.6459 - mae: 5.6459\n",
            "Epoch 338/500\n",
            "2/2 [==============================] - 0s 3ms/step - loss: 5.6410 - mae: 5.6410\n",
            "Epoch 339/500\n",
            "2/2 [==============================] - 0s 4ms/step - loss: 5.6380 - mae: 5.6380\n",
            "Epoch 340/500\n",
            "2/2 [==============================] - 0s 3ms/step - loss: 5.6321 - mae: 5.6321\n",
            "Epoch 341/500\n",
            "2/2 [==============================] - 0s 4ms/step - loss: 5.6251 - mae: 5.6251\n",
            "Epoch 342/500\n",
            "2/2 [==============================] - 0s 5ms/step - loss: 5.6178 - mae: 5.6178\n",
            "Epoch 343/500\n",
            "2/2 [==============================] - 0s 4ms/step - loss: 5.6109 - mae: 5.6109\n",
            "Epoch 344/500\n",
            "2/2 [==============================] - 0s 4ms/step - loss: 5.6011 - mae: 5.6011\n",
            "Epoch 345/500\n",
            "2/2 [==============================] - 0s 4ms/step - loss: 5.5874 - mae: 5.5874\n",
            "Epoch 346/500\n",
            "2/2 [==============================] - 0s 3ms/step - loss: 5.5804 - mae: 5.5804\n",
            "Epoch 347/500\n",
            "2/2 [==============================] - 0s 4ms/step - loss: 5.5679 - mae: 5.5679\n",
            "Epoch 348/500\n",
            "2/2 [==============================] - 0s 5ms/step - loss: 5.5582 - mae: 5.5582\n",
            "Epoch 349/500\n",
            "2/2 [==============================] - 0s 9ms/step - loss: 5.5483 - mae: 5.5483\n",
            "Epoch 350/500\n",
            "2/2 [==============================] - 0s 5ms/step - loss: 5.5432 - mae: 5.5432\n",
            "Epoch 351/500\n",
            "2/2 [==============================] - 0s 5ms/step - loss: 5.5342 - mae: 5.5342\n",
            "Epoch 352/500\n",
            "2/2 [==============================] - 0s 3ms/step - loss: 5.5247 - mae: 5.5247\n",
            "Epoch 353/500\n",
            "2/2 [==============================] - 0s 4ms/step - loss: 5.5157 - mae: 5.5157\n",
            "Epoch 354/500\n",
            "2/2 [==============================] - 0s 4ms/step - loss: 5.5082 - mae: 5.5082\n",
            "Epoch 355/500\n",
            "2/2 [==============================] - 0s 4ms/step - loss: 5.4988 - mae: 5.4988\n",
            "Epoch 356/500\n",
            "2/2 [==============================] - 0s 4ms/step - loss: 5.4896 - mae: 5.4896\n",
            "Epoch 357/500\n",
            "2/2 [==============================] - 0s 5ms/step - loss: 5.4864 - mae: 5.4864\n",
            "Epoch 358/500\n",
            "2/2 [==============================] - 0s 4ms/step - loss: 5.4755 - mae: 5.4755\n",
            "Epoch 359/500\n",
            "2/2 [==============================] - 0s 6ms/step - loss: 5.4675 - mae: 5.4675\n",
            "Epoch 360/500\n",
            "2/2 [==============================] - 0s 4ms/step - loss: 5.4583 - mae: 5.4583\n",
            "Epoch 361/500\n",
            "2/2 [==============================] - 0s 4ms/step - loss: 5.4486 - mae: 5.4486\n",
            "Epoch 362/500\n",
            "2/2 [==============================] - 0s 4ms/step - loss: 5.4427 - mae: 5.4427\n",
            "Epoch 363/500\n",
            "2/2 [==============================] - 0s 5ms/step - loss: 5.4404 - mae: 5.4404\n",
            "Epoch 364/500\n",
            "2/2 [==============================] - 0s 4ms/step - loss: 5.4351 - mae: 5.4351\n",
            "Epoch 365/500\n",
            "2/2 [==============================] - 0s 6ms/step - loss: 5.4332 - mae: 5.4332\n",
            "Epoch 366/500\n",
            "2/2 [==============================] - 0s 10ms/step - loss: 5.4282 - mae: 5.4282\n",
            "Epoch 367/500\n",
            "2/2 [==============================] - 0s 4ms/step - loss: 5.4134 - mae: 5.4134\n",
            "Epoch 368/500\n",
            "2/2 [==============================] - 0s 5ms/step - loss: 5.4043 - mae: 5.4043\n",
            "Epoch 369/500\n",
            "2/2 [==============================] - 0s 4ms/step - loss: 5.3822 - mae: 5.3822\n",
            "Epoch 370/500\n",
            "2/2 [==============================] - 0s 3ms/step - loss: 5.3798 - mae: 5.3798\n",
            "Epoch 371/500\n",
            "2/2 [==============================] - 0s 5ms/step - loss: 5.3781 - mae: 5.3781\n",
            "Epoch 372/500\n",
            "2/2 [==============================] - 0s 3ms/step - loss: 5.3709 - mae: 5.3709\n",
            "Epoch 373/500\n",
            "2/2 [==============================] - 0s 4ms/step - loss: 5.3627 - mae: 5.3627\n",
            "Epoch 374/500\n",
            "2/2 [==============================] - 0s 4ms/step - loss: 5.3467 - mae: 5.3467\n",
            "Epoch 375/500\n",
            "2/2 [==============================] - 0s 5ms/step - loss: 5.3381 - mae: 5.3381\n",
            "Epoch 376/500\n",
            "2/2 [==============================] - 0s 4ms/step - loss: 5.3296 - mae: 5.3296\n",
            "Epoch 377/500\n",
            "2/2 [==============================] - 0s 4ms/step - loss: 5.3218 - mae: 5.3218\n",
            "Epoch 378/500\n",
            "2/2 [==============================] - 0s 10ms/step - loss: 5.3119 - mae: 5.3119\n",
            "Epoch 379/500\n",
            "2/2 [==============================] - 0s 5ms/step - loss: 5.3009 - mae: 5.3009\n",
            "Epoch 380/500\n",
            "2/2 [==============================] - 0s 5ms/step - loss: 5.2855 - mae: 5.2855\n",
            "Epoch 381/500\n",
            "2/2 [==============================] - 0s 29ms/step - loss: 5.2838 - mae: 5.2838\n",
            "Epoch 382/500\n",
            "2/2 [==============================] - 0s 7ms/step - loss: 5.2900 - mae: 5.2900\n",
            "Epoch 383/500\n",
            "2/2 [==============================] - 0s 9ms/step - loss: 5.2808 - mae: 5.2808\n",
            "Epoch 384/500\n",
            "2/2 [==============================] - 0s 6ms/step - loss: 5.2662 - mae: 5.2662\n",
            "Epoch 385/500\n",
            "2/2 [==============================] - 0s 4ms/step - loss: 5.2520 - mae: 5.2520\n",
            "Epoch 386/500\n",
            "2/2 [==============================] - 0s 10ms/step - loss: 5.2363 - mae: 5.2363\n",
            "Epoch 387/500\n",
            "2/2 [==============================] - 0s 6ms/step - loss: 5.2308 - mae: 5.2308\n",
            "Epoch 388/500\n",
            "2/2 [==============================] - 0s 7ms/step - loss: 5.2309 - mae: 5.2309\n",
            "Epoch 389/500\n",
            "2/2 [==============================] - 0s 4ms/step - loss: 5.2315 - mae: 5.2315\n",
            "Epoch 390/500\n",
            "2/2 [==============================] - 0s 11ms/step - loss: 5.2261 - mae: 5.2261\n",
            "Epoch 391/500\n",
            "2/2 [==============================] - 0s 10ms/step - loss: 5.2510 - mae: 5.2510\n",
            "Epoch 392/500\n",
            "2/2 [==============================] - 0s 11ms/step - loss: 5.2549 - mae: 5.2549\n",
            "Epoch 393/500\n",
            "2/2 [==============================] - 0s 18ms/step - loss: 5.2396 - mae: 5.2396\n",
            "Epoch 394/500\n",
            "2/2 [==============================] - 0s 7ms/step - loss: 5.2180 - mae: 5.2180\n",
            "Epoch 395/500\n",
            "2/2 [==============================] - 0s 4ms/step - loss: 5.1765 - mae: 5.1765\n",
            "Epoch 396/500\n",
            "2/2 [==============================] - 0s 14ms/step - loss: 5.1491 - mae: 5.1491\n",
            "Epoch 397/500\n",
            "2/2 [==============================] - 0s 12ms/step - loss: 5.1474 - mae: 5.1474\n",
            "Epoch 398/500\n",
            "2/2 [==============================] - 0s 12ms/step - loss: 5.1447 - mae: 5.1447\n",
            "Epoch 399/500\n",
            "2/2 [==============================] - 0s 11ms/step - loss: 5.1521 - mae: 5.1521\n",
            "Epoch 400/500\n",
            "2/2 [==============================] - 0s 8ms/step - loss: 5.1465 - mae: 5.1465\n",
            "Epoch 401/500\n",
            "2/2 [==============================] - 0s 15ms/step - loss: 5.1251 - mae: 5.1251\n",
            "Epoch 402/500\n",
            "2/2 [==============================] - 0s 7ms/step - loss: 5.1157 - mae: 5.1157\n",
            "Epoch 403/500\n",
            "2/2 [==============================] - 0s 5ms/step - loss: 5.0875 - mae: 5.0875\n",
            "Epoch 404/500\n",
            "2/2 [==============================] - 0s 8ms/step - loss: 5.1028 - mae: 5.1028\n",
            "Epoch 405/500\n",
            "2/2 [==============================] - 0s 8ms/step - loss: 5.1036 - mae: 5.1036\n",
            "Epoch 406/500\n",
            "2/2 [==============================] - 0s 7ms/step - loss: 5.0993 - mae: 5.0993\n",
            "Epoch 407/500\n",
            "2/2 [==============================] - 0s 3ms/step - loss: 5.0824 - mae: 5.0824\n",
            "Epoch 408/500\n",
            "2/2 [==============================] - 0s 4ms/step - loss: 5.0768 - mae: 5.0768\n",
            "Epoch 409/500\n",
            "2/2 [==============================] - 0s 9ms/step - loss: 5.0572 - mae: 5.0572\n",
            "Epoch 410/500\n",
            "2/2 [==============================] - 0s 3ms/step - loss: 5.0462 - mae: 5.0462\n",
            "Epoch 411/500\n",
            "2/2 [==============================] - 0s 5ms/step - loss: 5.0439 - mae: 5.0439\n",
            "Epoch 412/500\n",
            "2/2 [==============================] - 0s 3ms/step - loss: 5.0505 - mae: 5.0505\n",
            "Epoch 413/500\n",
            "2/2 [==============================] - 0s 7ms/step - loss: 5.0517 - mae: 5.0517\n",
            "Epoch 414/500\n",
            "2/2 [==============================] - 0s 3ms/step - loss: 5.0442 - mae: 5.0442\n",
            "Epoch 415/500\n",
            "2/2 [==============================] - 0s 6ms/step - loss: 5.0260 - mae: 5.0260\n",
            "Epoch 416/500\n",
            "2/2 [==============================] - 0s 10ms/step - loss: 4.9927 - mae: 4.9927\n",
            "Epoch 417/500\n",
            "2/2 [==============================] - 0s 4ms/step - loss: 4.9751 - mae: 4.9751\n",
            "Epoch 418/500\n",
            "2/2 [==============================] - 0s 4ms/step - loss: 4.9759 - mae: 4.9759\n",
            "Epoch 419/500\n",
            "2/2 [==============================] - 0s 5ms/step - loss: 4.9784 - mae: 4.9784\n",
            "Epoch 420/500\n",
            "2/2 [==============================] - 0s 7ms/step - loss: 4.9789 - mae: 4.9789\n",
            "Epoch 421/500\n",
            "2/2 [==============================] - 0s 8ms/step - loss: 4.9726 - mae: 4.9726\n",
            "Epoch 422/500\n",
            "2/2 [==============================] - 0s 4ms/step - loss: 4.9579 - mae: 4.9579\n",
            "Epoch 423/500\n",
            "2/2 [==============================] - 0s 5ms/step - loss: 4.9458 - mae: 4.9458\n",
            "Epoch 424/500\n",
            "2/2 [==============================] - 0s 4ms/step - loss: 4.9331 - mae: 4.9331\n",
            "Epoch 425/500\n",
            "2/2 [==============================] - 0s 5ms/step - loss: 4.9113 - mae: 4.9113\n",
            "Epoch 426/500\n",
            "2/2 [==============================] - 0s 5ms/step - loss: 4.9026 - mae: 4.9026\n",
            "Epoch 427/500\n",
            "2/2 [==============================] - 0s 4ms/step - loss: 4.8797 - mae: 4.8797\n",
            "Epoch 428/500\n",
            "2/2 [==============================] - 0s 9ms/step - loss: 4.8800 - mae: 4.8800\n",
            "Epoch 429/500\n",
            "2/2 [==============================] - 0s 4ms/step - loss: 4.8727 - mae: 4.8727\n",
            "Epoch 430/500\n",
            "2/2 [==============================] - 0s 9ms/step - loss: 4.8578 - mae: 4.8578\n",
            "Epoch 431/500\n",
            "2/2 [==============================] - 0s 3ms/step - loss: 4.8560 - mae: 4.8560\n",
            "Epoch 432/500\n",
            "2/2 [==============================] - 0s 7ms/step - loss: 4.8421 - mae: 4.8421\n",
            "Epoch 433/500\n",
            "2/2 [==============================] - 0s 4ms/step - loss: 4.8307 - mae: 4.8307\n",
            "Epoch 434/500\n",
            "2/2 [==============================] - 0s 3ms/step - loss: 4.8222 - mae: 4.8222\n",
            "Epoch 435/500\n",
            "2/2 [==============================] - 0s 8ms/step - loss: 4.8109 - mae: 4.8109\n",
            "Epoch 436/500\n",
            "2/2 [==============================] - 0s 11ms/step - loss: 4.7994 - mae: 4.7994\n",
            "Epoch 437/500\n",
            "2/2 [==============================] - 0s 12ms/step - loss: 4.7903 - mae: 4.7903\n",
            "Epoch 438/500\n",
            "2/2 [==============================] - 0s 17ms/step - loss: 4.7876 - mae: 4.7876\n",
            "Epoch 439/500\n",
            "2/2 [==============================] - 0s 18ms/step - loss: 4.7856 - mae: 4.7856\n",
            "Epoch 440/500\n",
            "2/2 [==============================] - 0s 5ms/step - loss: 4.7794 - mae: 4.7794\n",
            "Epoch 441/500\n",
            "2/2 [==============================] - 0s 10ms/step - loss: 4.7706 - mae: 4.7706\n",
            "Epoch 442/500\n",
            "2/2 [==============================] - 0s 5ms/step - loss: 4.7621 - mae: 4.7621\n",
            "Epoch 443/500\n",
            "2/2 [==============================] - 0s 9ms/step - loss: 4.7534 - mae: 4.7534\n",
            "Epoch 444/500\n",
            "2/2 [==============================] - 0s 5ms/step - loss: 4.7359 - mae: 4.7359\n",
            "Epoch 445/500\n",
            "2/2 [==============================] - 0s 7ms/step - loss: 4.7298 - mae: 4.7298\n",
            "Epoch 446/500\n",
            "2/2 [==============================] - 0s 17ms/step - loss: 4.7140 - mae: 4.7140\n",
            "Epoch 447/500\n",
            "2/2 [==============================] - 0s 7ms/step - loss: 4.7049 - mae: 4.7049\n",
            "Epoch 448/500\n",
            "2/2 [==============================] - 0s 9ms/step - loss: 4.6956 - mae: 4.6956\n",
            "Epoch 449/500\n",
            "2/2 [==============================] - 0s 7ms/step - loss: 4.6861 - mae: 4.6861\n",
            "Epoch 450/500\n",
            "2/2 [==============================] - 0s 7ms/step - loss: 4.6758 - mae: 4.6758\n",
            "Epoch 451/500\n",
            "2/2 [==============================] - 0s 8ms/step - loss: 4.6687 - mae: 4.6687\n",
            "Epoch 452/500\n",
            "2/2 [==============================] - 0s 6ms/step - loss: 4.6535 - mae: 4.6535\n",
            "Epoch 453/500\n",
            "2/2 [==============================] - 0s 7ms/step - loss: 4.6728 - mae: 4.6728\n",
            "Epoch 454/500\n",
            "2/2 [==============================] - 0s 6ms/step - loss: 4.6645 - mae: 4.6645\n",
            "Epoch 455/500\n",
            "2/2 [==============================] - 0s 5ms/step - loss: 4.6520 - mae: 4.6520\n",
            "Epoch 456/500\n",
            "2/2 [==============================] - 0s 6ms/step - loss: 4.6401 - mae: 4.6401\n",
            "Epoch 457/500\n",
            "2/2 [==============================] - 0s 6ms/step - loss: 4.6128 - mae: 4.6128\n",
            "Epoch 458/500\n",
            "2/2 [==============================] - 0s 6ms/step - loss: 4.6009 - mae: 4.6009\n",
            "Epoch 459/500\n",
            "2/2 [==============================] - 0s 9ms/step - loss: 4.5907 - mae: 4.5907\n",
            "Epoch 460/500\n",
            "2/2 [==============================] - 0s 15ms/step - loss: 4.5978 - mae: 4.5978\n",
            "Epoch 461/500\n",
            "2/2 [==============================] - 0s 4ms/step - loss: 4.6113 - mae: 4.6113\n",
            "Epoch 462/500\n",
            "2/2 [==============================] - 0s 7ms/step - loss: 4.5994 - mae: 4.5994\n",
            "Epoch 463/500\n",
            "2/2 [==============================] - 0s 8ms/step - loss: 4.5754 - mae: 4.5754\n",
            "Epoch 464/500\n",
            "2/2 [==============================] - 0s 5ms/step - loss: 4.5555 - mae: 4.5555\n",
            "Epoch 465/500\n",
            "2/2 [==============================] - 0s 7ms/step - loss: 4.5376 - mae: 4.5376\n",
            "Epoch 466/500\n",
            "2/2 [==============================] - 0s 5ms/step - loss: 4.5230 - mae: 4.5230\n",
            "Epoch 467/500\n",
            "2/2 [==============================] - 0s 4ms/step - loss: 4.5117 - mae: 4.5117\n",
            "Epoch 468/500\n",
            "2/2 [==============================] - 0s 5ms/step - loss: 4.5023 - mae: 4.5023\n",
            "Epoch 469/500\n",
            "2/2 [==============================] - 0s 4ms/step - loss: 4.4917 - mae: 4.4917\n",
            "Epoch 470/500\n",
            "2/2 [==============================] - 0s 4ms/step - loss: 4.4824 - mae: 4.4824\n",
            "Epoch 471/500\n",
            "2/2 [==============================] - 0s 4ms/step - loss: 4.4733 - mae: 4.4733\n",
            "Epoch 472/500\n",
            "2/2 [==============================] - 0s 8ms/step - loss: 4.4636 - mae: 4.4636\n",
            "Epoch 473/500\n",
            "2/2 [==============================] - 0s 8ms/step - loss: 4.4539 - mae: 4.4539\n",
            "Epoch 474/500\n",
            "2/2 [==============================] - 0s 10ms/step - loss: 4.4445 - mae: 4.4445\n",
            "Epoch 475/500\n",
            "2/2 [==============================] - 0s 4ms/step - loss: 4.4312 - mae: 4.4312\n",
            "Epoch 476/500\n",
            "2/2 [==============================] - 0s 4ms/step - loss: 4.4244 - mae: 4.4244\n",
            "Epoch 477/500\n",
            "2/2 [==============================] - 0s 4ms/step - loss: 4.4109 - mae: 4.4109\n",
            "Epoch 478/500\n",
            "2/2 [==============================] - 0s 4ms/step - loss: 4.4093 - mae: 4.4093\n",
            "Epoch 479/500\n",
            "2/2 [==============================] - 0s 4ms/step - loss: 4.4022 - mae: 4.4022\n",
            "Epoch 480/500\n",
            "2/2 [==============================] - 0s 11ms/step - loss: 4.3900 - mae: 4.3900\n",
            "Epoch 481/500\n",
            "2/2 [==============================] - 0s 16ms/step - loss: 4.3782 - mae: 4.3782\n",
            "Epoch 482/500\n",
            "2/2 [==============================] - 0s 10ms/step - loss: 4.3647 - mae: 4.3647\n",
            "Epoch 483/500\n",
            "2/2 [==============================] - 0s 9ms/step - loss: 4.3581 - mae: 4.3581\n",
            "Epoch 484/500\n",
            "2/2 [==============================] - 0s 4ms/step - loss: 4.3423 - mae: 4.3423\n",
            "Epoch 485/500\n",
            "2/2 [==============================] - 0s 5ms/step - loss: 4.3331 - mae: 4.3331\n",
            "Epoch 486/500\n",
            "2/2 [==============================] - 0s 6ms/step - loss: 4.3211 - mae: 4.3211\n",
            "Epoch 487/500\n",
            "2/2 [==============================] - 0s 5ms/step - loss: 4.3121 - mae: 4.3121\n",
            "Epoch 488/500\n",
            "2/2 [==============================] - 0s 15ms/step - loss: 4.2999 - mae: 4.2999\n",
            "Epoch 489/500\n",
            "2/2 [==============================] - 0s 15ms/step - loss: 4.2893 - mae: 4.2893\n",
            "Epoch 490/500\n",
            "2/2 [==============================] - 0s 15ms/step - loss: 4.2752 - mae: 4.2752\n",
            "Epoch 491/500\n",
            "2/2 [==============================] - 0s 6ms/step - loss: 4.2792 - mae: 4.2792\n",
            "Epoch 492/500\n",
            "2/2 [==============================] - 0s 3ms/step - loss: 4.2701 - mae: 4.2701\n",
            "Epoch 493/500\n",
            "2/2 [==============================] - 0s 5ms/step - loss: 4.2523 - mae: 4.2523\n",
            "Epoch 494/500\n",
            "2/2 [==============================] - 0s 10ms/step - loss: 4.2362 - mae: 4.2362\n",
            "Epoch 495/500\n",
            "2/2 [==============================] - 0s 8ms/step - loss: 4.2251 - mae: 4.2251\n",
            "Epoch 496/500\n",
            "2/2 [==============================] - 0s 9ms/step - loss: 4.2223 - mae: 4.2223\n",
            "Epoch 497/500\n",
            "2/2 [==============================] - 0s 13ms/step - loss: 4.2175 - mae: 4.2175\n",
            "Epoch 498/500\n",
            "2/2 [==============================] - 0s 8ms/step - loss: 4.2067 - mae: 4.2067\n",
            "Epoch 499/500\n",
            "2/2 [==============================] - 0s 7ms/step - loss: 4.2010 - mae: 4.2010\n",
            "Epoch 500/500\n",
            "2/2 [==============================] - 0s 10ms/step - loss: 4.2121 - mae: 4.2121\n"
          ],
          "name": "stdout"
        },
        {
          "output_type": "execute_result",
          "data": {
            "text/plain": [
              "<tensorflow.python.keras.callbacks.History at 0x7f0a98a15350>"
            ]
          },
          "metadata": {
            "tags": []
          },
          "execution_count": 82
        }
      ]
    },
    {
      "cell_type": "code",
      "metadata": {
        "colab": {
          "base_uri": "https://localhost:8080/",
          "height": 465
        },
        "id": "ytZkaBKUqWkY",
        "outputId": "6478e11b-c2ab-4bc0-d8e9-9513e6026e14"
      },
      "source": [
        "y_pred3=model_3.predict(X_test)\n",
        "plot_predictions(predictions=y_pred3)"
      ],
      "execution_count": 86,
      "outputs": [
        {
          "output_type": "stream",
          "text": [
            "WARNING:tensorflow:5 out of the last 5 calls to <function Model.make_predict_function.<locals>.predict_function at 0x7f0a97c68950> triggered tf.function retracing. Tracing is expensive and the excessive number of tracings could be due to (1) creating @tf.function repeatedly in a loop, (2) passing tensors with different shapes, (3) passing Python objects instead of tensors. For (1), please define your @tf.function outside of the loop. For (2), @tf.function has experimental_relax_shapes=True option that relaxes argument shapes that can avoid unnecessary retracing. For (3), please refer to https://www.tensorflow.org/guide/function#controlling_retracing and https://www.tensorflow.org/api_docs/python/tf/function for  more details.\n"
          ],
          "name": "stdout"
        },
        {
          "output_type": "display_data",
          "data": {
            "image/png": "[encoded data removed]",
            "text/plain": [
              "<Figure size 720x504 with 1 Axes>"
            ]
          },
          "metadata": {
            "tags": [],
            "needs_background": "light"
          }
        }
      ]
    },
    {
      "cell_type": "code",
      "metadata": {
        "colab": {
          "base_uri": "https://localhost:8080/"
        },
        "id": "w-cMN3efqxEz",
        "outputId": "9222b501-6848-4d23-ee0b-b24f9c9acf9a"
      },
      "source": [
        "mse3=mse(y_test,y_pred3)\n",
        "mae3=mae(y_test,y_pred3)\n",
        "mae3,mse3"
      ],
      "execution_count": 88,
      "outputs": [
        {
          "output_type": "execute_result",
          "data": {
            "text/plain": [
              "(<tf.Tensor: shape=(), dtype=float32, numpy=11.197289>,\n",
              " <tf.Tensor: shape=(), dtype=float32, numpy=126.09241>)"
            ]
          },
          "metadata": {
            "tags": []
          },
          "execution_count": 88
        }
      ]
    },
    {
      "cell_type": "code",
      "metadata": {
        "id": "thILOmUvrD7e"
      },
      "source": [
        ""
      ],
      "execution_count": null,
      "outputs": []
    }
  ]
}