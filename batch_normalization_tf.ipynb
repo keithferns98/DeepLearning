{
  "nbformat": 4,
  "nbformat_minor": 0,
  "metadata": {
    "colab": {
      "name": "batch_normalization_tf.ipynb",
      "provenance": [],
      "authorship_tag": "ABX9TyMmr5nq7cGIjN+EAecAULhO",
      "include_colab_link": true
    },
    "kernelspec": {
      "name": "python3",
      "display_name": "Python 3"
    },
    "language_info": {
      "name": "python"
    }
  },
  "cells": [
    {
      "cell_type": "markdown",
      "metadata": {
        "id": "view-in-github",
        "colab_type": "text"
      },
      "source": [
        "<a href=\"https://colab.research.google.com/github/keithferns98/DeepLearning/blob/main/batch_normalization_tf.ipynb\" target=\"_parent\"><img src=\"https://colab.research.google.com/assets/colab-badge.svg\" alt=\"Open In Colab\"/></a>"
      ]
    },
    {
      "cell_type": "code",
      "metadata": {
        "id": "Mj5ft6iEVNnC"
      },
      "source": [
        "import os \n",
        "import tensorflow as tf\n",
        "import numpy as np \n",
        "import matplotlib.pyplot as plt\n",
        "plt.style.use('fivethirtyeight')"
      ],
      "execution_count": 7,
      "outputs": []
    },
    {
      "cell_type": "code",
      "metadata": {
        "colab": {
          "base_uri": "https://localhost:8080/"
        },
        "id": "xPIAlmrQV03L",
        "outputId": "de66c161-c9be-4027-d9dd-2bb903f5ab10"
      },
      "source": [
        "(X_train_full,y_train_full),(X_test,y_test)=tf.keras.datasets.fashion_mnist.load_data()\n",
        "X_train_full=X_train_full/255.\n",
        "X_test=X_test/255.\n",
        "X_train_valid,X_train=X_train_full[:5000],X_train_full[5000:]\n",
        "y_train_valid,y_train=y_train_full[:5000],y_train_full[5000:]\n",
        "y_train_valid.shape,X_train_valid.shape,X_train.shape,y_train.shape"
      ],
      "execution_count": 8,
      "outputs": [
        {
          "output_type": "execute_result",
          "data": {
            "text/plain": [
              "((5000,), (5000, 28, 28), (55000, 28, 28), (55000,))"
            ]
          },
          "metadata": {},
          "execution_count": 8
        }
      ]
    },
    {
      "cell_type": "code",
      "metadata": {
        "id": "RNoBvFPpXVso"
      },
      "source": [
        "tf.random.set_seed(42)\n",
        "np.random.seed(42)\n",
        "Layers=[tf.keras.layers.Flatten(input_shape=[28,28]),\n",
        "        tf.keras.layers.Dense(300,kernel_initializer=\"he_normal\"),\n",
        "        tf.keras.layers.LeakyReLU(),\n",
        "        tf.keras.layers.Dense(100,kernel_initializer=\"he_normal\"),\n",
        "        tf.keras.layers.LeakyReLU(),\n",
        "        tf.keras.layers.Dense(10,activation='softmax')]"
      ],
      "execution_count": 11,
      "outputs": []
    },
    {
      "cell_type": "code",
      "metadata": {
        "id": "uQTHS0cWlIH1"
      },
      "source": [
        "model=tf.keras.models.Sequential(Layers)"
      ],
      "execution_count": 12,
      "outputs": []
    },
    {
      "cell_type": "code",
      "metadata": {
        "colab": {
          "base_uri": "https://localhost:8080/"
        },
        "id": "IHNeyjarlWIR",
        "outputId": "e6fa1e88-47bb-456c-ffda-a1a282fe804f"
      },
      "source": [
        "model.compile(loss=\"sparse_categorical_crossentropy\",\n",
        "              optimizer=tf.keras.optimizers.SGD(lr=1e-3),\n",
        "              metrics=[\"accuracy\"])\n",
        "model.summary()"
      ],
      "execution_count": 13,
      "outputs": [
        {
          "output_type": "stream",
          "name": "stdout",
          "text": [
            "Model: \"sequential\"\n",
            "_________________________________________________________________\n",
            " Layer (type)                Output Shape              Param #   \n",
            "=================================================================\n",
            " flatten_1 (Flatten)         (None, 784)               0         \n",
            "                                                                 \n",
            " dense_1 (Dense)             (None, 300)               235500    \n",
            "                                                                 \n",
            " leaky_re_lu (LeakyReLU)     (None, 300)               0         \n",
            "                                                                 \n",
            " dense_2 (Dense)             (None, 100)               30100     \n",
            "                                                                 \n",
            " leaky_re_lu_1 (LeakyReLU)   (None, 100)               0         \n",
            "                                                                 \n",
            " dense_3 (Dense)             (None, 10)                1010      \n",
            "                                                                 \n",
            "=================================================================\n",
            "Total params: 266,610\n",
            "Trainable params: 266,610\n",
            "Non-trainable params: 0\n",
            "_________________________________________________________________\n"
          ]
        },
        {
          "output_type": "stream",
          "name": "stderr",
          "text": [
            "/usr/local/lib/python3.7/dist-packages/keras/optimizer_v2/gradient_descent.py:102: UserWarning: The `lr` argument is deprecated, use `learning_rate` instead.\n",
            "  super(SGD, self).__init__(name, **kwargs)\n"
          ]
        }
      ]
    },
    {
      "cell_type": "code",
      "metadata": {
        "colab": {
          "base_uri": "https://localhost:8080/"
        },
        "id": "D7tytdCYmBY8",
        "outputId": "6f3a39e2-dc4e-4dd3-e37c-802b7074131a"
      },
      "source": [
        "history=model.fit(X_train,y_train,epochs=10,\n",
        "                  validation_data=(X_train_valid,y_train_valid),verbose=2)"
      ],
      "execution_count": 14,
      "outputs": [
        {
          "output_type": "stream",
          "name": "stdout",
          "text": [
            "Epoch 1/10\n",
            "1719/1719 - 5s - loss: 1.2819 - accuracy: 0.6229 - val_loss: 0.8886 - val_accuracy: 0.7160 - 5s/epoch - 3ms/step\n",
            "Epoch 2/10\n",
            "1719/1719 - 4s - loss: 0.7955 - accuracy: 0.7361 - val_loss: 0.7130 - val_accuracy: 0.7656 - 4s/epoch - 2ms/step\n",
            "Epoch 3/10\n",
            "1719/1719 - 4s - loss: 0.6816 - accuracy: 0.7721 - val_loss: 0.6427 - val_accuracy: 0.7900 - 4s/epoch - 2ms/step\n",
            "Epoch 4/10\n",
            "1719/1719 - 4s - loss: 0.6217 - accuracy: 0.7944 - val_loss: 0.5900 - val_accuracy: 0.8064 - 4s/epoch - 2ms/step\n",
            "Epoch 5/10\n",
            "1719/1719 - 4s - loss: 0.5832 - accuracy: 0.8074 - val_loss: 0.5582 - val_accuracy: 0.8200 - 4s/epoch - 2ms/step\n",
            "Epoch 6/10\n",
            "1719/1719 - 4s - loss: 0.5553 - accuracy: 0.8156 - val_loss: 0.5350 - val_accuracy: 0.8238 - 4s/epoch - 2ms/step\n",
            "Epoch 7/10\n",
            "1719/1719 - 4s - loss: 0.5339 - accuracy: 0.8223 - val_loss: 0.5156 - val_accuracy: 0.8302 - 4s/epoch - 2ms/step\n",
            "Epoch 8/10\n",
            "1719/1719 - 4s - loss: 0.5173 - accuracy: 0.8272 - val_loss: 0.5079 - val_accuracy: 0.8284 - 4s/epoch - 2ms/step\n",
            "Epoch 9/10\n",
            "1719/1719 - 4s - loss: 0.5040 - accuracy: 0.8290 - val_loss: 0.4895 - val_accuracy: 0.8386 - 4s/epoch - 2ms/step\n",
            "Epoch 10/10\n",
            "1719/1719 - 4s - loss: 0.4924 - accuracy: 0.8319 - val_loss: 0.4817 - val_accuracy: 0.8396 - 4s/epoch - 2ms/step\n"
          ]
        }
      ]
    },
    {
      "cell_type": "code",
      "metadata": {
        "id": "ZjIfSC3CxaSA"
      },
      "source": [
        "#BN approach"
      ],
      "execution_count": 15,
      "outputs": []
    },
    {
      "cell_type": "code",
      "metadata": {
        "id": "n89m8zsezw26"
      },
      "source": [
        "LAYERS_BN_ONE=[tf.keras.layers.Flatten(input_shape=[28,28]),\n",
        "        tf.keras.layers.BatchNormalization(),\n",
        "        tf.keras.layers.Dense(300,activation='relu',kernel_initializer=\"he_normal\"),\n",
        "        tf.keras.layers.BatchNormalization(),\n",
        "        tf.keras.layers.Dense(100,activation='relu',kernel_initializer=\"he_normal\"),\n",
        "        tf.keras.layers.BatchNormalization(),\n",
        "        tf.keras.layers.Dense(10,activation='softmax')]"
      ],
      "execution_count": 18,
      "outputs": []
    },
    {
      "cell_type": "code",
      "metadata": {
        "id": "tHXTzt38zxJG"
      },
      "source": [
        "model_one=tf.keras.models.Sequential(LAYERS_BN_ONE)"
      ],
      "execution_count": 19,
      "outputs": []
    },
    {
      "cell_type": "code",
      "metadata": {
        "colab": {
          "base_uri": "https://localhost:8080/"
        },
        "id": "PymHkY5Q1IZy",
        "outputId": "3eabb212-946a-4afc-8e30-9e61b2ac8af4"
      },
      "source": [
        "model_one.summary()"
      ],
      "execution_count": 20,
      "outputs": [
        {
          "output_type": "stream",
          "name": "stdout",
          "text": [
            "Model: \"sequential_1\"\n",
            "_________________________________________________________________\n",
            " Layer (type)                Output Shape              Param #   \n",
            "=================================================================\n",
            " flatten_4 (Flatten)         (None, 784)               0         \n",
            "                                                                 \n",
            " batch_normalization_4 (Batc  (None, 784)              3136      \n",
            " hNormalization)                                                 \n",
            "                                                                 \n",
            " dense_8 (Dense)             (None, 300)               235500    \n",
            "                                                                 \n",
            " batch_normalization_5 (Batc  (None, 300)              1200      \n",
            " hNormalization)                                                 \n",
            "                                                                 \n",
            " dense_9 (Dense)             (None, 100)               30100     \n",
            "                                                                 \n",
            " batch_normalization_6 (Batc  (None, 100)              400       \n",
            " hNormalization)                                                 \n",
            "                                                                 \n",
            " dense_10 (Dense)            (None, 10)                1010      \n",
            "                                                                 \n",
            "=================================================================\n",
            "Total params: 271,346\n",
            "Trainable params: 268,978\n",
            "Non-trainable params: 2,368\n",
            "_________________________________________________________________\n"
          ]
        }
      ]
    },
    {
      "cell_type": "code",
      "metadata": {
        "colab": {
          "base_uri": "https://localhost:8080/"
        },
        "id": "boFDWkfY2afZ",
        "outputId": "99821011-ad64-462d-beb9-31616103cf8c"
      },
      "source": [
        "for i in model_one.layers[1].variables:\n",
        "  print(i.name,i.trainable)"
      ],
      "execution_count": 24,
      "outputs": [
        {
          "output_type": "stream",
          "name": "stdout",
          "text": [
            "batch_normalization_4/gamma:0 True\n",
            "batch_normalization_4/beta:0 True\n",
            "batch_normalization_4/moving_mean:0 False\n",
            "batch_normalization_4/moving_variance:0 False\n"
          ]
        }
      ]
    },
    {
      "cell_type": "code",
      "metadata": {
        "colab": {
          "base_uri": "https://localhost:8080/"
        },
        "id": "txUjsYC03Ssu",
        "outputId": "947b78ff-3db9-4b8d-eb12-c7830e05c962"
      },
      "source": [
        "model_one.compile(loss=\"sparse_categorical_crossentropy\",\n",
        "                  optimizer=tf.keras.optimizers.SGD(lr=1e-3),\n",
        "                  metrics=['accuracy'])"
      ],
      "execution_count": 25,
      "outputs": [
        {
          "output_type": "stream",
          "name": "stderr",
          "text": [
            "/usr/local/lib/python3.7/dist-packages/keras/optimizer_v2/gradient_descent.py:102: UserWarning: The `lr` argument is deprecated, use `learning_rate` instead.\n",
            "  super(SGD, self).__init__(name, **kwargs)\n"
          ]
        }
      ]
    },
    {
      "cell_type": "code",
      "metadata": {
        "colab": {
          "base_uri": "https://localhost:8080/"
        },
        "id": "RogwMtQu3SxZ",
        "outputId": "57c3448f-420e-4bcb-f2e0-9b9eb18b18f3"
      },
      "source": [
        "history2=model_one.fit(X_train,y_train,epochs=10,validation_data=(X_train_valid,y_train_valid),verbose=2)"
      ],
      "execution_count": 27,
      "outputs": [
        {
          "output_type": "stream",
          "name": "stdout",
          "text": [
            "Epoch 1/10\n",
            "1719/1719 - 8s - loss: 0.9123 - accuracy: 0.6961 - val_loss: 0.5906 - val_accuracy: 0.8032 - 8s/epoch - 4ms/step\n",
            "Epoch 2/10\n",
            "1719/1719 - 7s - loss: 0.6127 - accuracy: 0.7893 - val_loss: 0.5002 - val_accuracy: 0.8332 - 7s/epoch - 4ms/step\n",
            "Epoch 3/10\n",
            "1719/1719 - 7s - loss: 0.5483 - accuracy: 0.8105 - val_loss: 0.4617 - val_accuracy: 0.8424 - 7s/epoch - 4ms/step\n",
            "Epoch 4/10\n",
            "1719/1719 - 6s - loss: 0.5075 - accuracy: 0.8237 - val_loss: 0.4382 - val_accuracy: 0.8504 - 6s/epoch - 4ms/step\n",
            "Epoch 5/10\n",
            "1719/1719 - 7s - loss: 0.4800 - accuracy: 0.8329 - val_loss: 0.4223 - val_accuracy: 0.8552 - 7s/epoch - 4ms/step\n",
            "Epoch 6/10\n",
            "1719/1719 - 7s - loss: 0.4640 - accuracy: 0.8376 - val_loss: 0.4102 - val_accuracy: 0.8614 - 7s/epoch - 4ms/step\n",
            "Epoch 7/10\n",
            "1719/1719 - 6s - loss: 0.4495 - accuracy: 0.8427 - val_loss: 0.3989 - val_accuracy: 0.8616 - 6s/epoch - 4ms/step\n",
            "Epoch 8/10\n",
            "1719/1719 - 7s - loss: 0.4373 - accuracy: 0.8455 - val_loss: 0.3925 - val_accuracy: 0.8650 - 7s/epoch - 4ms/step\n",
            "Epoch 9/10\n",
            "1719/1719 - 7s - loss: 0.4250 - accuracy: 0.8494 - val_loss: 0.3857 - val_accuracy: 0.8654 - 7s/epoch - 4ms/step\n",
            "Epoch 10/10\n",
            "1719/1719 - 7s - loss: 0.4155 - accuracy: 0.8531 - val_loss: 0.3800 - val_accuracy: 0.8674 - 7s/epoch - 4ms/step\n"
          ]
        }
      ]
    },
    {
      "cell_type": "code",
      "metadata": {
        "id": "rBfynv9Jmuj4"
      },
      "source": [
        "Layers_bn_two=[tf.keras.layers.Flatten(input_shape=[28,28]),\n",
        "        tf.keras.layers.BatchNormalization(),\n",
        "        tf.keras.layers.Dense(300,kernel_initializer=\"he_normal\"),\n",
        "        tf.keras.layers.BatchNormalization(),\n",
        "        tf.keras.layers.LeakyReLU(),\n",
        "        tf.keras.layers.Dense(100,kernel_initializer=\"he_normal\"),\n",
        "        tf.keras.layers.BatchNormalization(),\n",
        "        tf.keras.layers.LeakyReLU(),\n",
        "        tf.keras.layers.Dense(10,activation='softmax')]"
      ],
      "execution_count": 29,
      "outputs": []
    },
    {
      "cell_type": "code",
      "metadata": {
        "colab": {
          "base_uri": "https://localhost:8080/"
        },
        "id": "x6eyFs_k_c8I",
        "outputId": "3a48938d-fc52-4e11-e2b0-808552e72809"
      },
      "source": [
        "model_two=tf.keras.models.Sequential(Layers_bn_two)\n",
        "\n",
        "model_two.compile(loss='sparse_categorical_crossentropy',\n",
        "                  optimizer=tf.keras.optimizers.SGD(1e-3),\n",
        "                  metrics=['accuracy'])\n",
        "history_3=model_two.fit(X_train,y_train,epochs=10,validation_data=(X_train_valid,y_train_valid),verbose=2)"
      ],
      "execution_count": 32,
      "outputs": [
        {
          "output_type": "stream",
          "name": "stdout",
          "text": [
            "Epoch 1/10\n",
            "1719/1719 - 7s - loss: 0.9703 - accuracy: 0.6813 - val_loss: 0.6600 - val_accuracy: 0.7838 - 7s/epoch - 4ms/step\n",
            "Epoch 2/10\n",
            "1719/1719 - 6s - loss: 0.6611 - accuracy: 0.7803 - val_loss: 0.5594 - val_accuracy: 0.8148 - 6s/epoch - 4ms/step\n",
            "Epoch 3/10\n",
            "1719/1719 - 6s - loss: 0.5949 - accuracy: 0.7998 - val_loss: 0.5115 - val_accuracy: 0.8300 - 6s/epoch - 4ms/step\n",
            "Epoch 4/10\n",
            "1719/1719 - 7s - loss: 0.5514 - accuracy: 0.8112 - val_loss: 0.4824 - val_accuracy: 0.8380 - 7s/epoch - 4ms/step\n",
            "Epoch 5/10\n",
            "1719/1719 - 6s - loss: 0.5237 - accuracy: 0.8191 - val_loss: 0.4620 - val_accuracy: 0.8464 - 6s/epoch - 4ms/step\n",
            "Epoch 6/10\n",
            "1719/1719 - 6s - loss: 0.5044 - accuracy: 0.8256 - val_loss: 0.4455 - val_accuracy: 0.8510 - 6s/epoch - 4ms/step\n",
            "Epoch 7/10\n",
            "1719/1719 - 7s - loss: 0.4899 - accuracy: 0.8299 - val_loss: 0.4334 - val_accuracy: 0.8558 - 7s/epoch - 4ms/step\n",
            "Epoch 8/10\n",
            "1719/1719 - 6s - loss: 0.4771 - accuracy: 0.8336 - val_loss: 0.4239 - val_accuracy: 0.8582 - 6s/epoch - 4ms/step\n",
            "Epoch 9/10\n",
            "1719/1719 - 6s - loss: 0.4657 - accuracy: 0.8380 - val_loss: 0.4157 - val_accuracy: 0.8606 - 6s/epoch - 4ms/step\n",
            "Epoch 10/10\n",
            "1719/1719 - 7s - loss: 0.4564 - accuracy: 0.8404 - val_loss: 0.4090 - val_accuracy: 0.8616 - 7s/epoch - 4ms/step\n"
          ]
        }
      ]
    },
    {
      "cell_type": "code",
      "metadata": {
        "id": "jRBYZiFOMKoJ"
      },
      "source": [
        ""
      ],
      "execution_count": null,
      "outputs": []
    }
  ]
}