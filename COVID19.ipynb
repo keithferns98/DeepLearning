{
  "nbformat": 4,
  "nbformat_minor": 0,
  "metadata": {
    "colab": {
      "name": "COVID19.ipynb",
      "provenance": [],
      "authorship_tag": "ABX9TyPzax3ELWed3JG5few6ox7W",
      "include_colab_link": true
    },
    "kernelspec": {
      "name": "python3",
      "display_name": "Python 3"
    },
    "language_info": {
      "name": "python"
    }
  },
  "cells": [
    {
      "cell_type": "markdown",
      "metadata": {
        "id": "view-in-github",
        "colab_type": "text"
      },
      "source": [
        "<a href=\"https://colab.research.google.com/github/keithferns98/DeepLearning/blob/main/COVID19.ipynb\" target=\"_parent\"><img src=\"https://colab.research.google.com/assets/colab-badge.svg\" alt=\"Open In Colab\"/></a>"
      ]
    },
    {
      "cell_type": "code",
      "execution_count": 1,
      "metadata": {
        "colab": {
          "base_uri": "https://localhost:8080/"
        },
        "id": "Di18tEinfshB",
        "outputId": "c5dadd2a-d3de-4887-e9bb-be040473e67f"
      },
      "outputs": [
        {
          "output_type": "stream",
          "name": "stdout",
          "text": [
            "Downloading covid19-xray-dataset-train-test-sets.zip to /content\n",
            " 96% 81.0M/84.3M [00:00<00:00, 89.4MB/s]\n",
            "100% 84.3M/84.3M [00:00<00:00, 102MB/s] \n",
            "Archive:  covid19-xray-dataset-train-test-sets.zip\n",
            "  inflating: xray_dataset_covid19/test/NORMAL/NORMAL2-IM-0035-0001.jpeg  \n",
            "  inflating: xray_dataset_covid19/test/NORMAL/NORMAL2-IM-0052-0001.jpeg  \n",
            "  inflating: xray_dataset_covid19/test/NORMAL/NORMAL2-IM-0058-0001.jpeg  \n",
            "  inflating: xray_dataset_covid19/test/NORMAL/NORMAL2-IM-0059-0001.jpeg  \n",
            "  inflating: xray_dataset_covid19/test/NORMAL/NORMAL2-IM-0072-0001.jpeg  \n",
            "  inflating: xray_dataset_covid19/test/NORMAL/NORMAL2-IM-0073-0001.jpeg  \n",
            "  inflating: xray_dataset_covid19/test/NORMAL/NORMAL2-IM-0092-0001.jpeg  \n",
            "  inflating: xray_dataset_covid19/test/NORMAL/NORMAL2-IM-0105-0001.jpeg  \n",
            "  inflating: xray_dataset_covid19/test/NORMAL/NORMAL2-IM-0110-0001.jpeg  \n",
            "  inflating: xray_dataset_covid19/test/NORMAL/NORMAL2-IM-0111-0001.jpeg  \n",
            "  inflating: xray_dataset_covid19/test/NORMAL/NORMAL2-IM-0112-0001.jpeg  \n",
            "  inflating: xray_dataset_covid19/test/NORMAL/NORMAL2-IM-0117-0001.jpeg  \n",
            "  inflating: xray_dataset_covid19/test/NORMAL/NORMAL2-IM-0120-0001.jpeg  \n",
            "  inflating: xray_dataset_covid19/test/NORMAL/NORMAL2-IM-0123-0001.jpeg  \n",
            "  inflating: xray_dataset_covid19/test/NORMAL/NORMAL2-IM-0130-0001.jpeg  \n",
            "  inflating: xray_dataset_covid19/test/NORMAL/NORMAL2-IM-0131-0001.jpeg  \n",
            "  inflating: xray_dataset_covid19/test/NORMAL/NORMAL2-IM-0132-0001.jpeg  \n",
            "  inflating: xray_dataset_covid19/test/NORMAL/NORMAL2-IM-0139-0001.jpeg  \n",
            "  inflating: xray_dataset_covid19/test/NORMAL/NORMAL2-IM-0145-0001.jpeg  \n",
            "  inflating: xray_dataset_covid19/test/NORMAL/NORMAL2-IM-0171-0001.jpeg  \n",
            "  inflating: xray_dataset_covid19/test/PNEUMONIA/SARS-10.1148rg.242035193-g04mr34g0-Fig8a-day0.jpeg  \n",
            "  inflating: xray_dataset_covid19/test/PNEUMONIA/SARS-10.1148rg.242035193-g04mr34g0-Fig8b-day5.jpeg  \n",
            "  inflating: xray_dataset_covid19/test/PNEUMONIA/SARS-10.1148rg.242035193-g04mr34g0-Fig8c-day10.jpeg  \n",
            "  inflating: xray_dataset_covid19/test/PNEUMONIA/SARS-10.1148rg.242035193-g04mr34g04a-Fig4a-day7.jpeg  \n",
            "  inflating: xray_dataset_covid19/test/PNEUMONIA/SARS-10.1148rg.242035193-g04mr34g04b-Fig4b-day12.jpeg  \n",
            "  inflating: xray_dataset_covid19/test/PNEUMONIA/SARS-10.1148rg.242035193-g04mr34g05x-Fig5-day9.jpeg  \n",
            "  inflating: xray_dataset_covid19/test/PNEUMONIA/SARS-10.1148rg.242035193-g04mr34g07a-Fig7a-day5.jpeg  \n",
            "  inflating: xray_dataset_covid19/test/PNEUMONIA/SARS-10.1148rg.242035193-g04mr34g07b-Fig7b-day12.jpeg  \n",
            "  inflating: xray_dataset_covid19/test/PNEUMONIA/SARS-10.1148rg.242035193-g04mr34g09a-Fig9a-day17.jpeg  \n",
            "  inflating: xray_dataset_covid19/test/PNEUMONIA/SARS-10.1148rg.242035193-g04mr34g09b-Fig9b-day19.jpeg  \n",
            "  inflating: xray_dataset_covid19/test/PNEUMONIA/SARS-10.1148rg.242035193-g04mr34g09c-Fig9c-day27.jpeg  \n",
            "  inflating: xray_dataset_covid19/test/PNEUMONIA/ryct.2020200034.fig2.jpeg  \n",
            "  inflating: xray_dataset_covid19/test/PNEUMONIA/ryct.2020200034.fig5-day0.jpeg  \n",
            "  inflating: xray_dataset_covid19/test/PNEUMONIA/ryct.2020200034.fig5-day4.jpeg  \n",
            "  inflating: xray_dataset_covid19/test/PNEUMONIA/ryct.2020200034.fig5-day7.jpeg  \n",
            "  inflating: xray_dataset_covid19/test/PNEUMONIA/streptococcus-pneumoniae-pneumonia-1.jpg  \n",
            "  inflating: xray_dataset_covid19/test/PNEUMONIA/streptococcus-pneumoniae-pneumonia-temporal-evolution-1-day0.jpg  \n",
            "  inflating: xray_dataset_covid19/test/PNEUMONIA/streptococcus-pneumoniae-pneumonia-temporal-evolution-1-day1.jpg  \n",
            "  inflating: xray_dataset_covid19/test/PNEUMONIA/streptococcus-pneumoniae-pneumonia-temporal-evolution-1-day2.jpg  \n",
            "  inflating: xray_dataset_covid19/test/PNEUMONIA/streptococcus-pneumoniae-pneumonia-temporal-evolution-1-day3.jpg  \n",
            "  inflating: xray_dataset_covid19/train/NORMAL/IM-0001-0001.jpeg  \n",
            "  inflating: xray_dataset_covid19/train/NORMAL/IM-0003-0001.jpeg  \n",
            "  inflating: xray_dataset_covid19/train/NORMAL/IM-0005-0001.jpeg  \n",
            "  inflating: xray_dataset_covid19/train/NORMAL/IM-0006-0001.jpeg  \n",
            "  inflating: xray_dataset_covid19/train/NORMAL/IM-0007-0001.jpeg  \n",
            "  inflating: xray_dataset_covid19/train/NORMAL/IM-0009-0001.jpeg  \n",
            "  inflating: xray_dataset_covid19/train/NORMAL/IM-0010-0001.jpeg  \n",
            "  inflating: xray_dataset_covid19/train/NORMAL/IM-0011-0001-0001.jpeg  \n",
            "  inflating: xray_dataset_covid19/train/NORMAL/IM-0011-0001-0002.jpeg  \n",
            "  inflating: xray_dataset_covid19/train/NORMAL/IM-0011-0001.jpeg  \n",
            "  inflating: xray_dataset_covid19/train/NORMAL/IM-0013-0001.jpeg  \n",
            "  inflating: xray_dataset_covid19/train/NORMAL/IM-0015-0001.jpeg  \n",
            "  inflating: xray_dataset_covid19/train/NORMAL/IM-0016-0001.jpeg  \n",
            "  inflating: xray_dataset_covid19/train/NORMAL/IM-0017-0001.jpeg  \n",
            "  inflating: xray_dataset_covid19/train/NORMAL/IM-0019-0001.jpeg  \n",
            "  inflating: xray_dataset_covid19/train/NORMAL/IM-0021-0001.jpeg  \n",
            "  inflating: xray_dataset_covid19/train/NORMAL/IM-0022-0001.jpeg  \n",
            "  inflating: xray_dataset_covid19/train/NORMAL/IM-0023-0001.jpeg  \n",
            "  inflating: xray_dataset_covid19/train/NORMAL/IM-0025-0001.jpeg  \n",
            "  inflating: xray_dataset_covid19/train/NORMAL/IM-0027-0001.jpeg  \n",
            "  inflating: xray_dataset_covid19/train/NORMAL/IM-0029-0001.jpeg  \n",
            "  inflating: xray_dataset_covid19/train/NORMAL/IM-0030-0001.jpeg  \n",
            "  inflating: xray_dataset_covid19/train/NORMAL/IM-0031-0001.jpeg  \n",
            "  inflating: xray_dataset_covid19/train/NORMAL/IM-0033-0001-0001.jpeg  \n",
            "  inflating: xray_dataset_covid19/train/NORMAL/IM-0033-0001-0002.jpeg  \n",
            "  inflating: xray_dataset_covid19/train/NORMAL/IM-0033-0001.jpeg  \n",
            "  inflating: xray_dataset_covid19/train/NORMAL/IM-0035-0001.jpeg  \n",
            "  inflating: xray_dataset_covid19/train/NORMAL/IM-0036-0001.jpeg  \n",
            "  inflating: xray_dataset_covid19/train/NORMAL/IM-0037-0001.jpeg  \n",
            "  inflating: xray_dataset_covid19/train/NORMAL/IM-0039-0001.jpeg  \n",
            "  inflating: xray_dataset_covid19/train/NORMAL/IM-0041-0001.jpeg  \n",
            "  inflating: xray_dataset_covid19/train/NORMAL/IM-0043-0001.jpeg  \n",
            "  inflating: xray_dataset_covid19/train/NORMAL/IM-0045-0001.jpeg  \n",
            "  inflating: xray_dataset_covid19/train/NORMAL/IM-0046-0001.jpeg  \n",
            "  inflating: xray_dataset_covid19/train/NORMAL/IM-0049-0001.jpeg  \n",
            "  inflating: xray_dataset_covid19/train/NORMAL/IM-0050-0001.jpeg  \n",
            "  inflating: xray_dataset_covid19/train/NORMAL/IM-0059-0001.jpeg  \n",
            "  inflating: xray_dataset_covid19/train/NORMAL/IM-0061-0001.jpeg  \n",
            "  inflating: xray_dataset_covid19/train/NORMAL/IM-0063-0001.jpeg  \n",
            "  inflating: xray_dataset_covid19/train/NORMAL/IM-0069-0001.jpeg  \n",
            "  inflating: xray_dataset_covid19/train/NORMAL/IM-0070-0001.jpeg  \n",
            "  inflating: xray_dataset_covid19/train/NORMAL/IM-0071-0001.jpeg  \n",
            "  inflating: xray_dataset_covid19/train/NORMAL/IM-0073-0001.jpeg  \n",
            "  inflating: xray_dataset_covid19/train/NORMAL/IM-0075-0001.jpeg  \n",
            "  inflating: xray_dataset_covid19/train/NORMAL/IM-0077-0001.jpeg  \n",
            "  inflating: xray_dataset_covid19/train/NORMAL/IM-0079-0001.jpeg  \n",
            "  inflating: xray_dataset_covid19/train/NORMAL/IM-0081-0001.jpeg  \n",
            "  inflating: xray_dataset_covid19/train/NORMAL/IM-0083-0001.jpeg  \n",
            "  inflating: xray_dataset_covid19/train/NORMAL/IM-0084-0001.jpeg  \n",
            "  inflating: xray_dataset_covid19/train/NORMAL/IM-0085-0001.jpeg  \n",
            "  inflating: xray_dataset_covid19/train/NORMAL/IM-0086-0001.jpeg  \n",
            "  inflating: xray_dataset_covid19/train/NORMAL/IM-0087-0001.jpeg  \n",
            "  inflating: xray_dataset_covid19/train/NORMAL/IM-0089-0001.jpeg  \n",
            "  inflating: xray_dataset_covid19/train/NORMAL/IM-0091-0001.jpeg  \n",
            "  inflating: xray_dataset_covid19/train/NORMAL/IM-0093-0001.jpeg  \n",
            "  inflating: xray_dataset_covid19/train/NORMAL/IM-0095-0001.jpeg  \n",
            "  inflating: xray_dataset_covid19/train/NORMAL/IM-0097-0001.jpeg  \n",
            "  inflating: xray_dataset_covid19/train/NORMAL/IM-0099-0001.jpeg  \n",
            "  inflating: xray_dataset_covid19/train/NORMAL/IM-0101-0001.jpeg  \n",
            "  inflating: xray_dataset_covid19/train/NORMAL/IM-0102-0001.jpeg  \n",
            "  inflating: xray_dataset_covid19/train/NORMAL/IM-0103-0001.jpeg  \n",
            "  inflating: xray_dataset_covid19/train/NORMAL/IM-0105-0001.jpeg  \n",
            "  inflating: xray_dataset_covid19/train/NORMAL/IM-0107-0001.jpeg  \n",
            "  inflating: xray_dataset_covid19/train/NORMAL/IM-0110-0001.jpeg  \n",
            "  inflating: xray_dataset_covid19/train/NORMAL/IM-0111-0001.jpeg  \n",
            "  inflating: xray_dataset_covid19/train/NORMAL/NORMAL2-IM-0007-0001.jpeg  \n",
            "  inflating: xray_dataset_covid19/train/NORMAL/NORMAL2-IM-0012-0001.jpeg  \n",
            "  inflating: xray_dataset_covid19/train/NORMAL/NORMAL2-IM-0013-0001.jpeg  \n",
            "  inflating: xray_dataset_covid19/train/NORMAL/NORMAL2-IM-0023-0001.jpeg  \n",
            "  inflating: xray_dataset_covid19/train/NORMAL/NORMAL2-IM-0027-0001.jpeg  \n",
            "  inflating: xray_dataset_covid19/train/NORMAL/NORMAL2-IM-0028-0001.jpeg  \n",
            "  inflating: xray_dataset_covid19/train/NORMAL/NORMAL2-IM-0029-0001.jpeg  \n",
            "  inflating: xray_dataset_covid19/train/NORMAL/NORMAL2-IM-0030-0001.jpeg  \n",
            "  inflating: xray_dataset_covid19/train/NORMAL/NORMAL2-IM-0033-0001.jpeg  \n",
            "  inflating: xray_dataset_covid19/train/PNEUMONIA/01E392EE-69F9-4E33-BFCE-E5C968654078.jpeg  \n",
            "  inflating: xray_dataset_covid19/train/PNEUMONIA/1-s2.0-S0140673620303706-fx1_lrg.jpg  \n",
            "  inflating: xray_dataset_covid19/train/PNEUMONIA/1-s2.0-S1684118220300608-main.pdf-001.jpg  \n",
            "  inflating: xray_dataset_covid19/train/PNEUMONIA/1-s2.0-S1684118220300608-main.pdf-002.jpg  \n",
            "  inflating: xray_dataset_covid19/train/PNEUMONIA/1-s2.0-S1684118220300682-main.pdf-002-a1.png  \n",
            "  inflating: xray_dataset_covid19/train/PNEUMONIA/1-s2.0-S1684118220300682-main.pdf-002-a2.png  \n",
            "  inflating: xray_dataset_covid19/train/PNEUMONIA/1-s2.0-S1684118220300682-main.pdf-003-b1.png  \n",
            "  inflating: xray_dataset_covid19/train/PNEUMONIA/1-s2.0-S1684118220300682-main.pdf-003-b2.png  \n",
            "  inflating: xray_dataset_covid19/train/PNEUMONIA/1312A392-67A3-4EBF-9319-810CF6DA5EF6.jpeg  \n",
            "  inflating: xray_dataset_covid19/train/PNEUMONIA/171CB377-62FF-4B76-906C-F3787A01CB2E.jpeg  \n",
            "  inflating: xray_dataset_covid19/train/PNEUMONIA/1B734A89-A1BF-49A8-A1D3-66FAFA4FAC5D.jpeg  \n",
            "  inflating: xray_dataset_covid19/train/PNEUMONIA/23E99E2E-447C-46E5-8EB2-D35D12473C39.png  \n",
            "  inflating: xray_dataset_covid19/train/PNEUMONIA/2C10A413-AABE-4807-8CCE-6A2025594067.jpeg  \n",
            "  inflating: xray_dataset_covid19/train/PNEUMONIA/2C26F453-AF3B-4517-BB9E-802CF2179543.jpeg  \n",
            "  inflating: xray_dataset_covid19/train/PNEUMONIA/31BA3780-2323-493F-8AED-62081B9C383B.jpeg  \n",
            "  inflating: xray_dataset_covid19/train/PNEUMONIA/39EE8E69-5801-48DE-B6E3-BE7D1BCF3092.jpeg  \n",
            "  inflating: xray_dataset_covid19/train/PNEUMONIA/41591_2020_819_Fig1_HTML.webp-day10.png  \n",
            "  inflating: xray_dataset_covid19/train/PNEUMONIA/41591_2020_819_Fig1_HTML.webp-day5.png  \n",
            "  inflating: xray_dataset_covid19/train/PNEUMONIA/446B2CB6-B572-40AB-B01F-1910CA07086A.jpeg  \n",
            "  inflating: xray_dataset_covid19/train/PNEUMONIA/5931B64A-7B97-485D-BE60-3F1EA76BC4F0.jpeg  \n",
            "  inflating: xray_dataset_covid19/train/PNEUMONIA/5CBC2E94-D358-401E-8928-965CCD965C5C.jpeg  \n",
            "  inflating: xray_dataset_covid19/train/PNEUMONIA/5e6dd879fde9502400e58b2f.jpeg  \n",
            "  inflating: xray_dataset_covid19/train/PNEUMONIA/6CB4EFC6-68FA-4CD5-940C-BEFA8DAFE9A7.jpeg  \n",
            "  inflating: xray_dataset_covid19/train/PNEUMONIA/7AF6C1AF-D249-4BD2-8C26-449304105D03.jpeg  \n",
            "  inflating: xray_dataset_covid19/train/PNEUMONIA/7C69C012-7479-493F-8722-ABC29C60A2DD.jpeg  \n",
            "  inflating: xray_dataset_covid19/train/PNEUMONIA/7D2CF6CE-F529-4470-8356-D33FFAF98600.jpeg  \n",
            "  inflating: xray_dataset_covid19/train/PNEUMONIA/7E335538-2F86-424E-A0AB-6397783A38D0.jpeg  \n",
            "  inflating: xray_dataset_covid19/train/PNEUMONIA/7EF28E12-F628-4BEC-A8C5-E6277C2E4F60.png  \n",
            "  inflating: xray_dataset_covid19/train/PNEUMONIA/80446565-E090-4187-A031-9D3CEAA586C8.jpeg  \n",
            "  inflating: xray_dataset_covid19/train/PNEUMONIA/85E52EB3-56E9-4D67-82DA-DEA247C82886.jpeg  \n",
            "  inflating: xray_dataset_covid19/train/PNEUMONIA/8FDE8DBA-CFBD-4B4C-B1A4-6F36A93B7E87.jpeg  \n",
            "  inflating: xray_dataset_covid19/train/PNEUMONIA/93FE0BB1-022D-4F24-9727-987A07975FFB.jpeg  \n",
            "  inflating: xray_dataset_covid19/train/PNEUMONIA/9C34AF49-E589-44D5-92D3-168B3B04E4A6.jpeg  \n",
            "  inflating: xray_dataset_covid19/train/PNEUMONIA/ARDSSevere.png  \n",
            "  inflating: xray_dataset_covid19/train/PNEUMONIA/B59DD164-51D5-40DF-A926-6A42DD52EBE8.jpeg  \n",
            "  inflating: xray_dataset_covid19/train/PNEUMONIA/C6EA0BE5-B01E-4113-B194-18D956675E25.jpeg  \n",
            "  inflating: xray_dataset_covid19/train/PNEUMONIA/CD50BA96-6982-4C80-AE7B-5F67ACDBFA56.jpeg  \n",
            "  inflating: xray_dataset_covid19/train/PNEUMONIA/E1724330-1866-4581-8CD8-CEC9B8AFEDDE.jpeg  \n",
            "  inflating: xray_dataset_covid19/train/PNEUMONIA/E63574A7-4188-4C8D-8D17-9D67A18A1AFA.jpeg  \n",
            "  inflating: xray_dataset_covid19/train/PNEUMONIA/F051E018-DAD1-4506-AD43-BE4CA29E960B.jpeg  \n",
            "  inflating: xray_dataset_covid19/train/PNEUMONIA/F4341CE7-73C9-45C6-99C8-8567A5484B63.jpeg  \n",
            "  inflating: xray_dataset_covid19/train/PNEUMONIA/F63AB6CE-1968-4154-A70F-913AF154F53D.jpeg  \n",
            "  inflating: xray_dataset_covid19/train/PNEUMONIA/MERS-CoV-1-s2.0-S0378603X1500248X-gr4e.jpg  \n",
            "  inflating: xray_dataset_covid19/train/PNEUMONIA/acute-respiratory-distress-syndrome-ards-1.jpg  \n",
            "  inflating: xray_dataset_covid19/train/PNEUMONIA/all14238-fig-0001-m-b.jpg  \n",
            "  inflating: xray_dataset_covid19/train/PNEUMONIA/all14238-fig-0001-m-c.jpg  \n",
            "  inflating: xray_dataset_covid19/train/PNEUMONIA/all14238-fig-0002-m-e.jpg  \n",
            "  inflating: xray_dataset_covid19/train/PNEUMONIA/ards-secondary-to-tiger-snake-bite.png  \n",
            "  inflating: xray_dataset_covid19/train/PNEUMONIA/auntminnie-2020_01_31_20_24_2322_2020_01_31_x-ray_coronavirus_US.jpg  \n",
            "  inflating: xray_dataset_covid19/train/PNEUMONIA/auntminnie-b-2020_01_28_23_51_6665_2020_01_28_Vietnam_coronavirus.jpeg  \n",
            "  inflating: xray_dataset_covid19/train/PNEUMONIA/auntminnie-c-2020_01_28_23_51_6665_2020_01_28_Vietnam_coronavirus.jpeg  \n",
            "  inflating: xray_dataset_covid19/train/PNEUMONIA/auntminnie-d-2020_01_28_23_51_6665_2020_01_28_Vietnam_coronavirus.jpeg  \n",
            "  inflating: xray_dataset_covid19/train/PNEUMONIA/covid-19-pneumonia-12.jpg  \n",
            "  inflating: xray_dataset_covid19/train/PNEUMONIA/covid-19-pneumonia-14-PA.png  \n",
            "  inflating: xray_dataset_covid19/train/PNEUMONIA/covid-19-pneumonia-15-PA.jpg  \n",
            "  inflating: xray_dataset_covid19/train/PNEUMONIA/covid-19-pneumonia-7-PA.jpg  \n",
            "  inflating: xray_dataset_covid19/train/PNEUMONIA/jkms-35-e79-g001-l-a.jpg  \n",
            "  inflating: xray_dataset_covid19/train/PNEUMONIA/jkms-35-e79-g001-l-b.jpg  \n",
            "  inflating: xray_dataset_covid19/train/PNEUMONIA/jkms-35-e79-g001-l-c.jpg  \n",
            "  inflating: xray_dataset_covid19/train/PNEUMONIA/kjr-21-e24-g001-l-a.jpg  \n",
            "  inflating: xray_dataset_covid19/train/PNEUMONIA/kjr-21-e24-g002-l-a.jpg  \n",
            "  inflating: xray_dataset_covid19/train/PNEUMONIA/kjr-21-e24-g003-l-a.jpg  \n",
            "  inflating: xray_dataset_covid19/train/PNEUMONIA/kjr-21-e25-g001-l-a.jpg  \n",
            "  inflating: xray_dataset_covid19/train/PNEUMONIA/lancet-case2a.jpg  \n",
            "  inflating: xray_dataset_covid19/train/PNEUMONIA/nCoV-Snohomish-20382862_web1_M1-Lungs-EDH-200201-640x300@2x.jpg  \n",
            "  inflating: xray_dataset_covid19/train/PNEUMONIA/nCoV-radiol.2020200269.fig1-day7.jpeg  \n",
            "  inflating: xray_dataset_covid19/train/PNEUMONIA/nejmc2001573_f1a.jpeg  \n",
            "  inflating: xray_dataset_covid19/train/PNEUMONIA/nejmc2001573_f1b.jpeg  \n",
            "  inflating: xray_dataset_covid19/train/PNEUMONIA/nejmoa2001191_f1-PA.jpeg  \n",
            "  inflating: xray_dataset_covid19/train/PNEUMONIA/nejmoa2001191_f3-PA.jpeg  \n",
            "  inflating: xray_dataset_covid19/train/PNEUMONIA/nejmoa2001191_f4.jpeg  \n",
            "  inflating: xray_dataset_covid19/train/PNEUMONIA/nejmoa2001191_f5-PA.jpeg  \n",
            "  inflating: xray_dataset_covid19/train/PNEUMONIA/pneumocystis-pneumonia-2-PA.png  \n",
            "  inflating: xray_dataset_covid19/train/PNEUMONIA/ryct.2020200028.fig1a.jpeg  \n"
          ]
        }
      ],
      "source": [
        "! mkdir ~/.kaggle\n",
        "! cp kaggle.json ~/.kaggle/\n",
        "! chmod 600 ~/.kaggle/kaggle.json\n",
        "! kaggle datasets download -d khoongweihao/covid19-xray-dataset-train-test-sets\n",
        "! unzip covid19-xray-dataset-train-test-sets.zip"
      ]
    },
    {
      "cell_type": "code",
      "source": [
        "import tensorflow as tf\n",
        "import cv2 as cv\n",
        "from tensorflow.keras.preprocessing.image import ImageDataGenerator\n",
        "import matplotlib.pyplot as plt\n",
        "import pandas as pd\n",
        "from glob import glob"
      ],
      "metadata": {
        "id": "uep8-tc8iSvt"
      },
      "execution_count": 2,
      "outputs": []
    },
    {
      "cell_type": "code",
      "source": [
        "train_dir='/content/xray_dataset_covid19/train/'\n",
        "test_dir='/content/xray_dataset_covid19/test/'"
      ],
      "metadata": {
        "id": "pxLjIHnRiv1a"
      },
      "execution_count": 3,
      "outputs": []
    },
    {
      "cell_type": "code",
      "source": [
        "import os\n",
        "train_normal_dir = os.path.join(train_dir,'NORMAL')\n",
        "train_pneumonia_dir = os.path.join(train_dir,'PNEUMONIA')\n",
        "validation_normal_dir = os.path.join(test_dir,'NORMAL')\n",
        "validation_pneumonia_dir = os.path.join(test_dir,'PNEUMONIA')"
      ],
      "metadata": {
        "id": "t3zE53iam90z"
      },
      "execution_count": 4,
      "outputs": []
    },
    {
      "cell_type": "code",
      "source": [
        "print('total training normal-rays :', len(os.listdir(train_normal_dir)))\n",
        "print('total training Pneumonia x-rays:', len(os.listdir(train_pneumonia_dir)))\n",
        "print('total test normal-rays :', len(os.listdir(validation_normal_dir)))\n",
        "print('total test Pneumonia x-rays:', len(os.listdir(validation_pneumonia_dir)))"
      ],
      "metadata": {
        "colab": {
          "base_uri": "https://localhost:8080/"
        },
        "id": "d2V489PznNCv",
        "outputId": "dd92022d-e83c-46e0-e188-d09a3a38d13b"
      },
      "execution_count": 5,
      "outputs": [
        {
          "output_type": "stream",
          "name": "stdout",
          "text": [
            "total training normal-rays : 74\n",
            "total training Pneumonia x-rays: 74\n",
            "total test normal-rays : 20\n",
            "total test Pneumonia x-rays: 20\n"
          ]
        }
      ]
    },
    {
      "cell_type": "code",
      "source": [
        "train_datagen=ImageDataGenerator(    \n",
        "    rescale=1./255, width_shift_range=0.2,\n",
        "    shear_range=0.2, height_shift_range = 0.2,\n",
        "    zoom_range=0.2, \n",
        "    horizontal_flip=True)\n",
        "\n",
        "test_datagen = ImageDataGenerator(rescale = 1./255)\n",
        "\n",
        "train_generator=train_datagen.flow_from_directory(\n",
        "    train_dir,\n",
        "    target_size=(64,64),\n",
        "    batch_size=16,\n",
        "    class_mode='binary',\n",
        "    subset='training'\n",
        ")\n",
        "# valid_generator=train_datagen.flow_from_directory(\n",
        "#     train_dir,\n",
        "#     target_size=(64,64),\n",
        "#     batch_size=16,\n",
        "#     class_mode='binary',\n",
        "#     subset='validation'\n",
        "# )\n",
        "\n",
        "test_generator = test_datagen.flow_from_directory(\n",
        "    test_dir, # same directory as training data\n",
        "    target_size=(64, 64),\n",
        "    batch_size=16,\n",
        "    class_mode='binary')"
      ],
      "metadata": {
        "id": "p2UXTAUNBLIJ",
        "colab": {
          "base_uri": "https://localhost:8080/"
        },
        "outputId": "d79a8a5e-243d-4b41-ce68-48781c6ec1a9"
      },
      "execution_count": 19,
      "outputs": [
        {
          "output_type": "stream",
          "name": "stdout",
          "text": [
            "Found 148 images belonging to 2 classes.\n",
            "Found 40 images belonging to 2 classes.\n"
          ]
        }
      ]
    },
    {
      "cell_type": "code",
      "source": [
        "from tensorflow.keras.models import Sequential\n",
        "from tensorflow.keras.layers import Activation, Dropout, Flatten, Dense, Conv2D, MaxPooling2D,BatchNormalization,Dropout\n"
      ],
      "metadata": {
        "id": "i1D7hm291iNJ"
      },
      "execution_count": 20,
      "outputs": []
    },
    {
      "cell_type": "code",
      "source": [
        "#from tensorflow.python.keras.layers.normalization.batch_normalization import BatchNormalization\n",
        "\n",
        "callback = tf.keras.callbacks.EarlyStopping(monitor='loss', patience=3)\n",
        "model_checkpoint_callback = tf.keras.callbacks.ModelCheckpoint( \n",
        "    os.path.join(os.getcwd(),'model.h5'),\n",
        "    save_weights_only=True,\n",
        "    monitor='val_accuracy',\n",
        "    save_best_only=True)\n",
        "model=Sequential([\n",
        "    Conv2D(32, (3, 3), activation='relu', input_shape=(64,64, 3)),\n",
        "    BatchNormalization(),\n",
        "    MaxPooling2D((2, 2)),\n",
        "    Conv2D(64, (3, 3), activation='relu'),\n",
        "    Conv2D(64, (3, 3), activation='relu'),\n",
        "    \n",
        "    MaxPooling2D(),\n",
        "    Conv2D(128, (3, 3), activation='relu'),\n",
        "    Dropout(0.2),\n",
        "    Flatten(),\n",
        "    #Dense(300,activation='relu',kernel_initializer=\"he_normal\"),\n",
        "    Dense(100,activation='relu'),\n",
        "    Dense(1, activation='sigmoid')\n",
        "])\n",
        "model.compile(optimizer='adam',\n",
        "              loss='binary_crossentropy',\n",
        "              metrics=['accuracy'],\n",
        "              )\n",
        "hist = model.fit(train_generator,validation_data=test_generator,epochs=20,callbacks=[callback,model_checkpoint_callback])"
      ],
      "metadata": {
        "colab": {
          "base_uri": "https://localhost:8080/"
        },
        "id": "Gv3xgdY61wSQ",
        "outputId": "f97d2024-0028-4674-80f1-b38542c79fde"
      },
      "execution_count": 22,
      "outputs": [
        {
          "output_type": "stream",
          "name": "stdout",
          "text": [
            "Epoch 1/20\n",
            "10/10 [==============================] - 9s 809ms/step - loss: 0.7480 - accuracy: 0.6486 - val_loss: 0.6941 - val_accuracy: 0.5000\n",
            "Epoch 2/20\n",
            "10/10 [==============================] - 7s 737ms/step - loss: 0.6288 - accuracy: 0.7230 - val_loss: 0.6778 - val_accuracy: 0.8000\n",
            "Epoch 3/20\n",
            "10/10 [==============================] - 7s 641ms/step - loss: 0.4221 - accuracy: 0.8041 - val_loss: 0.6235 - val_accuracy: 0.7000\n",
            "Epoch 4/20\n",
            "10/10 [==============================] - 7s 744ms/step - loss: 0.3392 - accuracy: 0.8446 - val_loss: 0.5721 - val_accuracy: 0.7500\n",
            "Epoch 5/20\n",
            "10/10 [==============================] - 7s 738ms/step - loss: 0.3014 - accuracy: 0.8581 - val_loss: 0.5198 - val_accuracy: 0.7500\n",
            "Epoch 6/20\n",
            "10/10 [==============================] - 7s 790ms/step - loss: 0.2905 - accuracy: 0.8649 - val_loss: 0.5703 - val_accuracy: 0.5500\n",
            "Epoch 7/20\n",
            "10/10 [==============================] - 7s 716ms/step - loss: 0.3656 - accuracy: 0.8581 - val_loss: 0.6216 - val_accuracy: 0.6250\n",
            "Epoch 8/20\n",
            "10/10 [==============================] - 7s 739ms/step - loss: 0.2742 - accuracy: 0.8514 - val_loss: 0.5772 - val_accuracy: 0.7750\n",
            "Epoch 9/20\n",
            "10/10 [==============================] - 7s 745ms/step - loss: 0.3211 - accuracy: 0.8851 - val_loss: 0.5514 - val_accuracy: 0.8750\n",
            "Epoch 10/20\n",
            "10/10 [==============================] - 7s 707ms/step - loss: 0.2815 - accuracy: 0.8716 - val_loss: 0.4113 - val_accuracy: 0.9000\n",
            "Epoch 11/20\n",
            "10/10 [==============================] - 7s 744ms/step - loss: 0.2655 - accuracy: 0.9122 - val_loss: 0.4030 - val_accuracy: 0.8500\n",
            "Epoch 12/20\n",
            "10/10 [==============================] - 7s 734ms/step - loss: 0.2095 - accuracy: 0.9324 - val_loss: 0.4196 - val_accuracy: 0.9250\n",
            "Epoch 13/20\n",
            "10/10 [==============================] - 7s 710ms/step - loss: 0.1795 - accuracy: 0.9257 - val_loss: 0.3793 - val_accuracy: 0.9250\n",
            "Epoch 14/20\n",
            "10/10 [==============================] - 7s 703ms/step - loss: 0.1943 - accuracy: 0.9122 - val_loss: 0.3845 - val_accuracy: 0.9000\n",
            "Epoch 15/20\n",
            "10/10 [==============================] - 7s 737ms/step - loss: 0.2106 - accuracy: 0.9324 - val_loss: 0.3391 - val_accuracy: 0.9500\n",
            "Epoch 16/20\n",
            "10/10 [==============================] - 7s 738ms/step - loss: 0.1987 - accuracy: 0.9324 - val_loss: 0.3606 - val_accuracy: 0.8750\n"
          ]
        }
      ]
    },
    {
      "cell_type": "code",
      "source": [
        "# plot the loss\n",
        "plt.plot(hist.history['loss'], label='train loss')\n",
        "plt.plot(hist.history['val_loss'], label='val loss')\n",
        "plt.legend()\n",
        "plt.show()\n",
        "plt.savefig('LossVal_loss')\n",
        "\n",
        "# plot the accuracy\n",
        "plt.plot(hist.history['accuracy'], label='train acc')\n",
        "plt.plot(hist.history['val_accuracy'], label='val acc')\n",
        "plt.legend()\n",
        "plt.show()\n",
        "plt.savefig('AccVal_acc')"
      ],
      "metadata": {
        "colab": {
          "base_uri": "https://localhost:8080/",
          "height": 531
        },
        "id": "4ApnntCF1y5N",
        "outputId": "ddb112bc-ac34-40c4-d2a7-e3e7d4d2a197"
      },
      "execution_count": 23,
      "outputs": [
        {
          "output_type": "display_data",
          "data": {
            "image/png": "[encoded data removed]",
            "text/plain": [
              "<Figure size 432x288 with 1 Axes>"
            ]
          },
          "metadata": {
            "needs_background": "light"
          }
        },
        {
          "output_type": "display_data",
          "data": {
            "image/png": "[encoded data removed]",
            "text/plain": [
              "<Figure size 432x288 with 1 Axes>"
            ]
          },
          "metadata": {
            "needs_background": "light"
          }
        },
        {
          "output_type": "display_data",
          "data": {
            "text/plain": [
              "<Figure size 432x288 with 0 Axes>"
            ]
          },
          "metadata": {}
        }
      ]
    },
    {
      "cell_type": "code",
      "source": [
        ""
      ],
      "metadata": {
        "id": "oPbMiFJ9BuIY"
      },
      "execution_count": null,
      "outputs": []
    }
  ]
}